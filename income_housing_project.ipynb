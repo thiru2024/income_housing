{
  "nbformat": 4,
  "nbformat_minor": 0,
  "metadata": {
    "colab": {
      "name": "income_housing_project",
      "provenance": [],
      "collapsed_sections": [],
      "include_colab_link": true
    },
    "kernelspec": {
      "display_name": "Python 3",
      "name": "python3"
    }
  },
  "cells": [
    {
      "cell_type": "markdown",
      "metadata": {
        "id": "view-in-github",
        "colab_type": "text"
      },
      "source": [
        "<a href=\"https://colab.research.google.com/github/thiru2024/income_qualification-/blob/main/income_housing_project.ipynb\" target=\"_parent\"><img src=\"https://colab.research.google.com/assets/colab-badge.svg\" alt=\"Open In Colab\"/></a>"
      ]
    },
    {
      "cell_type": "markdown",
      "metadata": {
        "id": "Q2fSRpGox9Eo"
      },
      "source": [
        "\n",
        "\n",
        "```\n",
        "\n",
        "```\n",
        "\n"
      ]
    },
    {
      "cell_type": "code",
      "metadata": {
        "id": "unFtk5Wex8OR",
        "colab": {
          "base_uri": "https://localhost:8080/"
        },
        "outputId": "cada290f-0e49-40ea-9936-ffed4ce8f7d4"
      },
      "source": [
        "!!git clone https://github.com/Simplilearn-Edu/Machine-Learning--Projects.git"
      ],
      "execution_count": 11,
      "outputs": [
        {
          "output_type": "execute_result",
          "data": {
            "text/plain": [
              "[\"fatal: destination path 'Machine-Learning--Projects' already exists and is not an empty directory.\"]"
            ]
          },
          "metadata": {
            "tags": []
          },
          "execution_count": 11
        }
      ]
    },
    {
      "cell_type": "code",
      "metadata": {
        "id": "CfZrbOVQyRKN",
        "colab": {
          "base_uri": "https://localhost:8080/"
        },
        "outputId": "ebe4e81c-043f-4796-cdbb-372236afabf3"
      },
      "source": [
        "!ls Machine-Learning--Projects/Projects/'Projects for Submission'/'Project 2 - Income Qualification'"
      ],
      "execution_count": 12,
      "outputs": [
        {
          "output_type": "stream",
          "text": [
            "'Dataset for the project.zip'  'Income Qualification.txt'\n"
          ],
          "name": "stdout"
        }
      ]
    },
    {
      "cell_type": "code",
      "metadata": {
        "colab": {
          "base_uri": "https://localhost:8080/"
        },
        "id": "CjAZdMi4__pS",
        "outputId": "e5d5dd85-034f-41d0-da21-0cb669514681"
      },
      "source": [
        "!unzip Machine-Learning--Projects/Projects/'Projects for Submission'/'Project 2 - Income Qualification'/'Dataset for the project.zip'"
      ],
      "execution_count": 13,
      "outputs": [
        {
          "output_type": "stream",
          "text": [
            "Archive:  Machine-Learning--Projects/Projects/Projects for Submission/Project 2 - Income Qualification/Dataset for the project.zip\n",
            "   creating: Dataset for the project/\n",
            "  inflating: Dataset for the project/test.csv  \n",
            "  inflating: Dataset for the project/train.csv  \n"
          ],
          "name": "stdout"
        }
      ]
    },
    {
      "cell_type": "code",
      "metadata": {
        "id": "H69p1mJdyVNA",
        "colab": {
          "base_uri": "https://localhost:8080/"
        },
        "outputId": "6e7143a6-9f05-47c5-ef95-9649f9f877fb"
      },
      "source": [
        "!mv 'Dataset for the project' data\n",
        "!ls data"
      ],
      "execution_count": 14,
      "outputs": [
        {
          "output_type": "stream",
          "text": [
            "'Dataset for the project'   test.csv   train.csv\n"
          ],
          "name": "stdout"
        }
      ]
    },
    {
      "cell_type": "code",
      "metadata": {
        "id": "Q_XIZO9EyXSh"
      },
      "source": [
        "import pandas as pd\n",
        "import numpy as np\n",
        "\n",
        "data=pd.read_csv('data/train.csv')"
      ],
      "execution_count": 15,
      "outputs": []
    },
    {
      "cell_type": "code",
      "metadata": {
        "id": "rUWmCpulysZF",
        "colab": {
          "base_uri": "https://localhost:8080/"
        },
        "outputId": "a12641ac-7153-4499-f06e-9ea08ef1538c"
      },
      "source": [
        "data.info()"
      ],
      "execution_count": 16,
      "outputs": [
        {
          "output_type": "stream",
          "text": [
            "<class 'pandas.core.frame.DataFrame'>\n",
            "RangeIndex: 9557 entries, 0 to 9556\n",
            "Columns: 143 entries, Id to Target\n",
            "dtypes: float64(8), int64(130), object(5)\n",
            "memory usage: 10.4+ MB\n"
          ],
          "name": "stdout"
        }
      ]
    },
    {
      "cell_type": "code",
      "metadata": {
        "id": "fY1pmtJJyyvB",
        "colab": {
          "base_uri": "https://localhost:8080/"
        },
        "outputId": "6c0fc173-8a93-4626-9cc4-fd1258d70f06"
      },
      "source": [
        "data.columns[data.dtypes==object]"
      ],
      "execution_count": 17,
      "outputs": [
        {
          "output_type": "execute_result",
          "data": {
            "text/plain": [
              "Index(['Id', 'idhogar', 'dependency', 'edjefe', 'edjefa'], dtype='object')"
            ]
          },
          "metadata": {
            "tags": []
          },
          "execution_count": 17
        }
      ]
    },
    {
      "cell_type": "code",
      "metadata": {
        "id": "v1Rd4h-by05R",
        "colab": {
          "base_uri": "https://localhost:8080/"
        },
        "outputId": "c18ac9fb-7d1e-43d9-97ca-b16faa5ffbef"
      },
      "source": [
        "data['dependency'].unique()"
      ],
      "execution_count": 18,
      "outputs": [
        {
          "output_type": "execute_result",
          "data": {
            "text/plain": [
              "array(['no', '8', 'yes', '3', '.5', '.25', '2', '.66666669', '.33333334',\n",
              "       '1.5', '.40000001', '.75', '1.25', '.2', '2.5', '1.2', '4',\n",
              "       '1.3333334', '2.25', '.22222222', '5', '.83333331', '.80000001',\n",
              "       '6', '3.5', '1.6666666', '.2857143', '1.75', '.71428573',\n",
              "       '.16666667', '.60000002'], dtype=object)"
            ]
          },
          "metadata": {
            "tags": []
          },
          "execution_count": 18
        }
      ]
    },
    {
      "cell_type": "code",
      "metadata": {
        "id": "7NfsYEYNy3AH",
        "colab": {
          "base_uri": "https://localhost:8080/",
          "height": 98
        },
        "outputId": "46a7be60-2122-4116-a415-50ac9ede12bb"
      },
      "source": [
        "data[(data['dependency']=='no') & (data['SQBdependency']!=0)]"
      ],
      "execution_count": 19,
      "outputs": [
        {
          "output_type": "execute_result",
          "data": {
            "text/html": [
              "<div>\n",
              "<style scoped>\n",
              "    .dataframe tbody tr th:only-of-type {\n",
              "        vertical-align: middle;\n",
              "    }\n",
              "\n",
              "    .dataframe tbody tr th {\n",
              "        vertical-align: top;\n",
              "    }\n",
              "\n",
              "    .dataframe thead th {\n",
              "        text-align: right;\n",
              "    }\n",
              "</style>\n",
              "<table border=\"1\" class=\"dataframe\">\n",
              "  <thead>\n",
              "    <tr style=\"text-align: right;\">\n",
              "      <th></th>\n",
              "      <th>Id</th>\n",
              "      <th>v2a1</th>\n",
              "      <th>hacdor</th>\n",
              "      <th>rooms</th>\n",
              "      <th>hacapo</th>\n",
              "      <th>v14a</th>\n",
              "      <th>refrig</th>\n",
              "      <th>v18q</th>\n",
              "      <th>v18q1</th>\n",
              "      <th>r4h1</th>\n",
              "      <th>r4h2</th>\n",
              "      <th>r4h3</th>\n",
              "      <th>r4m1</th>\n",
              "      <th>r4m2</th>\n",
              "      <th>r4m3</th>\n",
              "      <th>r4t1</th>\n",
              "      <th>r4t2</th>\n",
              "      <th>r4t3</th>\n",
              "      <th>tamhog</th>\n",
              "      <th>tamviv</th>\n",
              "      <th>escolari</th>\n",
              "      <th>rez_esc</th>\n",
              "      <th>hhsize</th>\n",
              "      <th>paredblolad</th>\n",
              "      <th>paredzocalo</th>\n",
              "      <th>paredpreb</th>\n",
              "      <th>pareddes</th>\n",
              "      <th>paredmad</th>\n",
              "      <th>paredzinc</th>\n",
              "      <th>paredfibras</th>\n",
              "      <th>paredother</th>\n",
              "      <th>pisomoscer</th>\n",
              "      <th>pisocemento</th>\n",
              "      <th>pisoother</th>\n",
              "      <th>pisonatur</th>\n",
              "      <th>pisonotiene</th>\n",
              "      <th>pisomadera</th>\n",
              "      <th>techozinc</th>\n",
              "      <th>techoentrepiso</th>\n",
              "      <th>techocane</th>\n",
              "      <th>...</th>\n",
              "      <th>meaneduc</th>\n",
              "      <th>instlevel1</th>\n",
              "      <th>instlevel2</th>\n",
              "      <th>instlevel3</th>\n",
              "      <th>instlevel4</th>\n",
              "      <th>instlevel5</th>\n",
              "      <th>instlevel6</th>\n",
              "      <th>instlevel7</th>\n",
              "      <th>instlevel8</th>\n",
              "      <th>instlevel9</th>\n",
              "      <th>bedrooms</th>\n",
              "      <th>overcrowding</th>\n",
              "      <th>tipovivi1</th>\n",
              "      <th>tipovivi2</th>\n",
              "      <th>tipovivi3</th>\n",
              "      <th>tipovivi4</th>\n",
              "      <th>tipovivi5</th>\n",
              "      <th>computer</th>\n",
              "      <th>television</th>\n",
              "      <th>mobilephone</th>\n",
              "      <th>qmobilephone</th>\n",
              "      <th>lugar1</th>\n",
              "      <th>lugar2</th>\n",
              "      <th>lugar3</th>\n",
              "      <th>lugar4</th>\n",
              "      <th>lugar5</th>\n",
              "      <th>lugar6</th>\n",
              "      <th>area1</th>\n",
              "      <th>area2</th>\n",
              "      <th>age</th>\n",
              "      <th>SQBescolari</th>\n",
              "      <th>SQBage</th>\n",
              "      <th>SQBhogar_total</th>\n",
              "      <th>SQBedjefe</th>\n",
              "      <th>SQBhogar_nin</th>\n",
              "      <th>SQBovercrowding</th>\n",
              "      <th>SQBdependency</th>\n",
              "      <th>SQBmeaned</th>\n",
              "      <th>agesq</th>\n",
              "      <th>Target</th>\n",
              "    </tr>\n",
              "  </thead>\n",
              "  <tbody>\n",
              "  </tbody>\n",
              "</table>\n",
              "<p>0 rows × 143 columns</p>\n",
              "</div>"
            ],
            "text/plain": [
              "Empty DataFrame\n",
              "Columns: [Id, v2a1, hacdor, rooms, hacapo, v14a, refrig, v18q, v18q1, r4h1, r4h2, r4h3, r4m1, r4m2, r4m3, r4t1, r4t2, r4t3, tamhog, tamviv, escolari, rez_esc, hhsize, paredblolad, paredzocalo, paredpreb, pareddes, paredmad, paredzinc, paredfibras, paredother, pisomoscer, pisocemento, pisoother, pisonatur, pisonotiene, pisomadera, techozinc, techoentrepiso, techocane, techootro, cielorazo, abastaguadentro, abastaguafuera, abastaguano, public, planpri, noelec, coopele, sanitario1, sanitario2, sanitario3, sanitario5, sanitario6, energcocinar1, energcocinar2, energcocinar3, energcocinar4, elimbasu1, elimbasu2, elimbasu3, elimbasu4, elimbasu5, elimbasu6, epared1, epared2, epared3, etecho1, etecho2, etecho3, eviv1, eviv2, eviv3, dis, male, female, estadocivil1, estadocivil2, estadocivil3, estadocivil4, estadocivil5, estadocivil6, estadocivil7, parentesco1, parentesco2, parentesco3, parentesco4, parentesco5, parentesco6, parentesco7, parentesco8, parentesco9, parentesco10, parentesco11, parentesco12, idhogar, hogar_nin, hogar_adul, hogar_mayor, hogar_total, ...]\n",
              "Index: []\n",
              "\n",
              "[0 rows x 143 columns]"
            ]
          },
          "metadata": {
            "tags": []
          },
          "execution_count": 19
        }
      ]
    },
    {
      "cell_type": "code",
      "metadata": {
        "id": "MSXZVpBEy58S",
        "colab": {
          "base_uri": "https://localhost:8080/",
          "height": 98
        },
        "outputId": "9d153c02-7f14-4fac-a54b-156681fd2c0e"
      },
      "source": [
        "data[(data['dependency']=='yes') & (data['SQBdependency']!=1)]"
      ],
      "execution_count": 20,
      "outputs": [
        {
          "output_type": "execute_result",
          "data": {
            "text/html": [
              "<div>\n",
              "<style scoped>\n",
              "    .dataframe tbody tr th:only-of-type {\n",
              "        vertical-align: middle;\n",
              "    }\n",
              "\n",
              "    .dataframe tbody tr th {\n",
              "        vertical-align: top;\n",
              "    }\n",
              "\n",
              "    .dataframe thead th {\n",
              "        text-align: right;\n",
              "    }\n",
              "</style>\n",
              "<table border=\"1\" class=\"dataframe\">\n",
              "  <thead>\n",
              "    <tr style=\"text-align: right;\">\n",
              "      <th></th>\n",
              "      <th>Id</th>\n",
              "      <th>v2a1</th>\n",
              "      <th>hacdor</th>\n",
              "      <th>rooms</th>\n",
              "      <th>hacapo</th>\n",
              "      <th>v14a</th>\n",
              "      <th>refrig</th>\n",
              "      <th>v18q</th>\n",
              "      <th>v18q1</th>\n",
              "      <th>r4h1</th>\n",
              "      <th>r4h2</th>\n",
              "      <th>r4h3</th>\n",
              "      <th>r4m1</th>\n",
              "      <th>r4m2</th>\n",
              "      <th>r4m3</th>\n",
              "      <th>r4t1</th>\n",
              "      <th>r4t2</th>\n",
              "      <th>r4t3</th>\n",
              "      <th>tamhog</th>\n",
              "      <th>tamviv</th>\n",
              "      <th>escolari</th>\n",
              "      <th>rez_esc</th>\n",
              "      <th>hhsize</th>\n",
              "      <th>paredblolad</th>\n",
              "      <th>paredzocalo</th>\n",
              "      <th>paredpreb</th>\n",
              "      <th>pareddes</th>\n",
              "      <th>paredmad</th>\n",
              "      <th>paredzinc</th>\n",
              "      <th>paredfibras</th>\n",
              "      <th>paredother</th>\n",
              "      <th>pisomoscer</th>\n",
              "      <th>pisocemento</th>\n",
              "      <th>pisoother</th>\n",
              "      <th>pisonatur</th>\n",
              "      <th>pisonotiene</th>\n",
              "      <th>pisomadera</th>\n",
              "      <th>techozinc</th>\n",
              "      <th>techoentrepiso</th>\n",
              "      <th>techocane</th>\n",
              "      <th>...</th>\n",
              "      <th>meaneduc</th>\n",
              "      <th>instlevel1</th>\n",
              "      <th>instlevel2</th>\n",
              "      <th>instlevel3</th>\n",
              "      <th>instlevel4</th>\n",
              "      <th>instlevel5</th>\n",
              "      <th>instlevel6</th>\n",
              "      <th>instlevel7</th>\n",
              "      <th>instlevel8</th>\n",
              "      <th>instlevel9</th>\n",
              "      <th>bedrooms</th>\n",
              "      <th>overcrowding</th>\n",
              "      <th>tipovivi1</th>\n",
              "      <th>tipovivi2</th>\n",
              "      <th>tipovivi3</th>\n",
              "      <th>tipovivi4</th>\n",
              "      <th>tipovivi5</th>\n",
              "      <th>computer</th>\n",
              "      <th>television</th>\n",
              "      <th>mobilephone</th>\n",
              "      <th>qmobilephone</th>\n",
              "      <th>lugar1</th>\n",
              "      <th>lugar2</th>\n",
              "      <th>lugar3</th>\n",
              "      <th>lugar4</th>\n",
              "      <th>lugar5</th>\n",
              "      <th>lugar6</th>\n",
              "      <th>area1</th>\n",
              "      <th>area2</th>\n",
              "      <th>age</th>\n",
              "      <th>SQBescolari</th>\n",
              "      <th>SQBage</th>\n",
              "      <th>SQBhogar_total</th>\n",
              "      <th>SQBedjefe</th>\n",
              "      <th>SQBhogar_nin</th>\n",
              "      <th>SQBovercrowding</th>\n",
              "      <th>SQBdependency</th>\n",
              "      <th>SQBmeaned</th>\n",
              "      <th>agesq</th>\n",
              "      <th>Target</th>\n",
              "    </tr>\n",
              "  </thead>\n",
              "  <tbody>\n",
              "  </tbody>\n",
              "</table>\n",
              "<p>0 rows × 143 columns</p>\n",
              "</div>"
            ],
            "text/plain": [
              "Empty DataFrame\n",
              "Columns: [Id, v2a1, hacdor, rooms, hacapo, v14a, refrig, v18q, v18q1, r4h1, r4h2, r4h3, r4m1, r4m2, r4m3, r4t1, r4t2, r4t3, tamhog, tamviv, escolari, rez_esc, hhsize, paredblolad, paredzocalo, paredpreb, pareddes, paredmad, paredzinc, paredfibras, paredother, pisomoscer, pisocemento, pisoother, pisonatur, pisonotiene, pisomadera, techozinc, techoentrepiso, techocane, techootro, cielorazo, abastaguadentro, abastaguafuera, abastaguano, public, planpri, noelec, coopele, sanitario1, sanitario2, sanitario3, sanitario5, sanitario6, energcocinar1, energcocinar2, energcocinar3, energcocinar4, elimbasu1, elimbasu2, elimbasu3, elimbasu4, elimbasu5, elimbasu6, epared1, epared2, epared3, etecho1, etecho2, etecho3, eviv1, eviv2, eviv3, dis, male, female, estadocivil1, estadocivil2, estadocivil3, estadocivil4, estadocivil5, estadocivil6, estadocivil7, parentesco1, parentesco2, parentesco3, parentesco4, parentesco5, parentesco6, parentesco7, parentesco8, parentesco9, parentesco10, parentesco11, parentesco12, idhogar, hogar_nin, hogar_adul, hogar_mayor, hogar_total, ...]\n",
              "Index: []\n",
              "\n",
              "[0 rows x 143 columns]"
            ]
          },
          "metadata": {
            "tags": []
          },
          "execution_count": 20
        }
      ]
    },
    {
      "cell_type": "code",
      "metadata": {
        "id": "OwgL0HVLy8sa",
        "colab": {
          "base_uri": "https://localhost:8080/",
          "height": 98
        },
        "outputId": "7f593dbb-5a63-4489-d0a8-99c7991d7b11"
      },
      "source": [
        "data[(data['dependency']=='3') & (data['SQBdependency']!=9)]"
      ],
      "execution_count": 21,
      "outputs": [
        {
          "output_type": "execute_result",
          "data": {
            "text/html": [
              "<div>\n",
              "<style scoped>\n",
              "    .dataframe tbody tr th:only-of-type {\n",
              "        vertical-align: middle;\n",
              "    }\n",
              "\n",
              "    .dataframe tbody tr th {\n",
              "        vertical-align: top;\n",
              "    }\n",
              "\n",
              "    .dataframe thead th {\n",
              "        text-align: right;\n",
              "    }\n",
              "</style>\n",
              "<table border=\"1\" class=\"dataframe\">\n",
              "  <thead>\n",
              "    <tr style=\"text-align: right;\">\n",
              "      <th></th>\n",
              "      <th>Id</th>\n",
              "      <th>v2a1</th>\n",
              "      <th>hacdor</th>\n",
              "      <th>rooms</th>\n",
              "      <th>hacapo</th>\n",
              "      <th>v14a</th>\n",
              "      <th>refrig</th>\n",
              "      <th>v18q</th>\n",
              "      <th>v18q1</th>\n",
              "      <th>r4h1</th>\n",
              "      <th>r4h2</th>\n",
              "      <th>r4h3</th>\n",
              "      <th>r4m1</th>\n",
              "      <th>r4m2</th>\n",
              "      <th>r4m3</th>\n",
              "      <th>r4t1</th>\n",
              "      <th>r4t2</th>\n",
              "      <th>r4t3</th>\n",
              "      <th>tamhog</th>\n",
              "      <th>tamviv</th>\n",
              "      <th>escolari</th>\n",
              "      <th>rez_esc</th>\n",
              "      <th>hhsize</th>\n",
              "      <th>paredblolad</th>\n",
              "      <th>paredzocalo</th>\n",
              "      <th>paredpreb</th>\n",
              "      <th>pareddes</th>\n",
              "      <th>paredmad</th>\n",
              "      <th>paredzinc</th>\n",
              "      <th>paredfibras</th>\n",
              "      <th>paredother</th>\n",
              "      <th>pisomoscer</th>\n",
              "      <th>pisocemento</th>\n",
              "      <th>pisoother</th>\n",
              "      <th>pisonatur</th>\n",
              "      <th>pisonotiene</th>\n",
              "      <th>pisomadera</th>\n",
              "      <th>techozinc</th>\n",
              "      <th>techoentrepiso</th>\n",
              "      <th>techocane</th>\n",
              "      <th>...</th>\n",
              "      <th>meaneduc</th>\n",
              "      <th>instlevel1</th>\n",
              "      <th>instlevel2</th>\n",
              "      <th>instlevel3</th>\n",
              "      <th>instlevel4</th>\n",
              "      <th>instlevel5</th>\n",
              "      <th>instlevel6</th>\n",
              "      <th>instlevel7</th>\n",
              "      <th>instlevel8</th>\n",
              "      <th>instlevel9</th>\n",
              "      <th>bedrooms</th>\n",
              "      <th>overcrowding</th>\n",
              "      <th>tipovivi1</th>\n",
              "      <th>tipovivi2</th>\n",
              "      <th>tipovivi3</th>\n",
              "      <th>tipovivi4</th>\n",
              "      <th>tipovivi5</th>\n",
              "      <th>computer</th>\n",
              "      <th>television</th>\n",
              "      <th>mobilephone</th>\n",
              "      <th>qmobilephone</th>\n",
              "      <th>lugar1</th>\n",
              "      <th>lugar2</th>\n",
              "      <th>lugar3</th>\n",
              "      <th>lugar4</th>\n",
              "      <th>lugar5</th>\n",
              "      <th>lugar6</th>\n",
              "      <th>area1</th>\n",
              "      <th>area2</th>\n",
              "      <th>age</th>\n",
              "      <th>SQBescolari</th>\n",
              "      <th>SQBage</th>\n",
              "      <th>SQBhogar_total</th>\n",
              "      <th>SQBedjefe</th>\n",
              "      <th>SQBhogar_nin</th>\n",
              "      <th>SQBovercrowding</th>\n",
              "      <th>SQBdependency</th>\n",
              "      <th>SQBmeaned</th>\n",
              "      <th>agesq</th>\n",
              "      <th>Target</th>\n",
              "    </tr>\n",
              "  </thead>\n",
              "  <tbody>\n",
              "  </tbody>\n",
              "</table>\n",
              "<p>0 rows × 143 columns</p>\n",
              "</div>"
            ],
            "text/plain": [
              "Empty DataFrame\n",
              "Columns: [Id, v2a1, hacdor, rooms, hacapo, v14a, refrig, v18q, v18q1, r4h1, r4h2, r4h3, r4m1, r4m2, r4m3, r4t1, r4t2, r4t3, tamhog, tamviv, escolari, rez_esc, hhsize, paredblolad, paredzocalo, paredpreb, pareddes, paredmad, paredzinc, paredfibras, paredother, pisomoscer, pisocemento, pisoother, pisonatur, pisonotiene, pisomadera, techozinc, techoentrepiso, techocane, techootro, cielorazo, abastaguadentro, abastaguafuera, abastaguano, public, planpri, noelec, coopele, sanitario1, sanitario2, sanitario3, sanitario5, sanitario6, energcocinar1, energcocinar2, energcocinar3, energcocinar4, elimbasu1, elimbasu2, elimbasu3, elimbasu4, elimbasu5, elimbasu6, epared1, epared2, epared3, etecho1, etecho2, etecho3, eviv1, eviv2, eviv3, dis, male, female, estadocivil1, estadocivil2, estadocivil3, estadocivil4, estadocivil5, estadocivil6, estadocivil7, parentesco1, parentesco2, parentesco3, parentesco4, parentesco5, parentesco6, parentesco7, parentesco8, parentesco9, parentesco10, parentesco11, parentesco12, idhogar, hogar_nin, hogar_adul, hogar_mayor, hogar_total, ...]\n",
              "Index: []\n",
              "\n",
              "[0 rows x 143 columns]"
            ]
          },
          "metadata": {
            "tags": []
          },
          "execution_count": 21
        }
      ]
    },
    {
      "cell_type": "code",
      "metadata": {
        "id": "4XmQSCsv4RSk"
      },
      "source": [
        "data['dependency']=np.sqrt(data['SQBdependency'])"
      ],
      "execution_count": 22,
      "outputs": []
    },
    {
      "cell_type": "code",
      "metadata": {
        "id": "A2ucG5R3y-56",
        "colab": {
          "base_uri": "https://localhost:8080/"
        },
        "outputId": "ead2db61-9c87-4a24-cba5-eb260bde3aaf"
      },
      "source": [
        "data['edjefe'].unique()"
      ],
      "execution_count": 23,
      "outputs": [
        {
          "output_type": "execute_result",
          "data": {
            "text/plain": [
              "array(['10', '12', 'no', '11', '9', '15', '4', '6', '8', '17', '7', '16',\n",
              "       '14', '5', '21', '2', '19', 'yes', '3', '18', '13', '20'],\n",
              "      dtype=object)"
            ]
          },
          "metadata": {
            "tags": []
          },
          "execution_count": 23
        }
      ]
    },
    {
      "cell_type": "code",
      "metadata": {
        "id": "HMC8GGfIzBGs",
        "colab": {
          "base_uri": "https://localhost:8080/"
        },
        "outputId": "20bb8685-41d5-4bb2-a7b7-1f319ef26497"
      },
      "source": [
        "data['edjefa'].unique()\n"
      ],
      "execution_count": 24,
      "outputs": [
        {
          "output_type": "execute_result",
          "data": {
            "text/plain": [
              "array(['no', '11', '4', '10', '9', '15', '7', '14', '13', '8', '17', '6',\n",
              "       '5', '3', '16', '19', 'yes', '21', '12', '2', '20', '18'],\n",
              "      dtype=object)"
            ]
          },
          "metadata": {
            "tags": []
          },
          "execution_count": 24
        }
      ]
    },
    {
      "cell_type": "code",
      "metadata": {
        "id": "Hc5PFb-EzDUi",
        "colab": {
          "base_uri": "https://localhost:8080/"
        },
        "outputId": "34b38073-b927-40ef-8e54-92d645e668b8"
      },
      "source": [
        "data['SQBedjefe'].unique()\n"
      ],
      "execution_count": 25,
      "outputs": [
        {
          "output_type": "execute_result",
          "data": {
            "text/plain": [
              "array([100, 144,   0, 121,  81, 225,  16,  36,  64, 289,  49, 256, 196,\n",
              "        25, 441,   4, 361,   1,   9, 324, 169, 400])"
            ]
          },
          "metadata": {
            "tags": []
          },
          "execution_count": 25
        }
      ]
    },
    {
      "cell_type": "code",
      "metadata": {
        "id": "V-rJ0divzFre",
        "colab": {
          "base_uri": "https://localhost:8080/",
          "height": 665
        },
        "outputId": "673305a4-af4a-4f01-bf23-9dfb21bd878e"
      },
      "source": [
        "data[['edjefe', 'edjefa', 'SQBedjefe']][:20]"
      ],
      "execution_count": 26,
      "outputs": [
        {
          "output_type": "execute_result",
          "data": {
            "text/html": [
              "<div>\n",
              "<style scoped>\n",
              "    .dataframe tbody tr th:only-of-type {\n",
              "        vertical-align: middle;\n",
              "    }\n",
              "\n",
              "    .dataframe tbody tr th {\n",
              "        vertical-align: top;\n",
              "    }\n",
              "\n",
              "    .dataframe thead th {\n",
              "        text-align: right;\n",
              "    }\n",
              "</style>\n",
              "<table border=\"1\" class=\"dataframe\">\n",
              "  <thead>\n",
              "    <tr style=\"text-align: right;\">\n",
              "      <th></th>\n",
              "      <th>edjefe</th>\n",
              "      <th>edjefa</th>\n",
              "      <th>SQBedjefe</th>\n",
              "    </tr>\n",
              "  </thead>\n",
              "  <tbody>\n",
              "    <tr>\n",
              "      <th>0</th>\n",
              "      <td>10</td>\n",
              "      <td>no</td>\n",
              "      <td>100</td>\n",
              "    </tr>\n",
              "    <tr>\n",
              "      <th>1</th>\n",
              "      <td>12</td>\n",
              "      <td>no</td>\n",
              "      <td>144</td>\n",
              "    </tr>\n",
              "    <tr>\n",
              "      <th>2</th>\n",
              "      <td>no</td>\n",
              "      <td>11</td>\n",
              "      <td>0</td>\n",
              "    </tr>\n",
              "    <tr>\n",
              "      <th>3</th>\n",
              "      <td>11</td>\n",
              "      <td>no</td>\n",
              "      <td>121</td>\n",
              "    </tr>\n",
              "    <tr>\n",
              "      <th>4</th>\n",
              "      <td>11</td>\n",
              "      <td>no</td>\n",
              "      <td>121</td>\n",
              "    </tr>\n",
              "    <tr>\n",
              "      <th>5</th>\n",
              "      <td>11</td>\n",
              "      <td>no</td>\n",
              "      <td>121</td>\n",
              "    </tr>\n",
              "    <tr>\n",
              "      <th>6</th>\n",
              "      <td>11</td>\n",
              "      <td>no</td>\n",
              "      <td>121</td>\n",
              "    </tr>\n",
              "    <tr>\n",
              "      <th>7</th>\n",
              "      <td>9</td>\n",
              "      <td>no</td>\n",
              "      <td>81</td>\n",
              "    </tr>\n",
              "    <tr>\n",
              "      <th>8</th>\n",
              "      <td>9</td>\n",
              "      <td>no</td>\n",
              "      <td>81</td>\n",
              "    </tr>\n",
              "    <tr>\n",
              "      <th>9</th>\n",
              "      <td>9</td>\n",
              "      <td>no</td>\n",
              "      <td>81</td>\n",
              "    </tr>\n",
              "    <tr>\n",
              "      <th>10</th>\n",
              "      <td>9</td>\n",
              "      <td>no</td>\n",
              "      <td>81</td>\n",
              "    </tr>\n",
              "    <tr>\n",
              "      <th>11</th>\n",
              "      <td>no</td>\n",
              "      <td>11</td>\n",
              "      <td>0</td>\n",
              "    </tr>\n",
              "    <tr>\n",
              "      <th>12</th>\n",
              "      <td>no</td>\n",
              "      <td>11</td>\n",
              "      <td>0</td>\n",
              "    </tr>\n",
              "    <tr>\n",
              "      <th>13</th>\n",
              "      <td>no</td>\n",
              "      <td>4</td>\n",
              "      <td>0</td>\n",
              "    </tr>\n",
              "    <tr>\n",
              "      <th>14</th>\n",
              "      <td>no</td>\n",
              "      <td>4</td>\n",
              "      <td>0</td>\n",
              "    </tr>\n",
              "    <tr>\n",
              "      <th>15</th>\n",
              "      <td>no</td>\n",
              "      <td>10</td>\n",
              "      <td>0</td>\n",
              "    </tr>\n",
              "    <tr>\n",
              "      <th>16</th>\n",
              "      <td>no</td>\n",
              "      <td>10</td>\n",
              "      <td>0</td>\n",
              "    </tr>\n",
              "    <tr>\n",
              "      <th>17</th>\n",
              "      <td>no</td>\n",
              "      <td>10</td>\n",
              "      <td>0</td>\n",
              "    </tr>\n",
              "    <tr>\n",
              "      <th>18</th>\n",
              "      <td>no</td>\n",
              "      <td>10</td>\n",
              "      <td>0</td>\n",
              "    </tr>\n",
              "    <tr>\n",
              "      <th>19</th>\n",
              "      <td>15</td>\n",
              "      <td>no</td>\n",
              "      <td>225</td>\n",
              "    </tr>\n",
              "  </tbody>\n",
              "</table>\n",
              "</div>"
            ],
            "text/plain": [
              "   edjefe edjefa  SQBedjefe\n",
              "0      10     no        100\n",
              "1      12     no        144\n",
              "2      no     11          0\n",
              "3      11     no        121\n",
              "4      11     no        121\n",
              "5      11     no        121\n",
              "6      11     no        121\n",
              "7       9     no         81\n",
              "8       9     no         81\n",
              "9       9     no         81\n",
              "10      9     no         81\n",
              "11     no     11          0\n",
              "12     no     11          0\n",
              "13     no      4          0\n",
              "14     no      4          0\n",
              "15     no     10          0\n",
              "16     no     10          0\n",
              "17     no     10          0\n",
              "18     no     10          0\n",
              "19     15     no        225"
            ]
          },
          "metadata": {
            "tags": []
          },
          "execution_count": 26
        }
      ]
    },
    {
      "cell_type": "code",
      "metadata": {
        "id": "qN-7eDYBzH3y",
        "colab": {
          "base_uri": "https://localhost:8080/",
          "height": 417
        },
        "outputId": "6b215b0c-6d23-47e0-cbf6-6d6a82e08e07"
      },
      "source": [
        "data[['edjefe', 'edjefa', 'SQBedjefe']][data['edjefe']=='yes']"
      ],
      "execution_count": 27,
      "outputs": [
        {
          "output_type": "execute_result",
          "data": {
            "text/html": [
              "<div>\n",
              "<style scoped>\n",
              "    .dataframe tbody tr th:only-of-type {\n",
              "        vertical-align: middle;\n",
              "    }\n",
              "\n",
              "    .dataframe tbody tr th {\n",
              "        vertical-align: top;\n",
              "    }\n",
              "\n",
              "    .dataframe thead th {\n",
              "        text-align: right;\n",
              "    }\n",
              "</style>\n",
              "<table border=\"1\" class=\"dataframe\">\n",
              "  <thead>\n",
              "    <tr style=\"text-align: right;\">\n",
              "      <th></th>\n",
              "      <th>edjefe</th>\n",
              "      <th>edjefa</th>\n",
              "      <th>SQBedjefe</th>\n",
              "    </tr>\n",
              "  </thead>\n",
              "  <tbody>\n",
              "    <tr>\n",
              "      <th>601</th>\n",
              "      <td>yes</td>\n",
              "      <td>no</td>\n",
              "      <td>1</td>\n",
              "    </tr>\n",
              "    <tr>\n",
              "      <th>602</th>\n",
              "      <td>yes</td>\n",
              "      <td>no</td>\n",
              "      <td>1</td>\n",
              "    </tr>\n",
              "    <tr>\n",
              "      <th>2392</th>\n",
              "      <td>yes</td>\n",
              "      <td>no</td>\n",
              "      <td>1</td>\n",
              "    </tr>\n",
              "    <tr>\n",
              "      <th>2393</th>\n",
              "      <td>yes</td>\n",
              "      <td>no</td>\n",
              "      <td>1</td>\n",
              "    </tr>\n",
              "    <tr>\n",
              "      <th>2394</th>\n",
              "      <td>yes</td>\n",
              "      <td>no</td>\n",
              "      <td>1</td>\n",
              "    </tr>\n",
              "    <tr>\n",
              "      <th>...</th>\n",
              "      <td>...</td>\n",
              "      <td>...</td>\n",
              "      <td>...</td>\n",
              "    </tr>\n",
              "    <tr>\n",
              "      <th>9416</th>\n",
              "      <td>yes</td>\n",
              "      <td>no</td>\n",
              "      <td>1</td>\n",
              "    </tr>\n",
              "    <tr>\n",
              "      <th>9417</th>\n",
              "      <td>yes</td>\n",
              "      <td>no</td>\n",
              "      <td>1</td>\n",
              "    </tr>\n",
              "    <tr>\n",
              "      <th>9463</th>\n",
              "      <td>yes</td>\n",
              "      <td>no</td>\n",
              "      <td>1</td>\n",
              "    </tr>\n",
              "    <tr>\n",
              "      <th>9464</th>\n",
              "      <td>yes</td>\n",
              "      <td>no</td>\n",
              "      <td>1</td>\n",
              "    </tr>\n",
              "    <tr>\n",
              "      <th>9465</th>\n",
              "      <td>yes</td>\n",
              "      <td>no</td>\n",
              "      <td>1</td>\n",
              "    </tr>\n",
              "  </tbody>\n",
              "</table>\n",
              "<p>123 rows × 3 columns</p>\n",
              "</div>"
            ],
            "text/plain": [
              "     edjefe edjefa  SQBedjefe\n",
              "601     yes     no          1\n",
              "602     yes     no          1\n",
              "2392    yes     no          1\n",
              "2393    yes     no          1\n",
              "2394    yes     no          1\n",
              "...     ...    ...        ...\n",
              "9416    yes     no          1\n",
              "9417    yes     no          1\n",
              "9463    yes     no          1\n",
              "9464    yes     no          1\n",
              "9465    yes     no          1\n",
              "\n",
              "[123 rows x 3 columns]"
            ]
          },
          "metadata": {
            "tags": []
          },
          "execution_count": 27
        }
      ]
    },
    {
      "cell_type": "code",
      "metadata": {
        "id": "xbQWOKzAzKQE",
        "colab": {
          "base_uri": "https://localhost:8080/",
          "height": 98
        },
        "outputId": "8d0f9b34-190b-43fc-abd5-7e0d263f4c3b"
      },
      "source": [
        "data[(data['edjefe']=='yes') & (data['edjefa']!='no')]"
      ],
      "execution_count": 28,
      "outputs": [
        {
          "output_type": "execute_result",
          "data": {
            "text/html": [
              "<div>\n",
              "<style scoped>\n",
              "    .dataframe tbody tr th:only-of-type {\n",
              "        vertical-align: middle;\n",
              "    }\n",
              "\n",
              "    .dataframe tbody tr th {\n",
              "        vertical-align: top;\n",
              "    }\n",
              "\n",
              "    .dataframe thead th {\n",
              "        text-align: right;\n",
              "    }\n",
              "</style>\n",
              "<table border=\"1\" class=\"dataframe\">\n",
              "  <thead>\n",
              "    <tr style=\"text-align: right;\">\n",
              "      <th></th>\n",
              "      <th>Id</th>\n",
              "      <th>v2a1</th>\n",
              "      <th>hacdor</th>\n",
              "      <th>rooms</th>\n",
              "      <th>hacapo</th>\n",
              "      <th>v14a</th>\n",
              "      <th>refrig</th>\n",
              "      <th>v18q</th>\n",
              "      <th>v18q1</th>\n",
              "      <th>r4h1</th>\n",
              "      <th>r4h2</th>\n",
              "      <th>r4h3</th>\n",
              "      <th>r4m1</th>\n",
              "      <th>r4m2</th>\n",
              "      <th>r4m3</th>\n",
              "      <th>r4t1</th>\n",
              "      <th>r4t2</th>\n",
              "      <th>r4t3</th>\n",
              "      <th>tamhog</th>\n",
              "      <th>tamviv</th>\n",
              "      <th>escolari</th>\n",
              "      <th>rez_esc</th>\n",
              "      <th>hhsize</th>\n",
              "      <th>paredblolad</th>\n",
              "      <th>paredzocalo</th>\n",
              "      <th>paredpreb</th>\n",
              "      <th>pareddes</th>\n",
              "      <th>paredmad</th>\n",
              "      <th>paredzinc</th>\n",
              "      <th>paredfibras</th>\n",
              "      <th>paredother</th>\n",
              "      <th>pisomoscer</th>\n",
              "      <th>pisocemento</th>\n",
              "      <th>pisoother</th>\n",
              "      <th>pisonatur</th>\n",
              "      <th>pisonotiene</th>\n",
              "      <th>pisomadera</th>\n",
              "      <th>techozinc</th>\n",
              "      <th>techoentrepiso</th>\n",
              "      <th>techocane</th>\n",
              "      <th>...</th>\n",
              "      <th>meaneduc</th>\n",
              "      <th>instlevel1</th>\n",
              "      <th>instlevel2</th>\n",
              "      <th>instlevel3</th>\n",
              "      <th>instlevel4</th>\n",
              "      <th>instlevel5</th>\n",
              "      <th>instlevel6</th>\n",
              "      <th>instlevel7</th>\n",
              "      <th>instlevel8</th>\n",
              "      <th>instlevel9</th>\n",
              "      <th>bedrooms</th>\n",
              "      <th>overcrowding</th>\n",
              "      <th>tipovivi1</th>\n",
              "      <th>tipovivi2</th>\n",
              "      <th>tipovivi3</th>\n",
              "      <th>tipovivi4</th>\n",
              "      <th>tipovivi5</th>\n",
              "      <th>computer</th>\n",
              "      <th>television</th>\n",
              "      <th>mobilephone</th>\n",
              "      <th>qmobilephone</th>\n",
              "      <th>lugar1</th>\n",
              "      <th>lugar2</th>\n",
              "      <th>lugar3</th>\n",
              "      <th>lugar4</th>\n",
              "      <th>lugar5</th>\n",
              "      <th>lugar6</th>\n",
              "      <th>area1</th>\n",
              "      <th>area2</th>\n",
              "      <th>age</th>\n",
              "      <th>SQBescolari</th>\n",
              "      <th>SQBage</th>\n",
              "      <th>SQBhogar_total</th>\n",
              "      <th>SQBedjefe</th>\n",
              "      <th>SQBhogar_nin</th>\n",
              "      <th>SQBovercrowding</th>\n",
              "      <th>SQBdependency</th>\n",
              "      <th>SQBmeaned</th>\n",
              "      <th>agesq</th>\n",
              "      <th>Target</th>\n",
              "    </tr>\n",
              "  </thead>\n",
              "  <tbody>\n",
              "  </tbody>\n",
              "</table>\n",
              "<p>0 rows × 143 columns</p>\n",
              "</div>"
            ],
            "text/plain": [
              "Empty DataFrame\n",
              "Columns: [Id, v2a1, hacdor, rooms, hacapo, v14a, refrig, v18q, v18q1, r4h1, r4h2, r4h3, r4m1, r4m2, r4m3, r4t1, r4t2, r4t3, tamhog, tamviv, escolari, rez_esc, hhsize, paredblolad, paredzocalo, paredpreb, pareddes, paredmad, paredzinc, paredfibras, paredother, pisomoscer, pisocemento, pisoother, pisonatur, pisonotiene, pisomadera, techozinc, techoentrepiso, techocane, techootro, cielorazo, abastaguadentro, abastaguafuera, abastaguano, public, planpri, noelec, coopele, sanitario1, sanitario2, sanitario3, sanitario5, sanitario6, energcocinar1, energcocinar2, energcocinar3, energcocinar4, elimbasu1, elimbasu2, elimbasu3, elimbasu4, elimbasu5, elimbasu6, epared1, epared2, epared3, etecho1, etecho2, etecho3, eviv1, eviv2, eviv3, dis, male, female, estadocivil1, estadocivil2, estadocivil3, estadocivil4, estadocivil5, estadocivil6, estadocivil7, parentesco1, parentesco2, parentesco3, parentesco4, parentesco5, parentesco6, parentesco7, parentesco8, parentesco9, parentesco10, parentesco11, parentesco12, idhogar, hogar_nin, hogar_adul, hogar_mayor, hogar_total, ...]\n",
              "Index: []\n",
              "\n",
              "[0 rows x 143 columns]"
            ]
          },
          "metadata": {
            "tags": []
          },
          "execution_count": 28
        }
      ]
    },
    {
      "cell_type": "code",
      "metadata": {
        "id": "GHyyoHRwzM7F",
        "colab": {
          "base_uri": "https://localhost:8080/",
          "height": 819
        },
        "outputId": "0d3f320c-7059-4837-ec17-9170447b717f"
      },
      "source": [
        "data[(data['edjefa']=='yes') & (data['parentesco1']==1)][['edjefe', 'edjefa', 'parentesco1', 'escolari']]"
      ],
      "execution_count": 29,
      "outputs": [
        {
          "output_type": "execute_result",
          "data": {
            "text/html": [
              "<div>\n",
              "<style scoped>\n",
              "    .dataframe tbody tr th:only-of-type {\n",
              "        vertical-align: middle;\n",
              "    }\n",
              "\n",
              "    .dataframe tbody tr th {\n",
              "        vertical-align: top;\n",
              "    }\n",
              "\n",
              "    .dataframe thead th {\n",
              "        text-align: right;\n",
              "    }\n",
              "</style>\n",
              "<table border=\"1\" class=\"dataframe\">\n",
              "  <thead>\n",
              "    <tr style=\"text-align: right;\">\n",
              "      <th></th>\n",
              "      <th>edjefe</th>\n",
              "      <th>edjefa</th>\n",
              "      <th>parentesco1</th>\n",
              "      <th>escolari</th>\n",
              "    </tr>\n",
              "  </thead>\n",
              "  <tbody>\n",
              "    <tr>\n",
              "      <th>432</th>\n",
              "      <td>no</td>\n",
              "      <td>yes</td>\n",
              "      <td>1</td>\n",
              "      <td>1</td>\n",
              "    </tr>\n",
              "    <tr>\n",
              "      <th>568</th>\n",
              "      <td>no</td>\n",
              "      <td>yes</td>\n",
              "      <td>1</td>\n",
              "      <td>1</td>\n",
              "    </tr>\n",
              "    <tr>\n",
              "      <th>595</th>\n",
              "      <td>no</td>\n",
              "      <td>yes</td>\n",
              "      <td>1</td>\n",
              "      <td>1</td>\n",
              "    </tr>\n",
              "    <tr>\n",
              "      <th>976</th>\n",
              "      <td>no</td>\n",
              "      <td>yes</td>\n",
              "      <td>1</td>\n",
              "      <td>1</td>\n",
              "    </tr>\n",
              "    <tr>\n",
              "      <th>1574</th>\n",
              "      <td>no</td>\n",
              "      <td>yes</td>\n",
              "      <td>1</td>\n",
              "      <td>1</td>\n",
              "    </tr>\n",
              "    <tr>\n",
              "      <th>2464</th>\n",
              "      <td>no</td>\n",
              "      <td>yes</td>\n",
              "      <td>1</td>\n",
              "      <td>1</td>\n",
              "    </tr>\n",
              "    <tr>\n",
              "      <th>2614</th>\n",
              "      <td>no</td>\n",
              "      <td>yes</td>\n",
              "      <td>1</td>\n",
              "      <td>1</td>\n",
              "    </tr>\n",
              "    <tr>\n",
              "      <th>3469</th>\n",
              "      <td>no</td>\n",
              "      <td>yes</td>\n",
              "      <td>1</td>\n",
              "      <td>1</td>\n",
              "    </tr>\n",
              "    <tr>\n",
              "      <th>3855</th>\n",
              "      <td>no</td>\n",
              "      <td>yes</td>\n",
              "      <td>1</td>\n",
              "      <td>1</td>\n",
              "    </tr>\n",
              "    <tr>\n",
              "      <th>3952</th>\n",
              "      <td>no</td>\n",
              "      <td>yes</td>\n",
              "      <td>1</td>\n",
              "      <td>1</td>\n",
              "    </tr>\n",
              "    <tr>\n",
              "      <th>4197</th>\n",
              "      <td>no</td>\n",
              "      <td>yes</td>\n",
              "      <td>1</td>\n",
              "      <td>1</td>\n",
              "    </tr>\n",
              "    <tr>\n",
              "      <th>4487</th>\n",
              "      <td>no</td>\n",
              "      <td>yes</td>\n",
              "      <td>1</td>\n",
              "      <td>1</td>\n",
              "    </tr>\n",
              "    <tr>\n",
              "      <th>4867</th>\n",
              "      <td>no</td>\n",
              "      <td>yes</td>\n",
              "      <td>1</td>\n",
              "      <td>1</td>\n",
              "    </tr>\n",
              "    <tr>\n",
              "      <th>4888</th>\n",
              "      <td>no</td>\n",
              "      <td>yes</td>\n",
              "      <td>1</td>\n",
              "      <td>1</td>\n",
              "    </tr>\n",
              "    <tr>\n",
              "      <th>4920</th>\n",
              "      <td>no</td>\n",
              "      <td>yes</td>\n",
              "      <td>1</td>\n",
              "      <td>1</td>\n",
              "    </tr>\n",
              "    <tr>\n",
              "      <th>6030</th>\n",
              "      <td>no</td>\n",
              "      <td>yes</td>\n",
              "      <td>1</td>\n",
              "      <td>1</td>\n",
              "    </tr>\n",
              "    <tr>\n",
              "      <th>6067</th>\n",
              "      <td>no</td>\n",
              "      <td>yes</td>\n",
              "      <td>1</td>\n",
              "      <td>1</td>\n",
              "    </tr>\n",
              "    <tr>\n",
              "      <th>6427</th>\n",
              "      <td>no</td>\n",
              "      <td>yes</td>\n",
              "      <td>1</td>\n",
              "      <td>1</td>\n",
              "    </tr>\n",
              "    <tr>\n",
              "      <th>7117</th>\n",
              "      <td>no</td>\n",
              "      <td>yes</td>\n",
              "      <td>1</td>\n",
              "      <td>1</td>\n",
              "    </tr>\n",
              "    <tr>\n",
              "      <th>7887</th>\n",
              "      <td>no</td>\n",
              "      <td>yes</td>\n",
              "      <td>1</td>\n",
              "      <td>1</td>\n",
              "    </tr>\n",
              "    <tr>\n",
              "      <th>8134</th>\n",
              "      <td>no</td>\n",
              "      <td>yes</td>\n",
              "      <td>1</td>\n",
              "      <td>1</td>\n",
              "    </tr>\n",
              "    <tr>\n",
              "      <th>8164</th>\n",
              "      <td>no</td>\n",
              "      <td>yes</td>\n",
              "      <td>1</td>\n",
              "      <td>1</td>\n",
              "    </tr>\n",
              "    <tr>\n",
              "      <th>8437</th>\n",
              "      <td>no</td>\n",
              "      <td>yes</td>\n",
              "      <td>1</td>\n",
              "      <td>1</td>\n",
              "    </tr>\n",
              "    <tr>\n",
              "      <th>8509</th>\n",
              "      <td>no</td>\n",
              "      <td>yes</td>\n",
              "      <td>1</td>\n",
              "      <td>1</td>\n",
              "    </tr>\n",
              "    <tr>\n",
              "      <th>9166</th>\n",
              "      <td>no</td>\n",
              "      <td>yes</td>\n",
              "      <td>1</td>\n",
              "      <td>1</td>\n",
              "    </tr>\n",
              "  </tbody>\n",
              "</table>\n",
              "</div>"
            ],
            "text/plain": [
              "     edjefe edjefa  parentesco1  escolari\n",
              "432      no    yes            1         1\n",
              "568      no    yes            1         1\n",
              "595      no    yes            1         1\n",
              "976      no    yes            1         1\n",
              "1574     no    yes            1         1\n",
              "2464     no    yes            1         1\n",
              "2614     no    yes            1         1\n",
              "3469     no    yes            1         1\n",
              "3855     no    yes            1         1\n",
              "3952     no    yes            1         1\n",
              "4197     no    yes            1         1\n",
              "4487     no    yes            1         1\n",
              "4867     no    yes            1         1\n",
              "4888     no    yes            1         1\n",
              "4920     no    yes            1         1\n",
              "6030     no    yes            1         1\n",
              "6067     no    yes            1         1\n",
              "6427     no    yes            1         1\n",
              "7117     no    yes            1         1\n",
              "7887     no    yes            1         1\n",
              "8134     no    yes            1         1\n",
              "8164     no    yes            1         1\n",
              "8437     no    yes            1         1\n",
              "8509     no    yes            1         1\n",
              "9166     no    yes            1         1"
            ]
          },
          "metadata": {
            "tags": []
          },
          "execution_count": 29
        }
      ]
    },
    {
      "cell_type": "code",
      "metadata": {
        "id": "_LjP_7rpzOYE",
        "colab": {
          "base_uri": "https://localhost:8080/",
          "height": 417
        },
        "outputId": "6a389fe7-5875-4e9e-ffb9-611689fc13c2"
      },
      "source": [
        "data[data['edjefe']=='yes'][['edjefe', 'edjefa','age', 'escolari', 'parentesco1','male', 'female', 'idhogar']]"
      ],
      "execution_count": 30,
      "outputs": [
        {
          "output_type": "execute_result",
          "data": {
            "text/html": [
              "<div>\n",
              "<style scoped>\n",
              "    .dataframe tbody tr th:only-of-type {\n",
              "        vertical-align: middle;\n",
              "    }\n",
              "\n",
              "    .dataframe tbody tr th {\n",
              "        vertical-align: top;\n",
              "    }\n",
              "\n",
              "    .dataframe thead th {\n",
              "        text-align: right;\n",
              "    }\n",
              "</style>\n",
              "<table border=\"1\" class=\"dataframe\">\n",
              "  <thead>\n",
              "    <tr style=\"text-align: right;\">\n",
              "      <th></th>\n",
              "      <th>edjefe</th>\n",
              "      <th>edjefa</th>\n",
              "      <th>age</th>\n",
              "      <th>escolari</th>\n",
              "      <th>parentesco1</th>\n",
              "      <th>male</th>\n",
              "      <th>female</th>\n",
              "      <th>idhogar</th>\n",
              "    </tr>\n",
              "  </thead>\n",
              "  <tbody>\n",
              "    <tr>\n",
              "      <th>601</th>\n",
              "      <td>yes</td>\n",
              "      <td>no</td>\n",
              "      <td>81</td>\n",
              "      <td>1</td>\n",
              "      <td>1</td>\n",
              "      <td>1</td>\n",
              "      <td>0</td>\n",
              "      <td>3641ce2d1</td>\n",
              "    </tr>\n",
              "    <tr>\n",
              "      <th>602</th>\n",
              "      <td>yes</td>\n",
              "      <td>no</td>\n",
              "      <td>73</td>\n",
              "      <td>3</td>\n",
              "      <td>0</td>\n",
              "      <td>0</td>\n",
              "      <td>1</td>\n",
              "      <td>3641ce2d1</td>\n",
              "    </tr>\n",
              "    <tr>\n",
              "      <th>2392</th>\n",
              "      <td>yes</td>\n",
              "      <td>no</td>\n",
              "      <td>42</td>\n",
              "      <td>6</td>\n",
              "      <td>0</td>\n",
              "      <td>0</td>\n",
              "      <td>1</td>\n",
              "      <td>a7abf59cc</td>\n",
              "    </tr>\n",
              "    <tr>\n",
              "      <th>2393</th>\n",
              "      <td>yes</td>\n",
              "      <td>no</td>\n",
              "      <td>12</td>\n",
              "      <td>5</td>\n",
              "      <td>0</td>\n",
              "      <td>0</td>\n",
              "      <td>1</td>\n",
              "      <td>a7abf59cc</td>\n",
              "    </tr>\n",
              "    <tr>\n",
              "      <th>2394</th>\n",
              "      <td>yes</td>\n",
              "      <td>no</td>\n",
              "      <td>46</td>\n",
              "      <td>1</td>\n",
              "      <td>1</td>\n",
              "      <td>1</td>\n",
              "      <td>0</td>\n",
              "      <td>a7abf59cc</td>\n",
              "    </tr>\n",
              "    <tr>\n",
              "      <th>...</th>\n",
              "      <td>...</td>\n",
              "      <td>...</td>\n",
              "      <td>...</td>\n",
              "      <td>...</td>\n",
              "      <td>...</td>\n",
              "      <td>...</td>\n",
              "      <td>...</td>\n",
              "      <td>...</td>\n",
              "    </tr>\n",
              "    <tr>\n",
              "      <th>9416</th>\n",
              "      <td>yes</td>\n",
              "      <td>no</td>\n",
              "      <td>47</td>\n",
              "      <td>2</td>\n",
              "      <td>0</td>\n",
              "      <td>1</td>\n",
              "      <td>0</td>\n",
              "      <td>7dde74368</td>\n",
              "    </tr>\n",
              "    <tr>\n",
              "      <th>9417</th>\n",
              "      <td>yes</td>\n",
              "      <td>no</td>\n",
              "      <td>82</td>\n",
              "      <td>1</td>\n",
              "      <td>1</td>\n",
              "      <td>1</td>\n",
              "      <td>0</td>\n",
              "      <td>7dde74368</td>\n",
              "    </tr>\n",
              "    <tr>\n",
              "      <th>9463</th>\n",
              "      <td>yes</td>\n",
              "      <td>no</td>\n",
              "      <td>68</td>\n",
              "      <td>1</td>\n",
              "      <td>1</td>\n",
              "      <td>1</td>\n",
              "      <td>0</td>\n",
              "      <td>be108a783</td>\n",
              "    </tr>\n",
              "    <tr>\n",
              "      <th>9464</th>\n",
              "      <td>yes</td>\n",
              "      <td>no</td>\n",
              "      <td>57</td>\n",
              "      <td>3</td>\n",
              "      <td>0</td>\n",
              "      <td>0</td>\n",
              "      <td>1</td>\n",
              "      <td>be108a783</td>\n",
              "    </tr>\n",
              "    <tr>\n",
              "      <th>9465</th>\n",
              "      <td>yes</td>\n",
              "      <td>no</td>\n",
              "      <td>35</td>\n",
              "      <td>0</td>\n",
              "      <td>0</td>\n",
              "      <td>1</td>\n",
              "      <td>0</td>\n",
              "      <td>be108a783</td>\n",
              "    </tr>\n",
              "  </tbody>\n",
              "</table>\n",
              "<p>123 rows × 8 columns</p>\n",
              "</div>"
            ],
            "text/plain": [
              "     edjefe edjefa  age  escolari  parentesco1  male  female    idhogar\n",
              "601     yes     no   81         1            1     1       0  3641ce2d1\n",
              "602     yes     no   73         3            0     0       1  3641ce2d1\n",
              "2392    yes     no   42         6            0     0       1  a7abf59cc\n",
              "2393    yes     no   12         5            0     0       1  a7abf59cc\n",
              "2394    yes     no   46         1            1     1       0  a7abf59cc\n",
              "...     ...    ...  ...       ...          ...   ...     ...        ...\n",
              "9416    yes     no   47         2            0     1       0  7dde74368\n",
              "9417    yes     no   82         1            1     1       0  7dde74368\n",
              "9463    yes     no   68         1            1     1       0  be108a783\n",
              "9464    yes     no   57         3            0     0       1  be108a783\n",
              "9465    yes     no   35         0            0     1       0  be108a783\n",
              "\n",
              "[123 rows x 8 columns]"
            ]
          },
          "metadata": {
            "tags": []
          },
          "execution_count": 30
        }
      ]
    },
    {
      "cell_type": "code",
      "metadata": {
        "id": "TNagIHWfzP_a",
        "colab": {
          "base_uri": "https://localhost:8080/",
          "height": 417
        },
        "outputId": "d7874870-7e2d-4355-d5b5-bc5e876190d9"
      },
      "source": [
        "data[(data['edjefe']=='no') & (data['edjefa']=='no')][['edjefe', 'edjefa', 'age', 'escolari', 'female', 'male', 'Id', 'parentesco1', 'idhogar']]"
      ],
      "execution_count": 31,
      "outputs": [
        {
          "output_type": "execute_result",
          "data": {
            "text/html": [
              "<div>\n",
              "<style scoped>\n",
              "    .dataframe tbody tr th:only-of-type {\n",
              "        vertical-align: middle;\n",
              "    }\n",
              "\n",
              "    .dataframe tbody tr th {\n",
              "        vertical-align: top;\n",
              "    }\n",
              "\n",
              "    .dataframe thead th {\n",
              "        text-align: right;\n",
              "    }\n",
              "</style>\n",
              "<table border=\"1\" class=\"dataframe\">\n",
              "  <thead>\n",
              "    <tr style=\"text-align: right;\">\n",
              "      <th></th>\n",
              "      <th>edjefe</th>\n",
              "      <th>edjefa</th>\n",
              "      <th>age</th>\n",
              "      <th>escolari</th>\n",
              "      <th>female</th>\n",
              "      <th>male</th>\n",
              "      <th>Id</th>\n",
              "      <th>parentesco1</th>\n",
              "      <th>idhogar</th>\n",
              "    </tr>\n",
              "  </thead>\n",
              "  <tbody>\n",
              "    <tr>\n",
              "      <th>86</th>\n",
              "      <td>no</td>\n",
              "      <td>no</td>\n",
              "      <td>89</td>\n",
              "      <td>0</td>\n",
              "      <td>1</td>\n",
              "      <td>0</td>\n",
              "      <td>ID_48c10ba80</td>\n",
              "      <td>1</td>\n",
              "      <td>2b1a06ddc</td>\n",
              "    </tr>\n",
              "    <tr>\n",
              "      <th>87</th>\n",
              "      <td>no</td>\n",
              "      <td>no</td>\n",
              "      <td>55</td>\n",
              "      <td>13</td>\n",
              "      <td>0</td>\n",
              "      <td>1</td>\n",
              "      <td>ID_1a283d51b</td>\n",
              "      <td>0</td>\n",
              "      <td>2b1a06ddc</td>\n",
              "    </tr>\n",
              "    <tr>\n",
              "      <th>121</th>\n",
              "      <td>no</td>\n",
              "      <td>no</td>\n",
              "      <td>21</td>\n",
              "      <td>14</td>\n",
              "      <td>1</td>\n",
              "      <td>0</td>\n",
              "      <td>ID_fdf18bbee</td>\n",
              "      <td>0</td>\n",
              "      <td>d9e9b591a</td>\n",
              "    </tr>\n",
              "    <tr>\n",
              "      <th>122</th>\n",
              "      <td>no</td>\n",
              "      <td>no</td>\n",
              "      <td>47</td>\n",
              "      <td>8</td>\n",
              "      <td>0</td>\n",
              "      <td>1</td>\n",
              "      <td>ID_cba836ed8</td>\n",
              "      <td>0</td>\n",
              "      <td>d9e9b591a</td>\n",
              "    </tr>\n",
              "    <tr>\n",
              "      <th>123</th>\n",
              "      <td>no</td>\n",
              "      <td>no</td>\n",
              "      <td>49</td>\n",
              "      <td>9</td>\n",
              "      <td>1</td>\n",
              "      <td>0</td>\n",
              "      <td>ID_6031cb88d</td>\n",
              "      <td>0</td>\n",
              "      <td>d9e9b591a</td>\n",
              "    </tr>\n",
              "    <tr>\n",
              "      <th>...</th>\n",
              "      <td>...</td>\n",
              "      <td>...</td>\n",
              "      <td>...</td>\n",
              "      <td>...</td>\n",
              "      <td>...</td>\n",
              "      <td>...</td>\n",
              "      <td>...</td>\n",
              "      <td>...</td>\n",
              "      <td>...</td>\n",
              "    </tr>\n",
              "    <tr>\n",
              "      <th>9482</th>\n",
              "      <td>no</td>\n",
              "      <td>no</td>\n",
              "      <td>47</td>\n",
              "      <td>1</td>\n",
              "      <td>0</td>\n",
              "      <td>1</td>\n",
              "      <td>ID_61845138f</td>\n",
              "      <td>0</td>\n",
              "      <td>339954bdc</td>\n",
              "    </tr>\n",
              "    <tr>\n",
              "      <th>9490</th>\n",
              "      <td>no</td>\n",
              "      <td>no</td>\n",
              "      <td>77</td>\n",
              "      <td>0</td>\n",
              "      <td>1</td>\n",
              "      <td>0</td>\n",
              "      <td>ID_de4b00f08</td>\n",
              "      <td>1</td>\n",
              "      <td>5ba48ed17</td>\n",
              "    </tr>\n",
              "    <tr>\n",
              "      <th>9506</th>\n",
              "      <td>no</td>\n",
              "      <td>no</td>\n",
              "      <td>82</td>\n",
              "      <td>0</td>\n",
              "      <td>1</td>\n",
              "      <td>0</td>\n",
              "      <td>ID_14dbfebf2</td>\n",
              "      <td>1</td>\n",
              "      <td>6548edd92</td>\n",
              "    </tr>\n",
              "    <tr>\n",
              "      <th>9550</th>\n",
              "      <td>no</td>\n",
              "      <td>no</td>\n",
              "      <td>61</td>\n",
              "      <td>6</td>\n",
              "      <td>1</td>\n",
              "      <td>0</td>\n",
              "      <td>ID_90a399a51</td>\n",
              "      <td>0</td>\n",
              "      <td>212db6f6c</td>\n",
              "    </tr>\n",
              "    <tr>\n",
              "      <th>9551</th>\n",
              "      <td>no</td>\n",
              "      <td>no</td>\n",
              "      <td>67</td>\n",
              "      <td>0</td>\n",
              "      <td>0</td>\n",
              "      <td>1</td>\n",
              "      <td>ID_79d39dddc</td>\n",
              "      <td>1</td>\n",
              "      <td>212db6f6c</td>\n",
              "    </tr>\n",
              "  </tbody>\n",
              "</table>\n",
              "<p>435 rows × 9 columns</p>\n",
              "</div>"
            ],
            "text/plain": [
              "     edjefe edjefa  age  escolari  ...  male            Id parentesco1    idhogar\n",
              "86       no     no   89         0  ...     0  ID_48c10ba80           1  2b1a06ddc\n",
              "87       no     no   55        13  ...     1  ID_1a283d51b           0  2b1a06ddc\n",
              "121      no     no   21        14  ...     0  ID_fdf18bbee           0  d9e9b591a\n",
              "122      no     no   47         8  ...     1  ID_cba836ed8           0  d9e9b591a\n",
              "123      no     no   49         9  ...     0  ID_6031cb88d           0  d9e9b591a\n",
              "...     ...    ...  ...       ...  ...   ...           ...         ...        ...\n",
              "9482     no     no   47         1  ...     1  ID_61845138f           0  339954bdc\n",
              "9490     no     no   77         0  ...     0  ID_de4b00f08           1  5ba48ed17\n",
              "9506     no     no   82         0  ...     0  ID_14dbfebf2           1  6548edd92\n",
              "9550     no     no   61         6  ...     0  ID_90a399a51           0  212db6f6c\n",
              "9551     no     no   67         0  ...     1  ID_79d39dddc           1  212db6f6c\n",
              "\n",
              "[435 rows x 9 columns]"
            ]
          },
          "metadata": {
            "tags": []
          },
          "execution_count": 31
        }
      ]
    },
    {
      "cell_type": "code",
      "metadata": {
        "id": "b1jF4PuzzUfC",
        "colab": {
          "base_uri": "https://localhost:8080/",
          "height": 1000
        },
        "outputId": "8ff01bcd-5880-4401-9a98-28c3bf13016a"
      },
      "source": [
        "data[(data['edjefe']=='yes') & data['parentesco1']==1][['escolari']]"
      ],
      "execution_count": 32,
      "outputs": [
        {
          "output_type": "execute_result",
          "data": {
            "text/html": [
              "<div>\n",
              "<style scoped>\n",
              "    .dataframe tbody tr th:only-of-type {\n",
              "        vertical-align: middle;\n",
              "    }\n",
              "\n",
              "    .dataframe tbody tr th {\n",
              "        vertical-align: top;\n",
              "    }\n",
              "\n",
              "    .dataframe thead th {\n",
              "        text-align: right;\n",
              "    }\n",
              "</style>\n",
              "<table border=\"1\" class=\"dataframe\">\n",
              "  <thead>\n",
              "    <tr style=\"text-align: right;\">\n",
              "      <th></th>\n",
              "      <th>escolari</th>\n",
              "    </tr>\n",
              "  </thead>\n",
              "  <tbody>\n",
              "    <tr>\n",
              "      <th>601</th>\n",
              "      <td>1</td>\n",
              "    </tr>\n",
              "    <tr>\n",
              "      <th>2394</th>\n",
              "      <td>1</td>\n",
              "    </tr>\n",
              "    <tr>\n",
              "      <th>2424</th>\n",
              "      <td>1</td>\n",
              "    </tr>\n",
              "    <tr>\n",
              "      <th>2830</th>\n",
              "      <td>1</td>\n",
              "    </tr>\n",
              "    <tr>\n",
              "      <th>3017</th>\n",
              "      <td>1</td>\n",
              "    </tr>\n",
              "    <tr>\n",
              "      <th>3744</th>\n",
              "      <td>1</td>\n",
              "    </tr>\n",
              "    <tr>\n",
              "      <th>4491</th>\n",
              "      <td>1</td>\n",
              "    </tr>\n",
              "    <tr>\n",
              "      <th>4905</th>\n",
              "      <td>1</td>\n",
              "    </tr>\n",
              "    <tr>\n",
              "      <th>4980</th>\n",
              "      <td>1</td>\n",
              "    </tr>\n",
              "    <tr>\n",
              "      <th>5154</th>\n",
              "      <td>1</td>\n",
              "    </tr>\n",
              "    <tr>\n",
              "      <th>5191</th>\n",
              "      <td>1</td>\n",
              "    </tr>\n",
              "    <tr>\n",
              "      <th>5296</th>\n",
              "      <td>1</td>\n",
              "    </tr>\n",
              "    <tr>\n",
              "      <th>5338</th>\n",
              "      <td>1</td>\n",
              "    </tr>\n",
              "    <tr>\n",
              "      <th>5387</th>\n",
              "      <td>1</td>\n",
              "    </tr>\n",
              "    <tr>\n",
              "      <th>5562</th>\n",
              "      <td>1</td>\n",
              "    </tr>\n",
              "    <tr>\n",
              "      <th>5579</th>\n",
              "      <td>1</td>\n",
              "    </tr>\n",
              "    <tr>\n",
              "      <th>5588</th>\n",
              "      <td>1</td>\n",
              "    </tr>\n",
              "    <tr>\n",
              "      <th>5728</th>\n",
              "      <td>1</td>\n",
              "    </tr>\n",
              "    <tr>\n",
              "      <th>6342</th>\n",
              "      <td>1</td>\n",
              "    </tr>\n",
              "    <tr>\n",
              "      <th>6605</th>\n",
              "      <td>1</td>\n",
              "    </tr>\n",
              "    <tr>\n",
              "      <th>6665</th>\n",
              "      <td>1</td>\n",
              "    </tr>\n",
              "    <tr>\n",
              "      <th>6743</th>\n",
              "      <td>1</td>\n",
              "    </tr>\n",
              "    <tr>\n",
              "      <th>6869</th>\n",
              "      <td>1</td>\n",
              "    </tr>\n",
              "    <tr>\n",
              "      <th>6884</th>\n",
              "      <td>1</td>\n",
              "    </tr>\n",
              "    <tr>\n",
              "      <th>7056</th>\n",
              "      <td>1</td>\n",
              "    </tr>\n",
              "    <tr>\n",
              "      <th>7079</th>\n",
              "      <td>1</td>\n",
              "    </tr>\n",
              "    <tr>\n",
              "      <th>7361</th>\n",
              "      <td>1</td>\n",
              "    </tr>\n",
              "    <tr>\n",
              "      <th>7368</th>\n",
              "      <td>1</td>\n",
              "    </tr>\n",
              "    <tr>\n",
              "      <th>7759</th>\n",
              "      <td>1</td>\n",
              "    </tr>\n",
              "    <tr>\n",
              "      <th>7833</th>\n",
              "      <td>1</td>\n",
              "    </tr>\n",
              "    <tr>\n",
              "      <th>7907</th>\n",
              "      <td>1</td>\n",
              "    </tr>\n",
              "    <tr>\n",
              "      <th>8384</th>\n",
              "      <td>1</td>\n",
              "    </tr>\n",
              "    <tr>\n",
              "      <th>8585</th>\n",
              "      <td>1</td>\n",
              "    </tr>\n",
              "    <tr>\n",
              "      <th>8903</th>\n",
              "      <td>1</td>\n",
              "    </tr>\n",
              "    <tr>\n",
              "      <th>8954</th>\n",
              "      <td>1</td>\n",
              "    </tr>\n",
              "    <tr>\n",
              "      <th>9044</th>\n",
              "      <td>1</td>\n",
              "    </tr>\n",
              "    <tr>\n",
              "      <th>9199</th>\n",
              "      <td>1</td>\n",
              "    </tr>\n",
              "    <tr>\n",
              "      <th>9257</th>\n",
              "      <td>1</td>\n",
              "    </tr>\n",
              "    <tr>\n",
              "      <th>9417</th>\n",
              "      <td>1</td>\n",
              "    </tr>\n",
              "    <tr>\n",
              "      <th>9463</th>\n",
              "      <td>1</td>\n",
              "    </tr>\n",
              "  </tbody>\n",
              "</table>\n",
              "</div>"
            ],
            "text/plain": [
              "      escolari\n",
              "601          1\n",
              "2394         1\n",
              "2424         1\n",
              "2830         1\n",
              "3017         1\n",
              "3744         1\n",
              "4491         1\n",
              "4905         1\n",
              "4980         1\n",
              "5154         1\n",
              "5191         1\n",
              "5296         1\n",
              "5338         1\n",
              "5387         1\n",
              "5562         1\n",
              "5579         1\n",
              "5588         1\n",
              "5728         1\n",
              "6342         1\n",
              "6605         1\n",
              "6665         1\n",
              "6743         1\n",
              "6869         1\n",
              "6884         1\n",
              "7056         1\n",
              "7079         1\n",
              "7361         1\n",
              "7368         1\n",
              "7759         1\n",
              "7833         1\n",
              "7907         1\n",
              "8384         1\n",
              "8585         1\n",
              "8903         1\n",
              "8954         1\n",
              "9044         1\n",
              "9199         1\n",
              "9257         1\n",
              "9417         1\n",
              "9463         1"
            ]
          },
          "metadata": {
            "tags": []
          },
          "execution_count": 32
        }
      ]
    },
    {
      "cell_type": "markdown",
      "metadata": {
        "id": "CK6VL2zazeYy"
      },
      "source": [
        "Basically:\n",
        "\n",
        "'edjefe' and 'edjefa' are both 'no' when the head of the household had 0 years of school\n",
        "there's 'edjefe'= 'yes' and 'edjefa'='no' in some cases, all these cases the head of the household had 1 year of school\n",
        "there's 'edjefe'= 'no' and 'edjefa'='yes' in some cases, all these cases the head of the household had 1 year of school\n",
        "most of the time either 'edjefe' or 'edjefa' is a number while the other is a 'no'\n",
        "Let's merge the jefe and jefa education into one, undependent of gender"
      ]
    },
    {
      "cell_type": "code",
      "metadata": {
        "id": "bTM-C77BzZey",
        "colab": {
          "base_uri": "https://localhost:8080/",
          "height": 511
        },
        "outputId": "bb281fef-a978-4f68-d12f-ed7889570d85"
      },
      "source": [
        "conditions = [\n",
        "    (data['edjefe']=='no') & (data['edjefa']=='no'), #both no\n",
        "    (data['edjefe']=='yes') & (data['edjefa']=='no'), # yes and no\n",
        "    (data['edjefe']=='no') & (data['edjefa']=='yes'), #no and yes \n",
        "    (data['edjefe']!='no') & (data['edjefe']!='yes') & (data['edjefa']=='no'), # number and no\n",
        "    (data['edjefe']=='no') & (data['edjefa']!='no') # no and number\n",
        "]\n",
        "choices = [0, 1, 1, data['edjefe'], data['edjefa']]\n",
        "data['edjefx']=np.select(conditions, choices)\n",
        "data['edjefx']=data['edjefx'].astype(int)\n",
        "data[['edjefe', 'edjefa', 'edjefx']][:15]"
      ],
      "execution_count": 33,
      "outputs": [
        {
          "output_type": "execute_result",
          "data": {
            "text/html": [
              "<div>\n",
              "<style scoped>\n",
              "    .dataframe tbody tr th:only-of-type {\n",
              "        vertical-align: middle;\n",
              "    }\n",
              "\n",
              "    .dataframe tbody tr th {\n",
              "        vertical-align: top;\n",
              "    }\n",
              "\n",
              "    .dataframe thead th {\n",
              "        text-align: right;\n",
              "    }\n",
              "</style>\n",
              "<table border=\"1\" class=\"dataframe\">\n",
              "  <thead>\n",
              "    <tr style=\"text-align: right;\">\n",
              "      <th></th>\n",
              "      <th>edjefe</th>\n",
              "      <th>edjefa</th>\n",
              "      <th>edjefx</th>\n",
              "    </tr>\n",
              "  </thead>\n",
              "  <tbody>\n",
              "    <tr>\n",
              "      <th>0</th>\n",
              "      <td>10</td>\n",
              "      <td>no</td>\n",
              "      <td>10</td>\n",
              "    </tr>\n",
              "    <tr>\n",
              "      <th>1</th>\n",
              "      <td>12</td>\n",
              "      <td>no</td>\n",
              "      <td>12</td>\n",
              "    </tr>\n",
              "    <tr>\n",
              "      <th>2</th>\n",
              "      <td>no</td>\n",
              "      <td>11</td>\n",
              "      <td>11</td>\n",
              "    </tr>\n",
              "    <tr>\n",
              "      <th>3</th>\n",
              "      <td>11</td>\n",
              "      <td>no</td>\n",
              "      <td>11</td>\n",
              "    </tr>\n",
              "    <tr>\n",
              "      <th>4</th>\n",
              "      <td>11</td>\n",
              "      <td>no</td>\n",
              "      <td>11</td>\n",
              "    </tr>\n",
              "    <tr>\n",
              "      <th>5</th>\n",
              "      <td>11</td>\n",
              "      <td>no</td>\n",
              "      <td>11</td>\n",
              "    </tr>\n",
              "    <tr>\n",
              "      <th>6</th>\n",
              "      <td>11</td>\n",
              "      <td>no</td>\n",
              "      <td>11</td>\n",
              "    </tr>\n",
              "    <tr>\n",
              "      <th>7</th>\n",
              "      <td>9</td>\n",
              "      <td>no</td>\n",
              "      <td>9</td>\n",
              "    </tr>\n",
              "    <tr>\n",
              "      <th>8</th>\n",
              "      <td>9</td>\n",
              "      <td>no</td>\n",
              "      <td>9</td>\n",
              "    </tr>\n",
              "    <tr>\n",
              "      <th>9</th>\n",
              "      <td>9</td>\n",
              "      <td>no</td>\n",
              "      <td>9</td>\n",
              "    </tr>\n",
              "    <tr>\n",
              "      <th>10</th>\n",
              "      <td>9</td>\n",
              "      <td>no</td>\n",
              "      <td>9</td>\n",
              "    </tr>\n",
              "    <tr>\n",
              "      <th>11</th>\n",
              "      <td>no</td>\n",
              "      <td>11</td>\n",
              "      <td>11</td>\n",
              "    </tr>\n",
              "    <tr>\n",
              "      <th>12</th>\n",
              "      <td>no</td>\n",
              "      <td>11</td>\n",
              "      <td>11</td>\n",
              "    </tr>\n",
              "    <tr>\n",
              "      <th>13</th>\n",
              "      <td>no</td>\n",
              "      <td>4</td>\n",
              "      <td>4</td>\n",
              "    </tr>\n",
              "    <tr>\n",
              "      <th>14</th>\n",
              "      <td>no</td>\n",
              "      <td>4</td>\n",
              "      <td>4</td>\n",
              "    </tr>\n",
              "  </tbody>\n",
              "</table>\n",
              "</div>"
            ],
            "text/plain": [
              "   edjefe edjefa  edjefx\n",
              "0      10     no      10\n",
              "1      12     no      12\n",
              "2      no     11      11\n",
              "3      11     no      11\n",
              "4      11     no      11\n",
              "5      11     no      11\n",
              "6      11     no      11\n",
              "7       9     no       9\n",
              "8       9     no       9\n",
              "9       9     no       9\n",
              "10      9     no       9\n",
              "11     no     11      11\n",
              "12     no     11      11\n",
              "13     no      4       4\n",
              "14     no      4       4"
            ]
          },
          "metadata": {
            "tags": []
          },
          "execution_count": 33
        }
      ]
    },
    {
      "cell_type": "code",
      "metadata": {
        "id": "pxISbeQJzZb5",
        "colab": {
          "base_uri": "https://localhost:8080/",
          "height": 344
        },
        "outputId": "ec9e653c-dc9e-499e-d4dc-8f4bf345721c"
      },
      "source": [
        "data.describe()"
      ],
      "execution_count": 34,
      "outputs": [
        {
          "output_type": "execute_result",
          "data": {
            "text/html": [
              "<div>\n",
              "<style scoped>\n",
              "    .dataframe tbody tr th:only-of-type {\n",
              "        vertical-align: middle;\n",
              "    }\n",
              "\n",
              "    .dataframe tbody tr th {\n",
              "        vertical-align: top;\n",
              "    }\n",
              "\n",
              "    .dataframe thead th {\n",
              "        text-align: right;\n",
              "    }\n",
              "</style>\n",
              "<table border=\"1\" class=\"dataframe\">\n",
              "  <thead>\n",
              "    <tr style=\"text-align: right;\">\n",
              "      <th></th>\n",
              "      <th>v2a1</th>\n",
              "      <th>hacdor</th>\n",
              "      <th>rooms</th>\n",
              "      <th>hacapo</th>\n",
              "      <th>v14a</th>\n",
              "      <th>refrig</th>\n",
              "      <th>v18q</th>\n",
              "      <th>v18q1</th>\n",
              "      <th>r4h1</th>\n",
              "      <th>r4h2</th>\n",
              "      <th>r4h3</th>\n",
              "      <th>r4m1</th>\n",
              "      <th>r4m2</th>\n",
              "      <th>r4m3</th>\n",
              "      <th>r4t1</th>\n",
              "      <th>r4t2</th>\n",
              "      <th>r4t3</th>\n",
              "      <th>tamhog</th>\n",
              "      <th>tamviv</th>\n",
              "      <th>escolari</th>\n",
              "      <th>rez_esc</th>\n",
              "      <th>hhsize</th>\n",
              "      <th>paredblolad</th>\n",
              "      <th>paredzocalo</th>\n",
              "      <th>paredpreb</th>\n",
              "      <th>pareddes</th>\n",
              "      <th>paredmad</th>\n",
              "      <th>paredzinc</th>\n",
              "      <th>paredfibras</th>\n",
              "      <th>paredother</th>\n",
              "      <th>pisomoscer</th>\n",
              "      <th>pisocemento</th>\n",
              "      <th>pisoother</th>\n",
              "      <th>pisonatur</th>\n",
              "      <th>pisonotiene</th>\n",
              "      <th>pisomadera</th>\n",
              "      <th>techozinc</th>\n",
              "      <th>techoentrepiso</th>\n",
              "      <th>techocane</th>\n",
              "      <th>techootro</th>\n",
              "      <th>...</th>\n",
              "      <th>instlevel1</th>\n",
              "      <th>instlevel2</th>\n",
              "      <th>instlevel3</th>\n",
              "      <th>instlevel4</th>\n",
              "      <th>instlevel5</th>\n",
              "      <th>instlevel6</th>\n",
              "      <th>instlevel7</th>\n",
              "      <th>instlevel8</th>\n",
              "      <th>instlevel9</th>\n",
              "      <th>bedrooms</th>\n",
              "      <th>overcrowding</th>\n",
              "      <th>tipovivi1</th>\n",
              "      <th>tipovivi2</th>\n",
              "      <th>tipovivi3</th>\n",
              "      <th>tipovivi4</th>\n",
              "      <th>tipovivi5</th>\n",
              "      <th>computer</th>\n",
              "      <th>television</th>\n",
              "      <th>mobilephone</th>\n",
              "      <th>qmobilephone</th>\n",
              "      <th>lugar1</th>\n",
              "      <th>lugar2</th>\n",
              "      <th>lugar3</th>\n",
              "      <th>lugar4</th>\n",
              "      <th>lugar5</th>\n",
              "      <th>lugar6</th>\n",
              "      <th>area1</th>\n",
              "      <th>area2</th>\n",
              "      <th>age</th>\n",
              "      <th>SQBescolari</th>\n",
              "      <th>SQBage</th>\n",
              "      <th>SQBhogar_total</th>\n",
              "      <th>SQBedjefe</th>\n",
              "      <th>SQBhogar_nin</th>\n",
              "      <th>SQBovercrowding</th>\n",
              "      <th>SQBdependency</th>\n",
              "      <th>SQBmeaned</th>\n",
              "      <th>agesq</th>\n",
              "      <th>Target</th>\n",
              "      <th>edjefx</th>\n",
              "    </tr>\n",
              "  </thead>\n",
              "  <tbody>\n",
              "    <tr>\n",
              "      <th>count</th>\n",
              "      <td>2.697000e+03</td>\n",
              "      <td>9557.000000</td>\n",
              "      <td>9557.000000</td>\n",
              "      <td>9557.000000</td>\n",
              "      <td>9557.000000</td>\n",
              "      <td>9557.000000</td>\n",
              "      <td>9557.000000</td>\n",
              "      <td>2215.000000</td>\n",
              "      <td>9557.000000</td>\n",
              "      <td>9557.000000</td>\n",
              "      <td>9557.000000</td>\n",
              "      <td>9557.000000</td>\n",
              "      <td>9557.000000</td>\n",
              "      <td>9557.000000</td>\n",
              "      <td>9557.000000</td>\n",
              "      <td>9557.000000</td>\n",
              "      <td>9557.000000</td>\n",
              "      <td>9557.000000</td>\n",
              "      <td>9557.000000</td>\n",
              "      <td>9557.000000</td>\n",
              "      <td>1629.000000</td>\n",
              "      <td>9557.000000</td>\n",
              "      <td>9557.000000</td>\n",
              "      <td>9557.000000</td>\n",
              "      <td>9557.000000</td>\n",
              "      <td>9557.000000</td>\n",
              "      <td>9557.000000</td>\n",
              "      <td>9557.000000</td>\n",
              "      <td>9557.000000</td>\n",
              "      <td>9557.000000</td>\n",
              "      <td>9557.000000</td>\n",
              "      <td>9557.000000</td>\n",
              "      <td>9557.000000</td>\n",
              "      <td>9557.000000</td>\n",
              "      <td>9557.000000</td>\n",
              "      <td>9557.000000</td>\n",
              "      <td>9557.000000</td>\n",
              "      <td>9557.000000</td>\n",
              "      <td>9557.000000</td>\n",
              "      <td>9557.000000</td>\n",
              "      <td>...</td>\n",
              "      <td>9557.000000</td>\n",
              "      <td>9557.000000</td>\n",
              "      <td>9557.000000</td>\n",
              "      <td>9557.000000</td>\n",
              "      <td>9557.000000</td>\n",
              "      <td>9557.000000</td>\n",
              "      <td>9557.000000</td>\n",
              "      <td>9557.000000</td>\n",
              "      <td>9557.000000</td>\n",
              "      <td>9557.000000</td>\n",
              "      <td>9557.000000</td>\n",
              "      <td>9557.00000</td>\n",
              "      <td>9557.000000</td>\n",
              "      <td>9557.000000</td>\n",
              "      <td>9557.000000</td>\n",
              "      <td>9557.000000</td>\n",
              "      <td>9557.000000</td>\n",
              "      <td>9557.000000</td>\n",
              "      <td>9557.000000</td>\n",
              "      <td>9557.000000</td>\n",
              "      <td>9557.000000</td>\n",
              "      <td>9557.000000</td>\n",
              "      <td>9557.000000</td>\n",
              "      <td>9557.000000</td>\n",
              "      <td>9557.000000</td>\n",
              "      <td>9557.000000</td>\n",
              "      <td>9557.000000</td>\n",
              "      <td>9557.000000</td>\n",
              "      <td>9557.000000</td>\n",
              "      <td>9557.000000</td>\n",
              "      <td>9557.000000</td>\n",
              "      <td>9557.000000</td>\n",
              "      <td>9557.000000</td>\n",
              "      <td>9557.000000</td>\n",
              "      <td>9557.000000</td>\n",
              "      <td>9557.000000</td>\n",
              "      <td>9552.000000</td>\n",
              "      <td>9557.000000</td>\n",
              "      <td>9557.000000</td>\n",
              "      <td>9557.000000</td>\n",
              "    </tr>\n",
              "    <tr>\n",
              "      <th>mean</th>\n",
              "      <td>1.652316e+05</td>\n",
              "      <td>0.038087</td>\n",
              "      <td>4.955530</td>\n",
              "      <td>0.023648</td>\n",
              "      <td>0.994768</td>\n",
              "      <td>0.957623</td>\n",
              "      <td>0.231767</td>\n",
              "      <td>1.404063</td>\n",
              "      <td>0.385895</td>\n",
              "      <td>1.559171</td>\n",
              "      <td>1.945066</td>\n",
              "      <td>0.399184</td>\n",
              "      <td>1.661714</td>\n",
              "      <td>2.060898</td>\n",
              "      <td>0.785079</td>\n",
              "      <td>3.220885</td>\n",
              "      <td>4.005964</td>\n",
              "      <td>3.999058</td>\n",
              "      <td>4.094590</td>\n",
              "      <td>7.200272</td>\n",
              "      <td>0.459791</td>\n",
              "      <td>3.999058</td>\n",
              "      <td>0.594015</td>\n",
              "      <td>0.077744</td>\n",
              "      <td>0.188030</td>\n",
              "      <td>0.008580</td>\n",
              "      <td>0.115622</td>\n",
              "      <td>0.013079</td>\n",
              "      <td>0.001465</td>\n",
              "      <td>0.001465</td>\n",
              "      <td>0.692791</td>\n",
              "      <td>0.222873</td>\n",
              "      <td>0.000942</td>\n",
              "      <td>0.001046</td>\n",
              "      <td>0.016428</td>\n",
              "      <td>0.065920</td>\n",
              "      <td>0.970074</td>\n",
              "      <td>0.017683</td>\n",
              "      <td>0.003139</td>\n",
              "      <td>0.002197</td>\n",
              "      <td>...</td>\n",
              "      <td>0.134666</td>\n",
              "      <td>0.170556</td>\n",
              "      <td>0.207701</td>\n",
              "      <td>0.185414</td>\n",
              "      <td>0.112692</td>\n",
              "      <td>0.017893</td>\n",
              "      <td>0.015591</td>\n",
              "      <td>0.139793</td>\n",
              "      <td>0.015381</td>\n",
              "      <td>2.739981</td>\n",
              "      <td>1.605380</td>\n",
              "      <td>0.61850</td>\n",
              "      <td>0.100555</td>\n",
              "      <td>0.181647</td>\n",
              "      <td>0.017056</td>\n",
              "      <td>0.082243</td>\n",
              "      <td>0.102124</td>\n",
              "      <td>0.284608</td>\n",
              "      <td>0.975306</td>\n",
              "      <td>2.821492</td>\n",
              "      <td>0.587632</td>\n",
              "      <td>0.092707</td>\n",
              "      <td>0.062363</td>\n",
              "      <td>0.082767</td>\n",
              "      <td>0.093858</td>\n",
              "      <td>0.080674</td>\n",
              "      <td>0.714555</td>\n",
              "      <td>0.285445</td>\n",
              "      <td>34.303547</td>\n",
              "      <td>74.222769</td>\n",
              "      <td>1643.774302</td>\n",
              "      <td>19.132887</td>\n",
              "      <td>53.500262</td>\n",
              "      <td>3.844826</td>\n",
              "      <td>3.249485</td>\n",
              "      <td>3.900409</td>\n",
              "      <td>102.588867</td>\n",
              "      <td>1643.774302</td>\n",
              "      <td>3.302292</td>\n",
              "      <td>7.993617</td>\n",
              "    </tr>\n",
              "    <tr>\n",
              "      <th>std</th>\n",
              "      <td>1.504571e+05</td>\n",
              "      <td>0.191417</td>\n",
              "      <td>1.468381</td>\n",
              "      <td>0.151957</td>\n",
              "      <td>0.072145</td>\n",
              "      <td>0.201459</td>\n",
              "      <td>0.421983</td>\n",
              "      <td>0.763131</td>\n",
              "      <td>0.680779</td>\n",
              "      <td>1.036574</td>\n",
              "      <td>1.188852</td>\n",
              "      <td>0.692460</td>\n",
              "      <td>0.933052</td>\n",
              "      <td>1.206172</td>\n",
              "      <td>1.047559</td>\n",
              "      <td>1.440995</td>\n",
              "      <td>1.771202</td>\n",
              "      <td>1.772216</td>\n",
              "      <td>1.876428</td>\n",
              "      <td>4.730877</td>\n",
              "      <td>0.946550</td>\n",
              "      <td>1.772216</td>\n",
              "      <td>0.491107</td>\n",
              "      <td>0.267782</td>\n",
              "      <td>0.390756</td>\n",
              "      <td>0.092235</td>\n",
              "      <td>0.319788</td>\n",
              "      <td>0.113621</td>\n",
              "      <td>0.038248</td>\n",
              "      <td>0.038248</td>\n",
              "      <td>0.461361</td>\n",
              "      <td>0.416196</td>\n",
              "      <td>0.030675</td>\n",
              "      <td>0.032332</td>\n",
              "      <td>0.127120</td>\n",
              "      <td>0.248156</td>\n",
              "      <td>0.170391</td>\n",
              "      <td>0.131805</td>\n",
              "      <td>0.055942</td>\n",
              "      <td>0.046827</td>\n",
              "      <td>...</td>\n",
              "      <td>0.341384</td>\n",
              "      <td>0.376140</td>\n",
              "      <td>0.405683</td>\n",
              "      <td>0.388653</td>\n",
              "      <td>0.316233</td>\n",
              "      <td>0.132568</td>\n",
              "      <td>0.123892</td>\n",
              "      <td>0.346790</td>\n",
              "      <td>0.123071</td>\n",
              "      <td>0.944507</td>\n",
              "      <td>0.819946</td>\n",
              "      <td>0.48578</td>\n",
              "      <td>0.300754</td>\n",
              "      <td>0.385573</td>\n",
              "      <td>0.129485</td>\n",
              "      <td>0.274750</td>\n",
              "      <td>0.302827</td>\n",
              "      <td>0.451251</td>\n",
              "      <td>0.155199</td>\n",
              "      <td>1.483249</td>\n",
              "      <td>0.492286</td>\n",
              "      <td>0.290036</td>\n",
              "      <td>0.241826</td>\n",
              "      <td>0.275543</td>\n",
              "      <td>0.291646</td>\n",
              "      <td>0.272348</td>\n",
              "      <td>0.451650</td>\n",
              "      <td>0.451650</td>\n",
              "      <td>21.612261</td>\n",
              "      <td>76.777549</td>\n",
              "      <td>1741.197050</td>\n",
              "      <td>18.751395</td>\n",
              "      <td>78.445804</td>\n",
              "      <td>6.946296</td>\n",
              "      <td>4.129547</td>\n",
              "      <td>12.511831</td>\n",
              "      <td>93.516890</td>\n",
              "      <td>1741.197050</td>\n",
              "      <td>1.009565</td>\n",
              "      <td>4.389171</td>\n",
              "    </tr>\n",
              "    <tr>\n",
              "      <th>min</th>\n",
              "      <td>0.000000e+00</td>\n",
              "      <td>0.000000</td>\n",
              "      <td>1.000000</td>\n",
              "      <td>0.000000</td>\n",
              "      <td>0.000000</td>\n",
              "      <td>0.000000</td>\n",
              "      <td>0.000000</td>\n",
              "      <td>1.000000</td>\n",
              "      <td>0.000000</td>\n",
              "      <td>0.000000</td>\n",
              "      <td>0.000000</td>\n",
              "      <td>0.000000</td>\n",
              "      <td>0.000000</td>\n",
              "      <td>0.000000</td>\n",
              "      <td>0.000000</td>\n",
              "      <td>1.000000</td>\n",
              "      <td>1.000000</td>\n",
              "      <td>1.000000</td>\n",
              "      <td>1.000000</td>\n",
              "      <td>0.000000</td>\n",
              "      <td>0.000000</td>\n",
              "      <td>1.000000</td>\n",
              "      <td>0.000000</td>\n",
              "      <td>0.000000</td>\n",
              "      <td>0.000000</td>\n",
              "      <td>0.000000</td>\n",
              "      <td>0.000000</td>\n",
              "      <td>0.000000</td>\n",
              "      <td>0.000000</td>\n",
              "      <td>0.000000</td>\n",
              "      <td>0.000000</td>\n",
              "      <td>0.000000</td>\n",
              "      <td>0.000000</td>\n",
              "      <td>0.000000</td>\n",
              "      <td>0.000000</td>\n",
              "      <td>0.000000</td>\n",
              "      <td>0.000000</td>\n",
              "      <td>0.000000</td>\n",
              "      <td>0.000000</td>\n",
              "      <td>0.000000</td>\n",
              "      <td>...</td>\n",
              "      <td>0.000000</td>\n",
              "      <td>0.000000</td>\n",
              "      <td>0.000000</td>\n",
              "      <td>0.000000</td>\n",
              "      <td>0.000000</td>\n",
              "      <td>0.000000</td>\n",
              "      <td>0.000000</td>\n",
              "      <td>0.000000</td>\n",
              "      <td>0.000000</td>\n",
              "      <td>1.000000</td>\n",
              "      <td>0.200000</td>\n",
              "      <td>0.00000</td>\n",
              "      <td>0.000000</td>\n",
              "      <td>0.000000</td>\n",
              "      <td>0.000000</td>\n",
              "      <td>0.000000</td>\n",
              "      <td>0.000000</td>\n",
              "      <td>0.000000</td>\n",
              "      <td>0.000000</td>\n",
              "      <td>0.000000</td>\n",
              "      <td>0.000000</td>\n",
              "      <td>0.000000</td>\n",
              "      <td>0.000000</td>\n",
              "      <td>0.000000</td>\n",
              "      <td>0.000000</td>\n",
              "      <td>0.000000</td>\n",
              "      <td>0.000000</td>\n",
              "      <td>0.000000</td>\n",
              "      <td>0.000000</td>\n",
              "      <td>0.000000</td>\n",
              "      <td>0.000000</td>\n",
              "      <td>1.000000</td>\n",
              "      <td>0.000000</td>\n",
              "      <td>0.000000</td>\n",
              "      <td>0.040000</td>\n",
              "      <td>0.000000</td>\n",
              "      <td>0.000000</td>\n",
              "      <td>0.000000</td>\n",
              "      <td>1.000000</td>\n",
              "      <td>0.000000</td>\n",
              "    </tr>\n",
              "    <tr>\n",
              "      <th>25%</th>\n",
              "      <td>8.000000e+04</td>\n",
              "      <td>0.000000</td>\n",
              "      <td>4.000000</td>\n",
              "      <td>0.000000</td>\n",
              "      <td>1.000000</td>\n",
              "      <td>1.000000</td>\n",
              "      <td>0.000000</td>\n",
              "      <td>1.000000</td>\n",
              "      <td>0.000000</td>\n",
              "      <td>1.000000</td>\n",
              "      <td>1.000000</td>\n",
              "      <td>0.000000</td>\n",
              "      <td>1.000000</td>\n",
              "      <td>1.000000</td>\n",
              "      <td>0.000000</td>\n",
              "      <td>2.000000</td>\n",
              "      <td>3.000000</td>\n",
              "      <td>3.000000</td>\n",
              "      <td>3.000000</td>\n",
              "      <td>4.000000</td>\n",
              "      <td>0.000000</td>\n",
              "      <td>3.000000</td>\n",
              "      <td>0.000000</td>\n",
              "      <td>0.000000</td>\n",
              "      <td>0.000000</td>\n",
              "      <td>0.000000</td>\n",
              "      <td>0.000000</td>\n",
              "      <td>0.000000</td>\n",
              "      <td>0.000000</td>\n",
              "      <td>0.000000</td>\n",
              "      <td>0.000000</td>\n",
              "      <td>0.000000</td>\n",
              "      <td>0.000000</td>\n",
              "      <td>0.000000</td>\n",
              "      <td>0.000000</td>\n",
              "      <td>0.000000</td>\n",
              "      <td>1.000000</td>\n",
              "      <td>0.000000</td>\n",
              "      <td>0.000000</td>\n",
              "      <td>0.000000</td>\n",
              "      <td>...</td>\n",
              "      <td>0.000000</td>\n",
              "      <td>0.000000</td>\n",
              "      <td>0.000000</td>\n",
              "      <td>0.000000</td>\n",
              "      <td>0.000000</td>\n",
              "      <td>0.000000</td>\n",
              "      <td>0.000000</td>\n",
              "      <td>0.000000</td>\n",
              "      <td>0.000000</td>\n",
              "      <td>2.000000</td>\n",
              "      <td>1.000000</td>\n",
              "      <td>0.00000</td>\n",
              "      <td>0.000000</td>\n",
              "      <td>0.000000</td>\n",
              "      <td>0.000000</td>\n",
              "      <td>0.000000</td>\n",
              "      <td>0.000000</td>\n",
              "      <td>0.000000</td>\n",
              "      <td>1.000000</td>\n",
              "      <td>2.000000</td>\n",
              "      <td>0.000000</td>\n",
              "      <td>0.000000</td>\n",
              "      <td>0.000000</td>\n",
              "      <td>0.000000</td>\n",
              "      <td>0.000000</td>\n",
              "      <td>0.000000</td>\n",
              "      <td>0.000000</td>\n",
              "      <td>0.000000</td>\n",
              "      <td>17.000000</td>\n",
              "      <td>16.000000</td>\n",
              "      <td>289.000000</td>\n",
              "      <td>9.000000</td>\n",
              "      <td>0.000000</td>\n",
              "      <td>0.000000</td>\n",
              "      <td>1.000000</td>\n",
              "      <td>0.111111</td>\n",
              "      <td>36.000000</td>\n",
              "      <td>289.000000</td>\n",
              "      <td>3.000000</td>\n",
              "      <td>6.000000</td>\n",
              "    </tr>\n",
              "    <tr>\n",
              "      <th>50%</th>\n",
              "      <td>1.300000e+05</td>\n",
              "      <td>0.000000</td>\n",
              "      <td>5.000000</td>\n",
              "      <td>0.000000</td>\n",
              "      <td>1.000000</td>\n",
              "      <td>1.000000</td>\n",
              "      <td>0.000000</td>\n",
              "      <td>1.000000</td>\n",
              "      <td>0.000000</td>\n",
              "      <td>1.000000</td>\n",
              "      <td>2.000000</td>\n",
              "      <td>0.000000</td>\n",
              "      <td>1.000000</td>\n",
              "      <td>2.000000</td>\n",
              "      <td>0.000000</td>\n",
              "      <td>3.000000</td>\n",
              "      <td>4.000000</td>\n",
              "      <td>4.000000</td>\n",
              "      <td>4.000000</td>\n",
              "      <td>6.000000</td>\n",
              "      <td>0.000000</td>\n",
              "      <td>4.000000</td>\n",
              "      <td>1.000000</td>\n",
              "      <td>0.000000</td>\n",
              "      <td>0.000000</td>\n",
              "      <td>0.000000</td>\n",
              "      <td>0.000000</td>\n",
              "      <td>0.000000</td>\n",
              "      <td>0.000000</td>\n",
              "      <td>0.000000</td>\n",
              "      <td>1.000000</td>\n",
              "      <td>0.000000</td>\n",
              "      <td>0.000000</td>\n",
              "      <td>0.000000</td>\n",
              "      <td>0.000000</td>\n",
              "      <td>0.000000</td>\n",
              "      <td>1.000000</td>\n",
              "      <td>0.000000</td>\n",
              "      <td>0.000000</td>\n",
              "      <td>0.000000</td>\n",
              "      <td>...</td>\n",
              "      <td>0.000000</td>\n",
              "      <td>0.000000</td>\n",
              "      <td>0.000000</td>\n",
              "      <td>0.000000</td>\n",
              "      <td>0.000000</td>\n",
              "      <td>0.000000</td>\n",
              "      <td>0.000000</td>\n",
              "      <td>0.000000</td>\n",
              "      <td>0.000000</td>\n",
              "      <td>3.000000</td>\n",
              "      <td>1.500000</td>\n",
              "      <td>1.00000</td>\n",
              "      <td>0.000000</td>\n",
              "      <td>0.000000</td>\n",
              "      <td>0.000000</td>\n",
              "      <td>0.000000</td>\n",
              "      <td>0.000000</td>\n",
              "      <td>0.000000</td>\n",
              "      <td>1.000000</td>\n",
              "      <td>3.000000</td>\n",
              "      <td>1.000000</td>\n",
              "      <td>0.000000</td>\n",
              "      <td>0.000000</td>\n",
              "      <td>0.000000</td>\n",
              "      <td>0.000000</td>\n",
              "      <td>0.000000</td>\n",
              "      <td>1.000000</td>\n",
              "      <td>0.000000</td>\n",
              "      <td>31.000000</td>\n",
              "      <td>36.000000</td>\n",
              "      <td>961.000000</td>\n",
              "      <td>16.000000</td>\n",
              "      <td>36.000000</td>\n",
              "      <td>1.000000</td>\n",
              "      <td>2.250000</td>\n",
              "      <td>0.444444</td>\n",
              "      <td>81.000000</td>\n",
              "      <td>961.000000</td>\n",
              "      <td>4.000000</td>\n",
              "      <td>6.000000</td>\n",
              "    </tr>\n",
              "    <tr>\n",
              "      <th>75%</th>\n",
              "      <td>2.000000e+05</td>\n",
              "      <td>0.000000</td>\n",
              "      <td>6.000000</td>\n",
              "      <td>0.000000</td>\n",
              "      <td>1.000000</td>\n",
              "      <td>1.000000</td>\n",
              "      <td>0.000000</td>\n",
              "      <td>2.000000</td>\n",
              "      <td>1.000000</td>\n",
              "      <td>2.000000</td>\n",
              "      <td>3.000000</td>\n",
              "      <td>1.000000</td>\n",
              "      <td>2.000000</td>\n",
              "      <td>3.000000</td>\n",
              "      <td>1.000000</td>\n",
              "      <td>4.000000</td>\n",
              "      <td>5.000000</td>\n",
              "      <td>5.000000</td>\n",
              "      <td>5.000000</td>\n",
              "      <td>11.000000</td>\n",
              "      <td>1.000000</td>\n",
              "      <td>5.000000</td>\n",
              "      <td>1.000000</td>\n",
              "      <td>0.000000</td>\n",
              "      <td>0.000000</td>\n",
              "      <td>0.000000</td>\n",
              "      <td>0.000000</td>\n",
              "      <td>0.000000</td>\n",
              "      <td>0.000000</td>\n",
              "      <td>0.000000</td>\n",
              "      <td>1.000000</td>\n",
              "      <td>0.000000</td>\n",
              "      <td>0.000000</td>\n",
              "      <td>0.000000</td>\n",
              "      <td>0.000000</td>\n",
              "      <td>0.000000</td>\n",
              "      <td>1.000000</td>\n",
              "      <td>0.000000</td>\n",
              "      <td>0.000000</td>\n",
              "      <td>0.000000</td>\n",
              "      <td>...</td>\n",
              "      <td>0.000000</td>\n",
              "      <td>0.000000</td>\n",
              "      <td>0.000000</td>\n",
              "      <td>0.000000</td>\n",
              "      <td>0.000000</td>\n",
              "      <td>0.000000</td>\n",
              "      <td>0.000000</td>\n",
              "      <td>0.000000</td>\n",
              "      <td>0.000000</td>\n",
              "      <td>3.000000</td>\n",
              "      <td>2.000000</td>\n",
              "      <td>1.00000</td>\n",
              "      <td>0.000000</td>\n",
              "      <td>0.000000</td>\n",
              "      <td>0.000000</td>\n",
              "      <td>0.000000</td>\n",
              "      <td>0.000000</td>\n",
              "      <td>1.000000</td>\n",
              "      <td>1.000000</td>\n",
              "      <td>4.000000</td>\n",
              "      <td>1.000000</td>\n",
              "      <td>0.000000</td>\n",
              "      <td>0.000000</td>\n",
              "      <td>0.000000</td>\n",
              "      <td>0.000000</td>\n",
              "      <td>0.000000</td>\n",
              "      <td>1.000000</td>\n",
              "      <td>1.000000</td>\n",
              "      <td>51.000000</td>\n",
              "      <td>121.000000</td>\n",
              "      <td>2601.000000</td>\n",
              "      <td>25.000000</td>\n",
              "      <td>81.000000</td>\n",
              "      <td>4.000000</td>\n",
              "      <td>4.000000</td>\n",
              "      <td>1.777778</td>\n",
              "      <td>134.560010</td>\n",
              "      <td>2601.000000</td>\n",
              "      <td>4.000000</td>\n",
              "      <td>11.000000</td>\n",
              "    </tr>\n",
              "    <tr>\n",
              "      <th>max</th>\n",
              "      <td>2.353477e+06</td>\n",
              "      <td>1.000000</td>\n",
              "      <td>11.000000</td>\n",
              "      <td>1.000000</td>\n",
              "      <td>1.000000</td>\n",
              "      <td>1.000000</td>\n",
              "      <td>1.000000</td>\n",
              "      <td>6.000000</td>\n",
              "      <td>5.000000</td>\n",
              "      <td>8.000000</td>\n",
              "      <td>8.000000</td>\n",
              "      <td>6.000000</td>\n",
              "      <td>6.000000</td>\n",
              "      <td>8.000000</td>\n",
              "      <td>7.000000</td>\n",
              "      <td>11.000000</td>\n",
              "      <td>13.000000</td>\n",
              "      <td>13.000000</td>\n",
              "      <td>15.000000</td>\n",
              "      <td>21.000000</td>\n",
              "      <td>5.000000</td>\n",
              "      <td>13.000000</td>\n",
              "      <td>1.000000</td>\n",
              "      <td>1.000000</td>\n",
              "      <td>1.000000</td>\n",
              "      <td>1.000000</td>\n",
              "      <td>1.000000</td>\n",
              "      <td>1.000000</td>\n",
              "      <td>1.000000</td>\n",
              "      <td>1.000000</td>\n",
              "      <td>1.000000</td>\n",
              "      <td>1.000000</td>\n",
              "      <td>1.000000</td>\n",
              "      <td>1.000000</td>\n",
              "      <td>1.000000</td>\n",
              "      <td>1.000000</td>\n",
              "      <td>1.000000</td>\n",
              "      <td>1.000000</td>\n",
              "      <td>1.000000</td>\n",
              "      <td>1.000000</td>\n",
              "      <td>...</td>\n",
              "      <td>1.000000</td>\n",
              "      <td>1.000000</td>\n",
              "      <td>1.000000</td>\n",
              "      <td>1.000000</td>\n",
              "      <td>1.000000</td>\n",
              "      <td>1.000000</td>\n",
              "      <td>1.000000</td>\n",
              "      <td>1.000000</td>\n",
              "      <td>1.000000</td>\n",
              "      <td>8.000000</td>\n",
              "      <td>6.000000</td>\n",
              "      <td>1.00000</td>\n",
              "      <td>1.000000</td>\n",
              "      <td>1.000000</td>\n",
              "      <td>1.000000</td>\n",
              "      <td>1.000000</td>\n",
              "      <td>1.000000</td>\n",
              "      <td>1.000000</td>\n",
              "      <td>1.000000</td>\n",
              "      <td>10.000000</td>\n",
              "      <td>1.000000</td>\n",
              "      <td>1.000000</td>\n",
              "      <td>1.000000</td>\n",
              "      <td>1.000000</td>\n",
              "      <td>1.000000</td>\n",
              "      <td>1.000000</td>\n",
              "      <td>1.000000</td>\n",
              "      <td>1.000000</td>\n",
              "      <td>97.000000</td>\n",
              "      <td>441.000000</td>\n",
              "      <td>9409.000000</td>\n",
              "      <td>169.000000</td>\n",
              "      <td>441.000000</td>\n",
              "      <td>81.000000</td>\n",
              "      <td>36.000000</td>\n",
              "      <td>64.000000</td>\n",
              "      <td>1369.000000</td>\n",
              "      <td>9409.000000</td>\n",
              "      <td>4.000000</td>\n",
              "      <td>21.000000</td>\n",
              "    </tr>\n",
              "  </tbody>\n",
              "</table>\n",
              "<p>8 rows × 140 columns</p>\n",
              "</div>"
            ],
            "text/plain": [
              "               v2a1       hacdor  ...       Target       edjefx\n",
              "count  2.697000e+03  9557.000000  ...  9557.000000  9557.000000\n",
              "mean   1.652316e+05     0.038087  ...     3.302292     7.993617\n",
              "std    1.504571e+05     0.191417  ...     1.009565     4.389171\n",
              "min    0.000000e+00     0.000000  ...     1.000000     0.000000\n",
              "25%    8.000000e+04     0.000000  ...     3.000000     6.000000\n",
              "50%    1.300000e+05     0.000000  ...     4.000000     6.000000\n",
              "75%    2.000000e+05     0.000000  ...     4.000000    11.000000\n",
              "max    2.353477e+06     1.000000  ...     4.000000    21.000000\n",
              "\n",
              "[8 rows x 140 columns]"
            ]
          },
          "metadata": {
            "tags": []
          },
          "execution_count": 34
        }
      ]
    },
    {
      "cell_type": "markdown",
      "metadata": {
        "id": "P6KHU6qUzoUI"
      },
      "source": [
        "# Missing values"
      ]
    },
    {
      "cell_type": "code",
      "metadata": {
        "id": "jKNpbBENzZZD",
        "colab": {
          "base_uri": "https://localhost:8080/"
        },
        "outputId": "115d29b0-f8a7-47c7-e79d-74b725349d6d"
      },
      "source": [
        "data.columns[data.isna().sum()!=0]"
      ],
      "execution_count": 35,
      "outputs": [
        {
          "output_type": "execute_result",
          "data": {
            "text/plain": [
              "Index(['v2a1', 'v18q1', 'rez_esc', 'meaneduc', 'SQBmeaned'], dtype='object')"
            ]
          },
          "metadata": {
            "tags": []
          },
          "execution_count": 35
        }
      ]
    },
    {
      "cell_type": "markdown",
      "metadata": {
        "id": "Je3XkIp8zupD"
      },
      "source": [
        "Columns with nans:\n",
        "\n",
        "* v2a1 - monthly rent\n",
        "* v18q1 - number of tablets\n",
        "* rez_esc - years behind school\n",
        "* meaneduc - mean education for adults\n",
        "* SQBmeaned - square of meaned\n",
        "\n",
        "'meaneduc' and 'SQBmeaned' are related, let's start with those."
      ]
    },
    {
      "cell_type": "code",
      "metadata": {
        "id": "hhUBmCCTzZJy",
        "colab": {
          "base_uri": "https://localhost:8080/",
          "height": 252
        },
        "outputId": "1d2ad629-569d-4043-b51c-c926111576bb"
      },
      "source": [
        "data[data['meaneduc'].isnull()]"
      ],
      "execution_count": 36,
      "outputs": [
        {
          "output_type": "execute_result",
          "data": {
            "text/html": [
              "<div>\n",
              "<style scoped>\n",
              "    .dataframe tbody tr th:only-of-type {\n",
              "        vertical-align: middle;\n",
              "    }\n",
              "\n",
              "    .dataframe tbody tr th {\n",
              "        vertical-align: top;\n",
              "    }\n",
              "\n",
              "    .dataframe thead th {\n",
              "        text-align: right;\n",
              "    }\n",
              "</style>\n",
              "<table border=\"1\" class=\"dataframe\">\n",
              "  <thead>\n",
              "    <tr style=\"text-align: right;\">\n",
              "      <th></th>\n",
              "      <th>Id</th>\n",
              "      <th>v2a1</th>\n",
              "      <th>hacdor</th>\n",
              "      <th>rooms</th>\n",
              "      <th>hacapo</th>\n",
              "      <th>v14a</th>\n",
              "      <th>refrig</th>\n",
              "      <th>v18q</th>\n",
              "      <th>v18q1</th>\n",
              "      <th>r4h1</th>\n",
              "      <th>r4h2</th>\n",
              "      <th>r4h3</th>\n",
              "      <th>r4m1</th>\n",
              "      <th>r4m2</th>\n",
              "      <th>r4m3</th>\n",
              "      <th>r4t1</th>\n",
              "      <th>r4t2</th>\n",
              "      <th>r4t3</th>\n",
              "      <th>tamhog</th>\n",
              "      <th>tamviv</th>\n",
              "      <th>escolari</th>\n",
              "      <th>rez_esc</th>\n",
              "      <th>hhsize</th>\n",
              "      <th>paredblolad</th>\n",
              "      <th>paredzocalo</th>\n",
              "      <th>paredpreb</th>\n",
              "      <th>pareddes</th>\n",
              "      <th>paredmad</th>\n",
              "      <th>paredzinc</th>\n",
              "      <th>paredfibras</th>\n",
              "      <th>paredother</th>\n",
              "      <th>pisomoscer</th>\n",
              "      <th>pisocemento</th>\n",
              "      <th>pisoother</th>\n",
              "      <th>pisonatur</th>\n",
              "      <th>pisonotiene</th>\n",
              "      <th>pisomadera</th>\n",
              "      <th>techozinc</th>\n",
              "      <th>techoentrepiso</th>\n",
              "      <th>techocane</th>\n",
              "      <th>...</th>\n",
              "      <th>instlevel1</th>\n",
              "      <th>instlevel2</th>\n",
              "      <th>instlevel3</th>\n",
              "      <th>instlevel4</th>\n",
              "      <th>instlevel5</th>\n",
              "      <th>instlevel6</th>\n",
              "      <th>instlevel7</th>\n",
              "      <th>instlevel8</th>\n",
              "      <th>instlevel9</th>\n",
              "      <th>bedrooms</th>\n",
              "      <th>overcrowding</th>\n",
              "      <th>tipovivi1</th>\n",
              "      <th>tipovivi2</th>\n",
              "      <th>tipovivi3</th>\n",
              "      <th>tipovivi4</th>\n",
              "      <th>tipovivi5</th>\n",
              "      <th>computer</th>\n",
              "      <th>television</th>\n",
              "      <th>mobilephone</th>\n",
              "      <th>qmobilephone</th>\n",
              "      <th>lugar1</th>\n",
              "      <th>lugar2</th>\n",
              "      <th>lugar3</th>\n",
              "      <th>lugar4</th>\n",
              "      <th>lugar5</th>\n",
              "      <th>lugar6</th>\n",
              "      <th>area1</th>\n",
              "      <th>area2</th>\n",
              "      <th>age</th>\n",
              "      <th>SQBescolari</th>\n",
              "      <th>SQBage</th>\n",
              "      <th>SQBhogar_total</th>\n",
              "      <th>SQBedjefe</th>\n",
              "      <th>SQBhogar_nin</th>\n",
              "      <th>SQBovercrowding</th>\n",
              "      <th>SQBdependency</th>\n",
              "      <th>SQBmeaned</th>\n",
              "      <th>agesq</th>\n",
              "      <th>Target</th>\n",
              "      <th>edjefx</th>\n",
              "    </tr>\n",
              "  </thead>\n",
              "  <tbody>\n",
              "    <tr>\n",
              "      <th>1291</th>\n",
              "      <td>ID_bd8e11b0f</td>\n",
              "      <td>NaN</td>\n",
              "      <td>0</td>\n",
              "      <td>7</td>\n",
              "      <td>0</td>\n",
              "      <td>1</td>\n",
              "      <td>1</td>\n",
              "      <td>0</td>\n",
              "      <td>NaN</td>\n",
              "      <td>0</td>\n",
              "      <td>0</td>\n",
              "      <td>0</td>\n",
              "      <td>0</td>\n",
              "      <td>1</td>\n",
              "      <td>1</td>\n",
              "      <td>0</td>\n",
              "      <td>1</td>\n",
              "      <td>1</td>\n",
              "      <td>1</td>\n",
              "      <td>1</td>\n",
              "      <td>10</td>\n",
              "      <td>NaN</td>\n",
              "      <td>1</td>\n",
              "      <td>0</td>\n",
              "      <td>0</td>\n",
              "      <td>0</td>\n",
              "      <td>0</td>\n",
              "      <td>1</td>\n",
              "      <td>0</td>\n",
              "      <td>0</td>\n",
              "      <td>0</td>\n",
              "      <td>1</td>\n",
              "      <td>0</td>\n",
              "      <td>0</td>\n",
              "      <td>0</td>\n",
              "      <td>0</td>\n",
              "      <td>0</td>\n",
              "      <td>1</td>\n",
              "      <td>0</td>\n",
              "      <td>0</td>\n",
              "      <td>...</td>\n",
              "      <td>0</td>\n",
              "      <td>0</td>\n",
              "      <td>0</td>\n",
              "      <td>1</td>\n",
              "      <td>0</td>\n",
              "      <td>0</td>\n",
              "      <td>0</td>\n",
              "      <td>0</td>\n",
              "      <td>0</td>\n",
              "      <td>5</td>\n",
              "      <td>0.2</td>\n",
              "      <td>1</td>\n",
              "      <td>0</td>\n",
              "      <td>0</td>\n",
              "      <td>0</td>\n",
              "      <td>0</td>\n",
              "      <td>1</td>\n",
              "      <td>1</td>\n",
              "      <td>1</td>\n",
              "      <td>1</td>\n",
              "      <td>1</td>\n",
              "      <td>0</td>\n",
              "      <td>0</td>\n",
              "      <td>0</td>\n",
              "      <td>0</td>\n",
              "      <td>0</td>\n",
              "      <td>1</td>\n",
              "      <td>0</td>\n",
              "      <td>18</td>\n",
              "      <td>100</td>\n",
              "      <td>324</td>\n",
              "      <td>1</td>\n",
              "      <td>0</td>\n",
              "      <td>1</td>\n",
              "      <td>0.04</td>\n",
              "      <td>64.0</td>\n",
              "      <td>NaN</td>\n",
              "      <td>324</td>\n",
              "      <td>4</td>\n",
              "      <td>10</td>\n",
              "    </tr>\n",
              "    <tr>\n",
              "      <th>1840</th>\n",
              "      <td>ID_46ff87316</td>\n",
              "      <td>110000.0</td>\n",
              "      <td>0</td>\n",
              "      <td>1</td>\n",
              "      <td>0</td>\n",
              "      <td>1</td>\n",
              "      <td>1</td>\n",
              "      <td>0</td>\n",
              "      <td>NaN</td>\n",
              "      <td>0</td>\n",
              "      <td>1</td>\n",
              "      <td>1</td>\n",
              "      <td>0</td>\n",
              "      <td>1</td>\n",
              "      <td>1</td>\n",
              "      <td>0</td>\n",
              "      <td>2</td>\n",
              "      <td>2</td>\n",
              "      <td>2</td>\n",
              "      <td>2</td>\n",
              "      <td>6</td>\n",
              "      <td>NaN</td>\n",
              "      <td>2</td>\n",
              "      <td>1</td>\n",
              "      <td>0</td>\n",
              "      <td>0</td>\n",
              "      <td>0</td>\n",
              "      <td>0</td>\n",
              "      <td>0</td>\n",
              "      <td>0</td>\n",
              "      <td>0</td>\n",
              "      <td>1</td>\n",
              "      <td>0</td>\n",
              "      <td>0</td>\n",
              "      <td>0</td>\n",
              "      <td>0</td>\n",
              "      <td>0</td>\n",
              "      <td>1</td>\n",
              "      <td>0</td>\n",
              "      <td>0</td>\n",
              "      <td>...</td>\n",
              "      <td>0</td>\n",
              "      <td>0</td>\n",
              "      <td>1</td>\n",
              "      <td>0</td>\n",
              "      <td>0</td>\n",
              "      <td>0</td>\n",
              "      <td>0</td>\n",
              "      <td>0</td>\n",
              "      <td>0</td>\n",
              "      <td>1</td>\n",
              "      <td>2.0</td>\n",
              "      <td>0</td>\n",
              "      <td>0</td>\n",
              "      <td>1</td>\n",
              "      <td>0</td>\n",
              "      <td>0</td>\n",
              "      <td>0</td>\n",
              "      <td>0</td>\n",
              "      <td>1</td>\n",
              "      <td>2</td>\n",
              "      <td>1</td>\n",
              "      <td>0</td>\n",
              "      <td>0</td>\n",
              "      <td>0</td>\n",
              "      <td>0</td>\n",
              "      <td>0</td>\n",
              "      <td>1</td>\n",
              "      <td>0</td>\n",
              "      <td>18</td>\n",
              "      <td>36</td>\n",
              "      <td>324</td>\n",
              "      <td>4</td>\n",
              "      <td>16</td>\n",
              "      <td>4</td>\n",
              "      <td>4.00</td>\n",
              "      <td>64.0</td>\n",
              "      <td>NaN</td>\n",
              "      <td>324</td>\n",
              "      <td>4</td>\n",
              "      <td>4</td>\n",
              "    </tr>\n",
              "    <tr>\n",
              "      <th>1841</th>\n",
              "      <td>ID_69f50bf3e</td>\n",
              "      <td>110000.0</td>\n",
              "      <td>0</td>\n",
              "      <td>1</td>\n",
              "      <td>0</td>\n",
              "      <td>1</td>\n",
              "      <td>1</td>\n",
              "      <td>0</td>\n",
              "      <td>NaN</td>\n",
              "      <td>0</td>\n",
              "      <td>1</td>\n",
              "      <td>1</td>\n",
              "      <td>0</td>\n",
              "      <td>1</td>\n",
              "      <td>1</td>\n",
              "      <td>0</td>\n",
              "      <td>2</td>\n",
              "      <td>2</td>\n",
              "      <td>2</td>\n",
              "      <td>2</td>\n",
              "      <td>4</td>\n",
              "      <td>NaN</td>\n",
              "      <td>2</td>\n",
              "      <td>1</td>\n",
              "      <td>0</td>\n",
              "      <td>0</td>\n",
              "      <td>0</td>\n",
              "      <td>0</td>\n",
              "      <td>0</td>\n",
              "      <td>0</td>\n",
              "      <td>0</td>\n",
              "      <td>1</td>\n",
              "      <td>0</td>\n",
              "      <td>0</td>\n",
              "      <td>0</td>\n",
              "      <td>0</td>\n",
              "      <td>0</td>\n",
              "      <td>1</td>\n",
              "      <td>0</td>\n",
              "      <td>0</td>\n",
              "      <td>...</td>\n",
              "      <td>0</td>\n",
              "      <td>1</td>\n",
              "      <td>0</td>\n",
              "      <td>0</td>\n",
              "      <td>0</td>\n",
              "      <td>0</td>\n",
              "      <td>0</td>\n",
              "      <td>0</td>\n",
              "      <td>0</td>\n",
              "      <td>1</td>\n",
              "      <td>2.0</td>\n",
              "      <td>0</td>\n",
              "      <td>0</td>\n",
              "      <td>1</td>\n",
              "      <td>0</td>\n",
              "      <td>0</td>\n",
              "      <td>0</td>\n",
              "      <td>0</td>\n",
              "      <td>1</td>\n",
              "      <td>2</td>\n",
              "      <td>1</td>\n",
              "      <td>0</td>\n",
              "      <td>0</td>\n",
              "      <td>0</td>\n",
              "      <td>0</td>\n",
              "      <td>0</td>\n",
              "      <td>1</td>\n",
              "      <td>0</td>\n",
              "      <td>18</td>\n",
              "      <td>16</td>\n",
              "      <td>324</td>\n",
              "      <td>4</td>\n",
              "      <td>16</td>\n",
              "      <td>4</td>\n",
              "      <td>4.00</td>\n",
              "      <td>64.0</td>\n",
              "      <td>NaN</td>\n",
              "      <td>324</td>\n",
              "      <td>4</td>\n",
              "      <td>4</td>\n",
              "    </tr>\n",
              "    <tr>\n",
              "      <th>2049</th>\n",
              "      <td>ID_db3168f9f</td>\n",
              "      <td>180000.0</td>\n",
              "      <td>0</td>\n",
              "      <td>3</td>\n",
              "      <td>0</td>\n",
              "      <td>1</td>\n",
              "      <td>1</td>\n",
              "      <td>0</td>\n",
              "      <td>NaN</td>\n",
              "      <td>0</td>\n",
              "      <td>2</td>\n",
              "      <td>2</td>\n",
              "      <td>0</td>\n",
              "      <td>0</td>\n",
              "      <td>0</td>\n",
              "      <td>0</td>\n",
              "      <td>2</td>\n",
              "      <td>2</td>\n",
              "      <td>2</td>\n",
              "      <td>2</td>\n",
              "      <td>12</td>\n",
              "      <td>NaN</td>\n",
              "      <td>2</td>\n",
              "      <td>0</td>\n",
              "      <td>0</td>\n",
              "      <td>1</td>\n",
              "      <td>0</td>\n",
              "      <td>0</td>\n",
              "      <td>0</td>\n",
              "      <td>0</td>\n",
              "      <td>0</td>\n",
              "      <td>1</td>\n",
              "      <td>0</td>\n",
              "      <td>0</td>\n",
              "      <td>0</td>\n",
              "      <td>0</td>\n",
              "      <td>0</td>\n",
              "      <td>1</td>\n",
              "      <td>0</td>\n",
              "      <td>0</td>\n",
              "      <td>...</td>\n",
              "      <td>0</td>\n",
              "      <td>0</td>\n",
              "      <td>0</td>\n",
              "      <td>0</td>\n",
              "      <td>0</td>\n",
              "      <td>0</td>\n",
              "      <td>1</td>\n",
              "      <td>0</td>\n",
              "      <td>0</td>\n",
              "      <td>2</td>\n",
              "      <td>1.0</td>\n",
              "      <td>0</td>\n",
              "      <td>0</td>\n",
              "      <td>1</td>\n",
              "      <td>0</td>\n",
              "      <td>0</td>\n",
              "      <td>0</td>\n",
              "      <td>0</td>\n",
              "      <td>1</td>\n",
              "      <td>2</td>\n",
              "      <td>1</td>\n",
              "      <td>0</td>\n",
              "      <td>0</td>\n",
              "      <td>0</td>\n",
              "      <td>0</td>\n",
              "      <td>0</td>\n",
              "      <td>1</td>\n",
              "      <td>0</td>\n",
              "      <td>19</td>\n",
              "      <td>144</td>\n",
              "      <td>361</td>\n",
              "      <td>4</td>\n",
              "      <td>144</td>\n",
              "      <td>4</td>\n",
              "      <td>1.00</td>\n",
              "      <td>64.0</td>\n",
              "      <td>NaN</td>\n",
              "      <td>361</td>\n",
              "      <td>4</td>\n",
              "      <td>12</td>\n",
              "    </tr>\n",
              "    <tr>\n",
              "      <th>2050</th>\n",
              "      <td>ID_2a7615902</td>\n",
              "      <td>180000.0</td>\n",
              "      <td>0</td>\n",
              "      <td>3</td>\n",
              "      <td>0</td>\n",
              "      <td>1</td>\n",
              "      <td>1</td>\n",
              "      <td>0</td>\n",
              "      <td>NaN</td>\n",
              "      <td>0</td>\n",
              "      <td>2</td>\n",
              "      <td>2</td>\n",
              "      <td>0</td>\n",
              "      <td>0</td>\n",
              "      <td>0</td>\n",
              "      <td>0</td>\n",
              "      <td>2</td>\n",
              "      <td>2</td>\n",
              "      <td>2</td>\n",
              "      <td>2</td>\n",
              "      <td>12</td>\n",
              "      <td>NaN</td>\n",
              "      <td>2</td>\n",
              "      <td>0</td>\n",
              "      <td>0</td>\n",
              "      <td>1</td>\n",
              "      <td>0</td>\n",
              "      <td>0</td>\n",
              "      <td>0</td>\n",
              "      <td>0</td>\n",
              "      <td>0</td>\n",
              "      <td>1</td>\n",
              "      <td>0</td>\n",
              "      <td>0</td>\n",
              "      <td>0</td>\n",
              "      <td>0</td>\n",
              "      <td>0</td>\n",
              "      <td>1</td>\n",
              "      <td>0</td>\n",
              "      <td>0</td>\n",
              "      <td>...</td>\n",
              "      <td>0</td>\n",
              "      <td>0</td>\n",
              "      <td>0</td>\n",
              "      <td>0</td>\n",
              "      <td>0</td>\n",
              "      <td>0</td>\n",
              "      <td>1</td>\n",
              "      <td>0</td>\n",
              "      <td>0</td>\n",
              "      <td>2</td>\n",
              "      <td>1.0</td>\n",
              "      <td>0</td>\n",
              "      <td>0</td>\n",
              "      <td>1</td>\n",
              "      <td>0</td>\n",
              "      <td>0</td>\n",
              "      <td>0</td>\n",
              "      <td>0</td>\n",
              "      <td>1</td>\n",
              "      <td>2</td>\n",
              "      <td>1</td>\n",
              "      <td>0</td>\n",
              "      <td>0</td>\n",
              "      <td>0</td>\n",
              "      <td>0</td>\n",
              "      <td>0</td>\n",
              "      <td>1</td>\n",
              "      <td>0</td>\n",
              "      <td>19</td>\n",
              "      <td>144</td>\n",
              "      <td>361</td>\n",
              "      <td>4</td>\n",
              "      <td>144</td>\n",
              "      <td>4</td>\n",
              "      <td>1.00</td>\n",
              "      <td>64.0</td>\n",
              "      <td>NaN</td>\n",
              "      <td>361</td>\n",
              "      <td>4</td>\n",
              "      <td>12</td>\n",
              "    </tr>\n",
              "  </tbody>\n",
              "</table>\n",
              "<p>5 rows × 144 columns</p>\n",
              "</div>"
            ],
            "text/plain": [
              "                Id      v2a1  hacdor  rooms  ...  SQBmeaned  agesq  Target  edjefx\n",
              "1291  ID_bd8e11b0f       NaN       0      7  ...        NaN    324       4      10\n",
              "1840  ID_46ff87316  110000.0       0      1  ...        NaN    324       4       4\n",
              "1841  ID_69f50bf3e  110000.0       0      1  ...        NaN    324       4       4\n",
              "2049  ID_db3168f9f  180000.0       0      3  ...        NaN    361       4      12\n",
              "2050  ID_2a7615902  180000.0       0      3  ...        NaN    361       4      12\n",
              "\n",
              "[5 rows x 144 columns]"
            ]
          },
          "metadata": {
            "tags": []
          },
          "execution_count": 36
        }
      ]
    },
    {
      "cell_type": "markdown",
      "metadata": {
        "id": "LpXDfvyHz_VL"
      },
      "source": [
        "that's not a lot of rows"
      ]
    },
    {
      "cell_type": "code",
      "metadata": {
        "id": "eqwcEjdHzZHL",
        "colab": {
          "base_uri": "https://localhost:8080/",
          "height": 203
        },
        "outputId": "f5a493cb-1e75-4552-c87b-6f43c9f8c7a2"
      },
      "source": [
        "data[data['meaneduc'].isnull()][['Id','idhogar','edjefe','edjefa', 'hogar_adul', 'hogar_mayor', 'hogar_nin', 'age', 'escolari']]"
      ],
      "execution_count": 37,
      "outputs": [
        {
          "output_type": "execute_result",
          "data": {
            "text/html": [
              "<div>\n",
              "<style scoped>\n",
              "    .dataframe tbody tr th:only-of-type {\n",
              "        vertical-align: middle;\n",
              "    }\n",
              "\n",
              "    .dataframe tbody tr th {\n",
              "        vertical-align: top;\n",
              "    }\n",
              "\n",
              "    .dataframe thead th {\n",
              "        text-align: right;\n",
              "    }\n",
              "</style>\n",
              "<table border=\"1\" class=\"dataframe\">\n",
              "  <thead>\n",
              "    <tr style=\"text-align: right;\">\n",
              "      <th></th>\n",
              "      <th>Id</th>\n",
              "      <th>idhogar</th>\n",
              "      <th>edjefe</th>\n",
              "      <th>edjefa</th>\n",
              "      <th>hogar_adul</th>\n",
              "      <th>hogar_mayor</th>\n",
              "      <th>hogar_nin</th>\n",
              "      <th>age</th>\n",
              "      <th>escolari</th>\n",
              "    </tr>\n",
              "  </thead>\n",
              "  <tbody>\n",
              "    <tr>\n",
              "      <th>1291</th>\n",
              "      <td>ID_bd8e11b0f</td>\n",
              "      <td>1b31fd159</td>\n",
              "      <td>no</td>\n",
              "      <td>10</td>\n",
              "      <td>0</td>\n",
              "      <td>0</td>\n",
              "      <td>1</td>\n",
              "      <td>18</td>\n",
              "      <td>10</td>\n",
              "    </tr>\n",
              "    <tr>\n",
              "      <th>1840</th>\n",
              "      <td>ID_46ff87316</td>\n",
              "      <td>a874b7ce7</td>\n",
              "      <td>4</td>\n",
              "      <td>no</td>\n",
              "      <td>0</td>\n",
              "      <td>0</td>\n",
              "      <td>2</td>\n",
              "      <td>18</td>\n",
              "      <td>6</td>\n",
              "    </tr>\n",
              "    <tr>\n",
              "      <th>1841</th>\n",
              "      <td>ID_69f50bf3e</td>\n",
              "      <td>a874b7ce7</td>\n",
              "      <td>4</td>\n",
              "      <td>no</td>\n",
              "      <td>0</td>\n",
              "      <td>0</td>\n",
              "      <td>2</td>\n",
              "      <td>18</td>\n",
              "      <td>4</td>\n",
              "    </tr>\n",
              "    <tr>\n",
              "      <th>2049</th>\n",
              "      <td>ID_db3168f9f</td>\n",
              "      <td>faaebf71a</td>\n",
              "      <td>12</td>\n",
              "      <td>no</td>\n",
              "      <td>0</td>\n",
              "      <td>0</td>\n",
              "      <td>2</td>\n",
              "      <td>19</td>\n",
              "      <td>12</td>\n",
              "    </tr>\n",
              "    <tr>\n",
              "      <th>2050</th>\n",
              "      <td>ID_2a7615902</td>\n",
              "      <td>faaebf71a</td>\n",
              "      <td>12</td>\n",
              "      <td>no</td>\n",
              "      <td>0</td>\n",
              "      <td>0</td>\n",
              "      <td>2</td>\n",
              "      <td>19</td>\n",
              "      <td>12</td>\n",
              "    </tr>\n",
              "  </tbody>\n",
              "</table>\n",
              "</div>"
            ],
            "text/plain": [
              "                Id    idhogar edjefe  ... hogar_nin  age  escolari\n",
              "1291  ID_bd8e11b0f  1b31fd159     no  ...         1   18        10\n",
              "1840  ID_46ff87316  a874b7ce7      4  ...         2   18         6\n",
              "1841  ID_69f50bf3e  a874b7ce7      4  ...         2   18         4\n",
              "2049  ID_db3168f9f  faaebf71a     12  ...         2   19        12\n",
              "2050  ID_2a7615902  faaebf71a     12  ...         2   19        12\n",
              "\n",
              "[5 rows x 9 columns]"
            ]
          },
          "metadata": {
            "tags": []
          },
          "execution_count": 37
        }
      ]
    },
    {
      "cell_type": "code",
      "metadata": {
        "id": "Ko2irJq_zZEb",
        "colab": {
          "base_uri": "https://localhost:8080/"
        },
        "outputId": "ffc53d95-7976-4723-d80d-e235e6c2a9d2"
      },
      "source": [
        "print(len(data[data['idhogar']==data.iloc[1291]['idhogar']]))\n",
        "print(len(data[data['idhogar']==data.iloc[1840]['idhogar']]))\n",
        "print(len(data[data['idhogar']==data.iloc[2049]['idhogar']]))"
      ],
      "execution_count": 38,
      "outputs": [
        {
          "output_type": "stream",
          "text": [
            "1\n",
            "2\n",
            "2\n"
          ],
          "name": "stdout"
        }
      ]
    },
    {
      "cell_type": "markdown",
      "metadata": {
        "id": "GFdBOwVn0G9w"
      },
      "source": [
        "So, the 5 rows with Nan for 'meaneduc' is just 3 households, where 18-19 year-olds live. No other people live in these households. Then we can just take the education levels of these kids ('escolari') and put them into 'meaneduc' and 'SQBmeaned'."
      ]
    },
    {
      "cell_type": "code",
      "metadata": {
        "id": "Kvk1p1CzzZBK"
      },
      "source": [
        "meaneduc_nan=data[data['meaneduc'].isnull()][['Id','idhogar','escolari']]"
      ],
      "execution_count": 39,
      "outputs": []
    },
    {
      "cell_type": "code",
      "metadata": {
        "id": "B5EVCbJWzY-R"
      },
      "source": [
        "me=meaneduc_nan.groupby('idhogar')['escolari'].mean().reset_index()"
      ],
      "execution_count": 40,
      "outputs": []
    },
    {
      "cell_type": "code",
      "metadata": {
        "id": "uFillFV3zjuP",
        "colab": {
          "base_uri": "https://localhost:8080/",
          "height": 142
        },
        "outputId": "ed58783b-4c2a-4879-cf43-7edb09750cd7"
      },
      "source": [
        "me"
      ],
      "execution_count": 41,
      "outputs": [
        {
          "output_type": "execute_result",
          "data": {
            "text/html": [
              "<div>\n",
              "<style scoped>\n",
              "    .dataframe tbody tr th:only-of-type {\n",
              "        vertical-align: middle;\n",
              "    }\n",
              "\n",
              "    .dataframe tbody tr th {\n",
              "        vertical-align: top;\n",
              "    }\n",
              "\n",
              "    .dataframe thead th {\n",
              "        text-align: right;\n",
              "    }\n",
              "</style>\n",
              "<table border=\"1\" class=\"dataframe\">\n",
              "  <thead>\n",
              "    <tr style=\"text-align: right;\">\n",
              "      <th></th>\n",
              "      <th>idhogar</th>\n",
              "      <th>escolari</th>\n",
              "    </tr>\n",
              "  </thead>\n",
              "  <tbody>\n",
              "    <tr>\n",
              "      <th>0</th>\n",
              "      <td>1b31fd159</td>\n",
              "      <td>10</td>\n",
              "    </tr>\n",
              "    <tr>\n",
              "      <th>1</th>\n",
              "      <td>a874b7ce7</td>\n",
              "      <td>5</td>\n",
              "    </tr>\n",
              "    <tr>\n",
              "      <th>2</th>\n",
              "      <td>faaebf71a</td>\n",
              "      <td>12</td>\n",
              "    </tr>\n",
              "  </tbody>\n",
              "</table>\n",
              "</div>"
            ],
            "text/plain": [
              "     idhogar  escolari\n",
              "0  1b31fd159        10\n",
              "1  a874b7ce7         5\n",
              "2  faaebf71a        12"
            ]
          },
          "metadata": {
            "tags": []
          },
          "execution_count": 41
        }
      ]
    },
    {
      "cell_type": "code",
      "metadata": {
        "id": "0CNpKmvPzjrl"
      },
      "source": [
        "for row in meaneduc_nan.iterrows():\n",
        "    idx=row[0]\n",
        "    idhogar=row[1]['idhogar']\n",
        "    m=me[me['idhogar']==idhogar]['escolari'].tolist()[0]\n",
        "    data.at[idx, 'meaneduc']=m\n",
        "    data.at[idx, 'SQBmeaned']=m*m"
      ],
      "execution_count": 42,
      "outputs": []
    },
    {
      "cell_type": "markdown",
      "metadata": {
        "id": "fl75QN6I0STU"
      },
      "source": [
        "#### Next, let's look at 'v2a1', the monthly rent payment, that also has missing values.\n"
      ]
    },
    {
      "cell_type": "code",
      "metadata": {
        "id": "Iloz72Ouzjo-",
        "colab": {
          "base_uri": "https://localhost:8080/"
        },
        "outputId": "a3f225a2-1c15-4c37-feb0-fe66030234d5"
      },
      "source": [
        "data['v2a1'].isnull().sum()"
      ],
      "execution_count": 43,
      "outputs": [
        {
          "output_type": "execute_result",
          "data": {
            "text/plain": [
              "6860"
            ]
          },
          "metadata": {
            "tags": []
          },
          "execution_count": 43
        }
      ]
    },
    {
      "cell_type": "markdown",
      "metadata": {
        "id": "_qf-pMzF0cxj"
      },
      "source": [
        "That's a lot of missing values.\n",
        "\n",
        "But maybe they own their houses. We can look what type of housing these people with missing values live.."
      ]
    },
    {
      "cell_type": "code",
      "metadata": {
        "id": "Yst1GNyG0QeR",
        "colab": {
          "base_uri": "https://localhost:8080/"
        },
        "outputId": "4bb3bc07-efad-498a-fbd1-4e0dac15dfa1"
      },
      "source": [
        "norent=data[data['v2a1'].isnull()]\n",
        "print(\"Owns his house:\", norent[norent['tipovivi1']==1]['Id'].count())\n",
        "print(\"Owns his house paying installments\", norent[norent['tipovivi2']==1]['Id'].count())\n",
        "print(\"Rented \", norent[norent['tipovivi3']==1]['Id'].count())\n",
        "print(\"Precarious \", norent[norent['tipovivi4']==1]['Id'].count())\n",
        "print(\"Other \", norent[norent['tipovivi5']==1]['Id'].count())\n",
        "print(\"Total \", 6860)"
      ],
      "execution_count": 44,
      "outputs": [
        {
          "output_type": "stream",
          "text": [
            "Owns his house: 5911\n",
            "Owns his house paying installments 0\n",
            "Rented  0\n",
            "Precarious  163\n",
            "Other  786\n",
            "Total  6860\n"
          ],
          "name": "stdout"
        }
      ]
    },
    {
      "cell_type": "markdown",
      "metadata": {
        "id": "Ec_Twtq60iMN"
      },
      "source": [
        "The majority in fact owns their houses, only a few have odd situations. We can probably just assume they don't pay rent, and put 0 in these cases."
      ]
    },
    {
      "cell_type": "code",
      "metadata": {
        "id": "RfX8QhVX0Qbx"
      },
      "source": [
        "data['v2a1']=data['v2a1'].fillna(0)"
      ],
      "execution_count": 45,
      "outputs": []
    },
    {
      "cell_type": "markdown",
      "metadata": {
        "id": "nWKfQBT_06GO"
      },
      "source": [
        "Now, let's look at 'v18q1', which indicates how many tablets the household owns."
      ]
    },
    {
      "cell_type": "code",
      "metadata": {
        "id": "7w4buEMR0QZU",
        "colab": {
          "base_uri": "https://localhost:8080/"
        },
        "outputId": "38737927-2ded-495a-e354-928c25b010a8"
      },
      "source": [
        "data['v18q1'].isna().sum()"
      ],
      "execution_count": 46,
      "outputs": [
        {
          "output_type": "execute_result",
          "data": {
            "text/plain": [
              "7342"
            ]
          },
          "metadata": {
            "tags": []
          },
          "execution_count": 46
        }
      ]
    },
    {
      "cell_type": "markdown",
      "metadata": {
        "id": "bLwYp9H70-fp"
      },
      "source": [
        "That's also a lot rows with missing values... However, there's a column, 'v18q', which indicates whether there's a tablet in the household at all, that might help!"
      ]
    },
    {
      "cell_type": "code",
      "metadata": {
        "id": "zYS6kjfm0QWt",
        "colab": {
          "base_uri": "https://localhost:8080/"
        },
        "outputId": "e1d6603a-3949-4e01-b6b2-21bd80a563ef"
      },
      "source": [
        "tabletnan=data[data['v18q1'].isnull()]\n",
        "tabletnan[tabletnan['v18q']==0]['Id'].count()"
      ],
      "execution_count": 47,
      "outputs": [
        {
          "output_type": "execute_result",
          "data": {
            "text/plain": [
              "7342"
            ]
          },
          "metadata": {
            "tags": []
          },
          "execution_count": 47
        }
      ]
    },
    {
      "cell_type": "code",
      "metadata": {
        "id": "8HAwpVxl0QUR",
        "colab": {
          "base_uri": "https://localhost:8080/"
        },
        "outputId": "a1714a13-a9c7-4118-d4a6-96a99b0134bd"
      },
      "source": [
        "data['v18q1'].unique()"
      ],
      "execution_count": 48,
      "outputs": [
        {
          "output_type": "execute_result",
          "data": {
            "text/plain": [
              "array([nan,  1.,  2.,  3.,  4.,  5.,  6.])"
            ]
          },
          "metadata": {
            "tags": []
          },
          "execution_count": 48
        }
      ]
    },
    {
      "cell_type": "markdown",
      "metadata": {
        "id": "jLY8pYzM1HKF"
      },
      "source": [
        "That's exactly the number of rows with missing values! There's also no 0 among the values of 'v18q1'. So all the nans in 'v18q1' just means they don't own a tablet! So we can just change them to 0."
      ]
    },
    {
      "cell_type": "code",
      "metadata": {
        "id": "F-tOPQ8S0QR6"
      },
      "source": [
        "data['v18q1']=data['v18q1'].fillna(0)"
      ],
      "execution_count": 49,
      "outputs": []
    },
    {
      "cell_type": "markdown",
      "metadata": {
        "id": "vNYP1R0s1V3D"
      },
      "source": [
        "Next up is 'rez_esc', which indicates if a person is behind in school."
      ]
    },
    {
      "cell_type": "code",
      "metadata": {
        "id": "kNKoi1Mr1FJ0",
        "colab": {
          "base_uri": "https://localhost:8080/"
        },
        "outputId": "831c5f77-3b61-47aa-991e-c908fad33999"
      },
      "source": [
        "data['rez_esc'].isnull().sum()"
      ],
      "execution_count": 50,
      "outputs": [
        {
          "output_type": "execute_result",
          "data": {
            "text/plain": [
              "7928"
            ]
          },
          "metadata": {
            "tags": []
          },
          "execution_count": 50
        }
      ]
    },
    {
      "cell_type": "markdown",
      "metadata": {
        "id": "e1zM0bsl1fKS"
      },
      "source": [
        "that's a lot of rows, so I will explore more"
      ]
    },
    {
      "cell_type": "code",
      "metadata": {
        "id": "2wt3MGBE1FGW",
        "colab": {
          "base_uri": "https://localhost:8080/"
        },
        "outputId": "e5278c9e-c5cf-47e4-b4a4-b5917241a4a0"
      },
      "source": [
        "data['rez_esc'].describe()"
      ],
      "execution_count": 51,
      "outputs": [
        {
          "output_type": "execute_result",
          "data": {
            "text/plain": [
              "count    1629.000000\n",
              "mean        0.459791\n",
              "std         0.946550\n",
              "min         0.000000\n",
              "25%         0.000000\n",
              "50%         0.000000\n",
              "75%         1.000000\n",
              "max         5.000000\n",
              "Name: rez_esc, dtype: float64"
            ]
          },
          "metadata": {
            "tags": []
          },
          "execution_count": 51
        }
      ]
    },
    {
      "cell_type": "code",
      "metadata": {
        "id": "BpUBZoP_1FCj",
        "colab": {
          "base_uri": "https://localhost:8080/"
        },
        "outputId": "6ce3111c-b9bd-4aeb-9024-5064c3c258a6"
      },
      "source": [
        "data['rez_esc'].unique()"
      ],
      "execution_count": 52,
      "outputs": [
        {
          "output_type": "execute_result",
          "data": {
            "text/plain": [
              "array([nan,  1.,  0.,  3.,  2.,  4.,  5.])"
            ]
          },
          "metadata": {
            "tags": []
          },
          "execution_count": 52
        }
      ]
    },
    {
      "cell_type": "code",
      "metadata": {
        "id": "E8P2e1XA1E_0",
        "colab": {
          "base_uri": "https://localhost:8080/",
          "height": 665
        },
        "outputId": "bd356a4e-ce02-4074-bce5-f3cbcc2bc105"
      },
      "source": [
        "data[data['rez_esc']>1][['age', 'escolari', 'rez_esc']][:20]\n"
      ],
      "execution_count": 53,
      "outputs": [
        {
          "output_type": "execute_result",
          "data": {
            "text/html": [
              "<div>\n",
              "<style scoped>\n",
              "    .dataframe tbody tr th:only-of-type {\n",
              "        vertical-align: middle;\n",
              "    }\n",
              "\n",
              "    .dataframe tbody tr th {\n",
              "        vertical-align: top;\n",
              "    }\n",
              "\n",
              "    .dataframe thead th {\n",
              "        text-align: right;\n",
              "    }\n",
              "</style>\n",
              "<table border=\"1\" class=\"dataframe\">\n",
              "  <thead>\n",
              "    <tr style=\"text-align: right;\">\n",
              "      <th></th>\n",
              "      <th>age</th>\n",
              "      <th>escolari</th>\n",
              "      <th>rez_esc</th>\n",
              "    </tr>\n",
              "  </thead>\n",
              "  <tbody>\n",
              "    <tr>\n",
              "      <th>185</th>\n",
              "      <td>13</td>\n",
              "      <td>3</td>\n",
              "      <td>3.0</td>\n",
              "    </tr>\n",
              "    <tr>\n",
              "      <th>190</th>\n",
              "      <td>16</td>\n",
              "      <td>7</td>\n",
              "      <td>2.0</td>\n",
              "    </tr>\n",
              "    <tr>\n",
              "      <th>240</th>\n",
              "      <td>16</td>\n",
              "      <td>6</td>\n",
              "      <td>3.0</td>\n",
              "    </tr>\n",
              "    <tr>\n",
              "      <th>242</th>\n",
              "      <td>11</td>\n",
              "      <td>2</td>\n",
              "      <td>2.0</td>\n",
              "    </tr>\n",
              "    <tr>\n",
              "      <th>312</th>\n",
              "      <td>15</td>\n",
              "      <td>6</td>\n",
              "      <td>2.0</td>\n",
              "    </tr>\n",
              "    <tr>\n",
              "      <th>317</th>\n",
              "      <td>17</td>\n",
              "      <td>6</td>\n",
              "      <td>4.0</td>\n",
              "    </tr>\n",
              "    <tr>\n",
              "      <th>319</th>\n",
              "      <td>17</td>\n",
              "      <td>7</td>\n",
              "      <td>3.0</td>\n",
              "    </tr>\n",
              "    <tr>\n",
              "      <th>320</th>\n",
              "      <td>15</td>\n",
              "      <td>6</td>\n",
              "      <td>2.0</td>\n",
              "    </tr>\n",
              "    <tr>\n",
              "      <th>333</th>\n",
              "      <td>16</td>\n",
              "      <td>7</td>\n",
              "      <td>2.0</td>\n",
              "    </tr>\n",
              "    <tr>\n",
              "      <th>510</th>\n",
              "      <td>16</td>\n",
              "      <td>7</td>\n",
              "      <td>2.0</td>\n",
              "    </tr>\n",
              "    <tr>\n",
              "      <th>617</th>\n",
              "      <td>16</td>\n",
              "      <td>6</td>\n",
              "      <td>3.0</td>\n",
              "    </tr>\n",
              "    <tr>\n",
              "      <th>629</th>\n",
              "      <td>16</td>\n",
              "      <td>6</td>\n",
              "      <td>3.0</td>\n",
              "    </tr>\n",
              "    <tr>\n",
              "      <th>714</th>\n",
              "      <td>17</td>\n",
              "      <td>6</td>\n",
              "      <td>4.0</td>\n",
              "    </tr>\n",
              "    <tr>\n",
              "      <th>769</th>\n",
              "      <td>17</td>\n",
              "      <td>6</td>\n",
              "      <td>4.0</td>\n",
              "    </tr>\n",
              "    <tr>\n",
              "      <th>837</th>\n",
              "      <td>16</td>\n",
              "      <td>6</td>\n",
              "      <td>3.0</td>\n",
              "    </tr>\n",
              "    <tr>\n",
              "      <th>937</th>\n",
              "      <td>16</td>\n",
              "      <td>6</td>\n",
              "      <td>3.0</td>\n",
              "    </tr>\n",
              "    <tr>\n",
              "      <th>978</th>\n",
              "      <td>16</td>\n",
              "      <td>7</td>\n",
              "      <td>2.0</td>\n",
              "    </tr>\n",
              "    <tr>\n",
              "      <th>1146</th>\n",
              "      <td>16</td>\n",
              "      <td>6</td>\n",
              "      <td>3.0</td>\n",
              "    </tr>\n",
              "    <tr>\n",
              "      <th>1150</th>\n",
              "      <td>15</td>\n",
              "      <td>6</td>\n",
              "      <td>2.0</td>\n",
              "    </tr>\n",
              "    <tr>\n",
              "      <th>1151</th>\n",
              "      <td>16</td>\n",
              "      <td>7</td>\n",
              "      <td>2.0</td>\n",
              "    </tr>\n",
              "  </tbody>\n",
              "</table>\n",
              "</div>"
            ],
            "text/plain": [
              "      age  escolari  rez_esc\n",
              "185    13         3      3.0\n",
              "190    16         7      2.0\n",
              "240    16         6      3.0\n",
              "242    11         2      2.0\n",
              "312    15         6      2.0\n",
              "317    17         6      4.0\n",
              "319    17         7      3.0\n",
              "320    15         6      2.0\n",
              "333    16         7      2.0\n",
              "510    16         7      2.0\n",
              "617    16         6      3.0\n",
              "629    16         6      3.0\n",
              "714    17         6      4.0\n",
              "769    17         6      4.0\n",
              "837    16         6      3.0\n",
              "937    16         6      3.0\n",
              "978    16         7      2.0\n",
              "1146   16         6      3.0\n",
              "1150   15         6      2.0\n",
              "1151   16         7      2.0"
            ]
          },
          "metadata": {
            "tags": []
          },
          "execution_count": 53
        }
      ]
    },
    {
      "cell_type": "code",
      "metadata": {
        "id": "kOae7dap1E9M",
        "colab": {
          "base_uri": "https://localhost:8080/",
          "height": 49
        },
        "outputId": "0adbf3ca-45e1-43c6-aaf5-e2e66aa86359"
      },
      "source": [
        "rez_esc_nan=data[data['rez_esc'].isnull()]\n",
        "rez_esc_nan[(rez_esc_nan['age']<18) & rez_esc_nan['escolari']>0][['age', 'escolari']]"
      ],
      "execution_count": 54,
      "outputs": [
        {
          "output_type": "execute_result",
          "data": {
            "text/html": [
              "<div>\n",
              "<style scoped>\n",
              "    .dataframe tbody tr th:only-of-type {\n",
              "        vertical-align: middle;\n",
              "    }\n",
              "\n",
              "    .dataframe tbody tr th {\n",
              "        vertical-align: top;\n",
              "    }\n",
              "\n",
              "    .dataframe thead th {\n",
              "        text-align: right;\n",
              "    }\n",
              "</style>\n",
              "<table border=\"1\" class=\"dataframe\">\n",
              "  <thead>\n",
              "    <tr style=\"text-align: right;\">\n",
              "      <th></th>\n",
              "      <th>age</th>\n",
              "      <th>escolari</th>\n",
              "    </tr>\n",
              "  </thead>\n",
              "  <tbody>\n",
              "  </tbody>\n",
              "</table>\n",
              "</div>"
            ],
            "text/plain": [
              "Empty DataFrame\n",
              "Columns: [age, escolari]\n",
              "Index: []"
            ]
          },
          "metadata": {
            "tags": []
          },
          "execution_count": 54
        }
      ]
    },
    {
      "cell_type": "markdown",
      "metadata": {
        "id": "_RIcpu8c2BAL"
      },
      "source": [
        "So all the nans here are either adults or children before school age. We can input 0 again."
      ]
    },
    {
      "cell_type": "code",
      "metadata": {
        "id": "q65CEK2H1E6b"
      },
      "source": [
        "data['rez_esc']=data['rez_esc'].fillna(0)"
      ],
      "execution_count": 55,
      "outputs": []
    },
    {
      "cell_type": "markdown",
      "metadata": {
        "id": "wGZGSg902O2C"
      },
      "source": [
        "Normalizing same households with different target values"
      ]
    },
    {
      "cell_type": "code",
      "metadata": {
        "id": "9HHhjfKN1E3j"
      },
      "source": [
        "d={}\n",
        "weird=[]\n",
        "for row in data.iterrows():\n",
        "    idhogar=row[1]['idhogar']\n",
        "    target=row[1]['Target']\n",
        "    if idhogar in d:\n",
        "        if d[idhogar]!=target:\n",
        "            weird.append(idhogar)\n",
        "    else:\n",
        "        d[idhogar]=target"
      ],
      "execution_count": 56,
      "outputs": []
    },
    {
      "cell_type": "code",
      "metadata": {
        "id": "2gAIUES71Eza",
        "colab": {
          "base_uri": "https://localhost:8080/"
        },
        "outputId": "5b9d26e3-a0d7-4ee7-ae8f-ea7673c917af"
      },
      "source": [
        "len(set(weird))"
      ],
      "execution_count": 57,
      "outputs": [
        {
          "output_type": "execute_result",
          "data": {
            "text/plain": [
              "85"
            ]
          },
          "metadata": {
            "tags": []
          },
          "execution_count": 57
        }
      ]
    },
    {
      "cell_type": "markdown",
      "metadata": {
        "id": "VZf26hwr2bkv"
      },
      "source": [
        "There are 85 households like that.\n",
        "\n",
        "setting target value = head of the household value"
      ]
    },
    {
      "cell_type": "code",
      "metadata": {
        "id": "IFg1jOva0QPF",
        "colab": {
          "base_uri": "https://localhost:8080/",
          "height": 234
        },
        "outputId": "da2544ef-9921-413f-fed8-ed4f676db508"
      },
      "source": [
        "data[data['idhogar']==weird[2]][['idhogar','parentesco1', 'Target']]"
      ],
      "execution_count": 58,
      "outputs": [
        {
          "output_type": "execute_result",
          "data": {
            "text/html": [
              "<div>\n",
              "<style scoped>\n",
              "    .dataframe tbody tr th:only-of-type {\n",
              "        vertical-align: middle;\n",
              "    }\n",
              "\n",
              "    .dataframe tbody tr th {\n",
              "        vertical-align: top;\n",
              "    }\n",
              "\n",
              "    .dataframe thead th {\n",
              "        text-align: right;\n",
              "    }\n",
              "</style>\n",
              "<table border=\"1\" class=\"dataframe\">\n",
              "  <thead>\n",
              "    <tr style=\"text-align: right;\">\n",
              "      <th></th>\n",
              "      <th>idhogar</th>\n",
              "      <th>parentesco1</th>\n",
              "      <th>Target</th>\n",
              "    </tr>\n",
              "  </thead>\n",
              "  <tbody>\n",
              "    <tr>\n",
              "      <th>285</th>\n",
              "      <td>6833ac5dc</td>\n",
              "      <td>0</td>\n",
              "      <td>2</td>\n",
              "    </tr>\n",
              "    <tr>\n",
              "      <th>286</th>\n",
              "      <td>6833ac5dc</td>\n",
              "      <td>0</td>\n",
              "      <td>2</td>\n",
              "    </tr>\n",
              "    <tr>\n",
              "      <th>287</th>\n",
              "      <td>6833ac5dc</td>\n",
              "      <td>0</td>\n",
              "      <td>2</td>\n",
              "    </tr>\n",
              "    <tr>\n",
              "      <th>288</th>\n",
              "      <td>6833ac5dc</td>\n",
              "      <td>1</td>\n",
              "      <td>2</td>\n",
              "    </tr>\n",
              "    <tr>\n",
              "      <th>289</th>\n",
              "      <td>6833ac5dc</td>\n",
              "      <td>0</td>\n",
              "      <td>2</td>\n",
              "    </tr>\n",
              "    <tr>\n",
              "      <th>290</th>\n",
              "      <td>6833ac5dc</td>\n",
              "      <td>0</td>\n",
              "      <td>1</td>\n",
              "    </tr>\n",
              "  </tbody>\n",
              "</table>\n",
              "</div>"
            ],
            "text/plain": [
              "       idhogar  parentesco1  Target\n",
              "285  6833ac5dc            0       2\n",
              "286  6833ac5dc            0       2\n",
              "287  6833ac5dc            0       2\n",
              "288  6833ac5dc            1       2\n",
              "289  6833ac5dc            0       2\n",
              "290  6833ac5dc            0       1"
            ]
          },
          "metadata": {
            "tags": []
          },
          "execution_count": 58
        }
      ]
    },
    {
      "cell_type": "code",
      "metadata": {
        "id": "i1_25gnj0QMr"
      },
      "source": [
        "for i in set(weird):\n",
        "    hhold=data[data['idhogar']==i][['idhogar', 'parentesco1', 'Target']]\n",
        "    target=hhold[hhold['parentesco1']==1]['Target'].tolist()[0]\n",
        "    for row in hhold.iterrows():\n",
        "        idx=row[0]\n",
        "        if row[1]['parentesco1']!=1:\n",
        "            data.at[idx, 'Target']=target"
      ],
      "execution_count": 59,
      "outputs": []
    },
    {
      "cell_type": "code",
      "metadata": {
        "id": "t_tilkOEzjl8",
        "colab": {
          "base_uri": "https://localhost:8080/",
          "height": 142
        },
        "outputId": "b56c7bc3-d0be-4397-a607-8b8b7448a363"
      },
      "source": [
        "data[data['idhogar']==weird[1]][['idhogar','parentesco1', 'Target']]"
      ],
      "execution_count": 60,
      "outputs": [
        {
          "output_type": "execute_result",
          "data": {
            "text/html": [
              "<div>\n",
              "<style scoped>\n",
              "    .dataframe tbody tr th:only-of-type {\n",
              "        vertical-align: middle;\n",
              "    }\n",
              "\n",
              "    .dataframe tbody tr th {\n",
              "        vertical-align: top;\n",
              "    }\n",
              "\n",
              "    .dataframe thead th {\n",
              "        text-align: right;\n",
              "    }\n",
              "</style>\n",
              "<table border=\"1\" class=\"dataframe\">\n",
              "  <thead>\n",
              "    <tr style=\"text-align: right;\">\n",
              "      <th></th>\n",
              "      <th>idhogar</th>\n",
              "      <th>parentesco1</th>\n",
              "      <th>Target</th>\n",
              "    </tr>\n",
              "  </thead>\n",
              "  <tbody>\n",
              "    <tr>\n",
              "      <th>282</th>\n",
              "      <td>4b6077882</td>\n",
              "      <td>1</td>\n",
              "      <td>1</td>\n",
              "    </tr>\n",
              "    <tr>\n",
              "      <th>283</th>\n",
              "      <td>4b6077882</td>\n",
              "      <td>0</td>\n",
              "      <td>1</td>\n",
              "    </tr>\n",
              "    <tr>\n",
              "      <th>284</th>\n",
              "      <td>4b6077882</td>\n",
              "      <td>0</td>\n",
              "      <td>1</td>\n",
              "    </tr>\n",
              "  </tbody>\n",
              "</table>\n",
              "</div>"
            ],
            "text/plain": [
              "       idhogar  parentesco1  Target\n",
              "282  4b6077882            1       1\n",
              "283  4b6077882            0       1\n",
              "284  4b6077882            0       1"
            ]
          },
          "metadata": {
            "tags": []
          },
          "execution_count": 60
        }
      ]
    },
    {
      "cell_type": "code",
      "metadata": {
        "id": "hVvyTome3Oae"
      },
      "source": [
        "def data_cleaning(data):\n",
        "    data['dependency']=np.sqrt(data['SQBdependency'])\n",
        "    data['rez_esc']=data['rez_esc'].fillna(0)\n",
        "    data['v18q1']=data['v18q1'].fillna(0)\n",
        "    data['v2a1']=data['v2a1'].fillna(0)\n",
        "    \n",
        "    conditions = [\n",
        "    (data['edjefe']=='no') & (data['edjefa']=='no'), #both no\n",
        "    (data['edjefe']=='yes') & (data['edjefa']=='no'), # yes and no\n",
        "    (data['edjefe']=='no') & (data['edjefa']=='yes'), #no and yes \n",
        "    (data['edjefe']!='no') & (data['edjefe']!='yes') & (data['edjefa']=='no'), # number and no\n",
        "    (data['edjefe']=='no') & (data['edjefa']!='no') # no and number\n",
        "    ]\n",
        "    choices = [0, 1, 1, data['edjefe'], data['edjefa']]\n",
        "    data['edjefx']=np.select(conditions, choices)\n",
        "    data['edjefx']=data['edjefx'].astype(int)\n",
        "    data.drop(['edjefe', 'edjefa'], axis=1, inplace=True)\n",
        "    \n",
        "    meaneduc_nan=data[data['meaneduc'].isnull()][['Id','idhogar','escolari']]\n",
        "    me=meaneduc_nan.groupby('idhogar')['escolari'].mean().reset_index()\n",
        "    for row in meaneduc_nan.iterrows():\n",
        "        idx=row[0]\n",
        "        idhogar=row[1]['idhogar']\n",
        "        m=me[me['idhogar']==idhogar]['escolari'].tolist()[0]\n",
        "        data.at[idx, 'meaneduc']=m\n",
        "        data.at[idx, 'SQBmeaned']=m*m\n",
        "        \n",
        "    return data"
      ],
      "execution_count": 61,
      "outputs": []
    },
    {
      "cell_type": "code",
      "metadata": {
        "id": "uzOakNRy3RvV"
      },
      "source": [
        "import matplotlib.pyplot as plt\n",
        "%matplotlib inline\n",
        "import seaborn as sns"
      ],
      "execution_count": 62,
      "outputs": []
    },
    {
      "cell_type": "code",
      "metadata": {
        "id": "EwNBV7dS3Uyg",
        "colab": {
          "base_uri": "https://localhost:8080/",
          "height": 282
        },
        "outputId": "15d5f582-44f7-4637-94f4-bb3363f361ec"
      },
      "source": [
        "data['Target'].hist()"
      ],
      "execution_count": 63,
      "outputs": [
        {
          "output_type": "execute_result",
          "data": {
            "text/plain": [
              "<matplotlib.axes._subplots.AxesSubplot at 0x7f178fb6f2d0>"
            ]
          },
          "metadata": {
            "tags": []
          },
          "execution_count": 63
        },
        {
          "output_type": "display_data",
          "data": {
            "image/png": "[encoded data removed]",
            "text/plain": [
              "<Figure size 432x288 with 1 Axes>"
            ]
          },
          "metadata": {
            "tags": [],
            "needs_background": "light"
          }
        }
      ]
    },
    {
      "cell_type": "code",
      "metadata": {
        "id": "nVeqN1RV3Wgm"
      },
      "source": [
        "data_undersampled=data.drop(data.query('Target == 4').sample(frac=.75).index)"
      ],
      "execution_count": 64,
      "outputs": []
    },
    {
      "cell_type": "code",
      "metadata": {
        "id": "RK79Y6UO3YZt",
        "colab": {
          "base_uri": "https://localhost:8080/",
          "height": 282
        },
        "outputId": "514d7670-9a6d-4125-f6dd-3856e3f1b0be"
      },
      "source": [
        "data_undersampled['Target'].hist()"
      ],
      "execution_count": 65,
      "outputs": [
        {
          "output_type": "execute_result",
          "data": {
            "text/plain": [
              "<matplotlib.axes._subplots.AxesSubplot at 0x7f178fa88ad0>"
            ]
          },
          "metadata": {
            "tags": []
          },
          "execution_count": 65
        },
        {
          "output_type": "display_data",
          "data": {
            "image/png": "[encoded data removed]",
            "text/plain": [
              "<Figure size 432x288 with 1 Axes>"
            ]
          },
          "metadata": {
            "tags": [],
            "needs_background": "light"
          }
        }
      ]
    },
    {
      "cell_type": "code",
      "metadata": {
        "id": "yqR17KzT631V",
        "colab": {
          "base_uri": "https://localhost:8080/",
          "height": 282
        },
        "outputId": "1a6aa7c7-9c29-4dec-ef74-570ac292188e"
      },
      "source": [
        "data_undersampled['dependency'].hist()"
      ],
      "execution_count": 66,
      "outputs": [
        {
          "output_type": "execute_result",
          "data": {
            "text/plain": [
              "<matplotlib.axes._subplots.AxesSubplot at 0x7f178f51b450>"
            ]
          },
          "metadata": {
            "tags": []
          },
          "execution_count": 66
        },
        {
          "output_type": "display_data",
          "data": {
            "image/png": "[encoded data removed]",
            "text/plain": [
              "<Figure size 432x288 with 1 Axes>"
            ]
          },
          "metadata": {
            "tags": [],
            "needs_background": "light"
          }
        }
      ]
    },
    {
      "cell_type": "markdown",
      "metadata": {
        "id": "DbEgvdeM3b4T"
      },
      "source": [
        "# Random Forest"
      ]
    },
    {
      "cell_type": "code",
      "metadata": {
        "id": "qm65wPyl3cTW"
      },
      "source": [
        "X=data_undersampled.drop(['Id', 'idhogar', 'Target', 'edjefe', 'edjefa'], axis=1)\n",
        "y=data_undersampled['Target']"
      ],
      "execution_count": 67,
      "outputs": []
    },
    {
      "cell_type": "code",
      "metadata": {
        "id": "Xt_pLyuv3ccH"
      },
      "source": [
        "from sklearn.model_selection import train_test_split\n",
        "X_train, X_test, y_train, y_test = train_test_split(X, y, test_size=0.2)"
      ],
      "execution_count": 68,
      "outputs": []
    },
    {
      "cell_type": "code",
      "metadata": {
        "id": "PDtyX8RY3cZJ",
        "colab": {
          "base_uri": "https://localhost:8080/"
        },
        "outputId": "ef3c30b5-1817-4045-a2a7-b273fa7a6402"
      },
      "source": [
        "X_train.shape"
      ],
      "execution_count": 69,
      "outputs": [
        {
          "output_type": "execute_result",
          "data": {
            "text/plain": [
              "(4043, 139)"
            ]
          },
          "metadata": {
            "tags": []
          },
          "execution_count": 69
        }
      ]
    },
    {
      "cell_type": "code",
      "metadata": {
        "id": "qZVSqPGd3cWe",
        "colab": {
          "base_uri": "https://localhost:8080/"
        },
        "outputId": "db1456b5-a121-4d4f-a19f-c9a8bf982486"
      },
      "source": [
        "y_train.shape"
      ],
      "execution_count": 70,
      "outputs": [
        {
          "output_type": "execute_result",
          "data": {
            "text/plain": [
              "(4043,)"
            ]
          },
          "metadata": {
            "tags": []
          },
          "execution_count": 70
        }
      ]
    },
    {
      "cell_type": "code",
      "metadata": {
        "id": "3LVOoo8I3aF-"
      },
      "source": [
        "from sklearn.ensemble import RandomForestClassifier\n",
        "from sklearn.model_selection import GridSearchCV"
      ],
      "execution_count": 71,
      "outputs": []
    },
    {
      "cell_type": "code",
      "metadata": {
        "id": "CXYU5_KT3uOf"
      },
      "source": [
        "clf = RandomForestClassifier()\n",
        "params={'n_estimators': list(range(40,61, 1))}\n",
        "gs = GridSearchCV(clf, params, cv=5)"
      ],
      "execution_count": 72,
      "outputs": []
    },
    {
      "cell_type": "code",
      "metadata": {
        "id": "PlkzlEau3sni",
        "colab": {
          "base_uri": "https://localhost:8080/"
        },
        "outputId": "c337e0b5-4840-4431-8281-7f3722395238"
      },
      "source": [
        "gs.fit(X_train, y_train)"
      ],
      "execution_count": 73,
      "outputs": [
        {
          "output_type": "execute_result",
          "data": {
            "text/plain": [
              "GridSearchCV(cv=5, error_score=nan,\n",
              "             estimator=RandomForestClassifier(bootstrap=True, ccp_alpha=0.0,\n",
              "                                              class_weight=None,\n",
              "                                              criterion='gini', max_depth=None,\n",
              "                                              max_features='auto',\n",
              "                                              max_leaf_nodes=None,\n",
              "                                              max_samples=None,\n",
              "                                              min_impurity_decrease=0.0,\n",
              "                                              min_impurity_split=None,\n",
              "                                              min_samples_leaf=1,\n",
              "                                              min_samples_split=2,\n",
              "                                              min_weight_fraction_leaf=0.0,\n",
              "                                              n_estimators=100, n_jobs=None,\n",
              "                                              oob_score=False,\n",
              "                                              random_state=None, verbose=0,\n",
              "                                              warm_start=False),\n",
              "             iid='deprecated', n_jobs=None,\n",
              "             param_grid={'n_estimators': [40, 41, 42, 43, 44, 45, 46, 47, 48,\n",
              "                                          49, 50, 51, 52, 53, 54, 55, 56, 57,\n",
              "                                          58, 59, 60]},\n",
              "             pre_dispatch='2*n_jobs', refit=True, return_train_score=False,\n",
              "             scoring=None, verbose=0)"
            ]
          },
          "metadata": {
            "tags": []
          },
          "execution_count": 73
        }
      ]
    },
    {
      "cell_type": "code",
      "metadata": {
        "id": "rA0wJ0iS3uCZ"
      },
      "source": [
        "preds=gs.predict(X_train)"
      ],
      "execution_count": 74,
      "outputs": []
    },
    {
      "cell_type": "code",
      "metadata": {
        "id": "eMYGz9Ew3t_T",
        "colab": {
          "base_uri": "https://localhost:8080/"
        },
        "outputId": "d9eadaf4-2897-4c48-a7c8-c9cd33ddbd90"
      },
      "source": [
        "from sklearn.metrics import classification_report\n",
        "print(classification_report(y_train, preds))"
      ],
      "execution_count": 75,
      "outputs": [
        {
          "output_type": "stream",
          "text": [
            "              precision    recall  f1-score   support\n",
            "\n",
            "           1       1.00      1.00      1.00       637\n",
            "           2       1.00      1.00      1.00      1240\n",
            "           3       1.00      1.00      1.00       967\n",
            "           4       1.00      1.00      1.00      1199\n",
            "\n",
            "    accuracy                           1.00      4043\n",
            "   macro avg       1.00      1.00      1.00      4043\n",
            "weighted avg       1.00      1.00      1.00      4043\n",
            "\n"
          ],
          "name": "stdout"
        }
      ]
    },
    {
      "cell_type": "code",
      "metadata": {
        "id": "IviZFC5X3t8R",
        "colab": {
          "base_uri": "https://localhost:8080/"
        },
        "outputId": "d20f33a2-6ebe-46ab-b76d-f95458173f1e"
      },
      "source": [
        "from sklearn.metrics import confusion_matrix\n",
        "print(confusion_matrix(y_train, preds))"
      ],
      "execution_count": 77,
      "outputs": [
        {
          "output_type": "stream",
          "text": [
            "[[ 637    0    0    0]\n",
            " [   0 1240    0    0]\n",
            " [   0    0  967    0]\n",
            " [   0    0    0 1199]]\n"
          ],
          "name": "stdout"
        }
      ]
    },
    {
      "cell_type": "code",
      "metadata": {
        "id": "GOupEHuH3t5k",
        "colab": {
          "base_uri": "https://localhost:8080/"
        },
        "outputId": "ab94bfea-ee84-498a-821a-b845df99968b"
      },
      "source": [
        "cvres = gs.cv_results_\n",
        "for mean_score, params in zip(cvres[\"mean_test_score\"], cvres[\"params\"]):\n",
        "    print(np.sqrt(mean_score), params)"
      ],
      "execution_count": 78,
      "outputs": [
        {
          "output_type": "stream",
          "text": [
            "0.9210717617123234 {'n_estimators': 40}\n",
            "0.9208048144537545 {'n_estimators': 41}\n",
            "0.921072426076925 {'n_estimators': 42}\n",
            "0.9214754409840005 {'n_estimators': 43}\n",
            "0.9254909788839091 {'n_estimators': 44}\n",
            "0.9233531886639706 {'n_estimators': 45}\n",
            "0.9241550670556354 {'n_estimators': 46}\n",
            "0.9220121883244627 {'n_estimators': 47}\n",
            "0.923754546087844 {'n_estimators': 48}\n",
            "0.9228139057560684 {'n_estimators': 49}\n",
            "0.9225504474571519 {'n_estimators': 50}\n",
            "0.9260258943297668 {'n_estimators': 51}\n",
            "0.9236193993840495 {'n_estimators': 52}\n",
            "0.9234858894740186 {'n_estimators': 53}\n",
            "0.9232189774368809 {'n_estimators': 54}\n",
            "0.9278937739812243 {'n_estimators': 55}\n",
            "0.9261613505885679 {'n_estimators': 56}\n",
            "0.9225494525066433 {'n_estimators': 57}\n",
            "0.9240216345430841 {'n_estimators': 58}\n",
            "0.9245570691686514 {'n_estimators': 59}\n",
            "0.9286951911055622 {'n_estimators': 60}\n"
          ],
          "name": "stdout"
        }
      ]
    },
    {
      "cell_type": "code",
      "metadata": {
        "id": "aEWPg7gC3t3a"
      },
      "source": [
        ""
      ],
      "execution_count": 73,
      "outputs": []
    },
    {
      "cell_type": "code",
      "metadata": {
        "id": "HB3fiPL63t0b"
      },
      "source": [
        ""
      ],
      "execution_count": 73,
      "outputs": []
    },
    {
      "cell_type": "code",
      "metadata": {
        "id": "_cfGvnXl3tvO"
      },
      "source": [
        ""
      ],
      "execution_count": 73,
      "outputs": []
    },
    {
      "cell_type": "code",
      "metadata": {
        "id": "cmbbMtU73tsZ"
      },
      "source": [
        ""
      ],
      "execution_count": 73,
      "outputs": []
    }
  ]
}
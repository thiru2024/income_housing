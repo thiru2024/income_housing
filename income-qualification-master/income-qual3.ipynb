{
 "cells": [
  {
   "cell_type": "markdown",
   "metadata": {
    "colab_type": "text",
    "id": "view-in-github"
   },
   "source": [
    "<a href=\"https://colab.research.google.com/github/pksvv/income-qualification/blob/master/income-qual3.ipynb\" target=\"_parent\"><img src=\"https://colab.research.google.com/assets/colab-badge.svg\" alt=\"Open In Colab\"/></a>"
   ]
  },
  {
   "cell_type": "code",
   "execution_count": 3,
   "metadata": {
    "colab": {
     "base_uri": "https://localhost:8080/",
     "height": 2601
    },
    "colab_type": "code",
    "id": "FJWy3TJJBmR3",
    "outputId": "ea7b04db-638b-4714-d184-a7b5db5e6d50"
   },
   "outputs": [
    {
     "data": {
      "text/plain": [
       "[\"Cloning into 'Machine-Learning--Projects'...\",\n",
       " 'remote: Enumerating objects: 50, done.\\x1b[K',\n",
       " 'remote: Counting objects:   2% (1/50)   \\x1b[K',\n",
       " 'remote: Counting objects:   4% (2/50)   \\x1b[K',\n",
       " 'remote: Counting objects:   6% (3/50)   \\x1b[K',\n",
       " 'remote: Counting objects:   8% (4/50)   \\x1b[K',\n",
       " 'remote: Counting objects:  10% (5/50)   \\x1b[K',\n",
       " 'remote: Counting objects:  12% (6/50)   \\x1b[K',\n",
       " 'remote: Counting objects:  14% (7/50)   \\x1b[K',\n",
       " 'remote: Counting objects:  16% (8/50)   \\x1b[K',\n",
       " 'remote: Counting objects:  18% (9/50)   \\x1b[K',\n",
       " 'remote: Counting objects:  20% (10/50)   \\x1b[K',\n",
       " 'remote: Counting objects:  22% (11/50)   \\x1b[K',\n",
       " 'remote: Counting objects:  24% (12/50)   \\x1b[K',\n",
       " 'remote: Counting objects:  26% (13/50)   \\x1b[K',\n",
       " 'remote: Counting objects:  28% (14/50)   \\x1b[K',\n",
       " 'remote: Counting objects:  30% (15/50)   \\x1b[K',\n",
       " 'remote: Counting objects:  32% (16/50)   \\x1b[K',\n",
       " 'remote: Counting objects:  34% (17/50)   \\x1b[K',\n",
       " 'remote: Counting objects:  36% (18/50)   \\x1b[K',\n",
       " 'remote: Counting objects:  38% (19/50)   \\x1b[K',\n",
       " 'remote: Counting objects:  40% (20/50)   \\x1b[K',\n",
       " 'remote: Counting objects:  42% (21/50)   \\x1b[K',\n",
       " 'remote: Counting objects:  44% (22/50)   \\x1b[K',\n",
       " 'remote: Counting objects:  46% (23/50)   \\x1b[K',\n",
       " 'remote: Counting objects:  48% (24/50)   \\x1b[K',\n",
       " 'remote: Counting objects:  50% (25/50)   \\x1b[K',\n",
       " 'remote: Counting objects:  52% (26/50)   \\x1b[K',\n",
       " 'remote: Counting objects:  54% (27/50)   \\x1b[K',\n",
       " 'remote: Counting objects:  56% (28/50)   \\x1b[K',\n",
       " 'remote: Counting objects:  58% (29/50)   \\x1b[K',\n",
       " 'remote: Counting objects:  60% (30/50)   \\x1b[K',\n",
       " 'remote: Counting objects:  62% (31/50)   \\x1b[K',\n",
       " 'remote: Counting objects:  64% (32/50)   \\x1b[K',\n",
       " 'remote: Counting objects:  66% (33/50)   \\x1b[K',\n",
       " 'remote: Counting objects:  68% (34/50)   \\x1b[K',\n",
       " 'remote: Counting objects:  70% (35/50)   \\x1b[K',\n",
       " 'remote: Counting objects:  72% (36/50)   \\x1b[K',\n",
       " 'remote: Counting objects:  74% (37/50)   \\x1b[K',\n",
       " 'remote: Counting objects:  76% (38/50)   \\x1b[K',\n",
       " 'remote: Counting objects:  78% (39/50)   \\x1b[K',\n",
       " 'remote: Counting objects:  80% (40/50)   \\x1b[K',\n",
       " 'remote: Counting objects:  82% (41/50)   \\x1b[K',\n",
       " 'remote: Counting objects:  84% (42/50)   \\x1b[K',\n",
       " 'remote: Counting objects:  86% (43/50)   \\x1b[K',\n",
       " 'remote: Counting objects:  88% (44/50)   \\x1b[K',\n",
       " 'remote: Counting objects:  90% (45/50)   \\x1b[K',\n",
       " 'remote: Counting objects:  92% (46/50)   \\x1b[K',\n",
       " 'remote: Counting objects:  94% (47/50)   \\x1b[K',\n",
       " 'remote: Counting objects:  96% (48/50)   \\x1b[K',\n",
       " 'remote: Counting objects:  98% (49/50)   \\x1b[K',\n",
       " 'remote: Counting objects: 100% (50/50)   \\x1b[K',\n",
       " 'remote: Counting objects: 100% (50/50), done.\\x1b[K',\n",
       " 'remote: Compressing objects:   2% (1/46)   \\x1b[K',\n",
       " 'remote: Compressing objects:   4% (2/46)   \\x1b[K',\n",
       " 'remote: Compressing objects:   6% (3/46)   \\x1b[K',\n",
       " 'remote: Compressing objects:   8% (4/46)   \\x1b[K',\n",
       " 'remote: Compressing objects:  10% (5/46)   \\x1b[K',\n",
       " 'remote: Compressing objects:  13% (6/46)   \\x1b[K',\n",
       " 'remote: Compressing objects:  15% (7/46)   \\x1b[K',\n",
       " 'remote: Compressing objects:  17% (8/46)   \\x1b[K',\n",
       " 'remote: Compressing objects:  19% (9/46)   \\x1b[K',\n",
       " 'remote: Compressing objects:  21% (10/46)   \\x1b[K',\n",
       " 'remote: Compressing objects:  23% (11/46)   \\x1b[K',\n",
       " 'remote: Compressing objects:  26% (12/46)   \\x1b[K',\n",
       " 'remote: Compressing objects:  28% (13/46)   \\x1b[K',\n",
       " 'remote: Compressing objects:  30% (14/46)   \\x1b[K',\n",
       " 'remote: Compressing objects:  32% (15/46)   \\x1b[K',\n",
       " 'remote: Compressing objects:  34% (16/46)   \\x1b[K',\n",
       " 'remote: Compressing objects:  36% (17/46)   \\x1b[K',\n",
       " 'remote: Compressing objects:  39% (18/46)   \\x1b[K',\n",
       " 'remote: Compressing objects:  41% (19/46)   \\x1b[K',\n",
       " 'remote: Compressing objects:  43% (20/46)   \\x1b[K',\n",
       " 'remote: Compressing objects:  45% (21/46)   \\x1b[K',\n",
       " 'remote: Compressing objects:  47% (22/46)   \\x1b[K',\n",
       " 'remote: Compressing objects:  50% (23/46)   \\x1b[K',\n",
       " 'remote: Compressing objects:  52% (24/46)   \\x1b[K',\n",
       " 'remote: Compressing objects:  54% (25/46)   \\x1b[K',\n",
       " 'remote: Compressing objects:  56% (26/46)   \\x1b[K',\n",
       " 'remote: Compressing objects:  58% (27/46)   \\x1b[K',\n",
       " 'remote: Compressing objects:  60% (28/46)   \\x1b[K',\n",
       " 'remote: Compressing objects:  63% (29/46)   \\x1b[K',\n",
       " 'remote: Compressing objects:  65% (30/46)   \\x1b[K',\n",
       " 'remote: Compressing objects:  67% (31/46)   \\x1b[K',\n",
       " 'remote: Compressing objects:  69% (32/46)   \\x1b[K',\n",
       " 'remote: Compressing objects:  71% (33/46)   \\x1b[K',\n",
       " 'remote: Compressing objects:  73% (34/46)   \\x1b[K',\n",
       " 'remote: Compressing objects:  76% (35/46)   \\x1b[K',\n",
       " 'remote: Compressing objects:  78% (36/46)   \\x1b[K',\n",
       " 'remote: Compressing objects:  80% (37/46)   \\x1b[K',\n",
       " 'remote: Compressing objects:  82% (38/46)   \\x1b[K',\n",
       " 'remote: Compressing objects:  84% (39/46)   \\x1b[K',\n",
       " 'remote: Compressing objects:  86% (40/46)   \\x1b[K',\n",
       " 'remote: Compressing objects:  89% (41/46)   \\x1b[K',\n",
       " 'remote: Compressing objects:  91% (42/46)   \\x1b[K',\n",
       " 'remote: Compressing objects:  93% (43/46)   \\x1b[K',\n",
       " 'remote: Compressing objects:  95% (44/46)   \\x1b[K',\n",
       " 'remote: Compressing objects:  97% (45/46)   \\x1b[K',\n",
       " 'remote: Compressing objects: 100% (46/46)   \\x1b[K',\n",
       " 'remote: Compressing objects: 100% (46/46), done.\\x1b[K',\n",
       " 'Unpacking objects:   2% (1/50)   ',\n",
       " 'Unpacking objects:   4% (2/50)   ',\n",
       " 'Unpacking objects:   6% (3/50)   ',\n",
       " 'Unpacking objects:   8% (4/50)   ',\n",
       " 'Unpacking objects:  10% (5/50)   ',\n",
       " 'Unpacking objects:  12% (6/50)   ',\n",
       " 'Unpacking objects:  14% (7/50)   ',\n",
       " 'Unpacking objects:  16% (8/50)   ',\n",
       " 'Unpacking objects:  18% (9/50)   ',\n",
       " 'Unpacking objects:  20% (10/50)   ',\n",
       " 'Unpacking objects:  22% (11/50)   ',\n",
       " 'Unpacking objects:  24% (12/50)   ',\n",
       " 'Unpacking objects:  26% (13/50)   ',\n",
       " 'Unpacking objects:  28% (14/50)   ',\n",
       " 'Unpacking objects:  30% (15/50)   ',\n",
       " 'Unpacking objects:  32% (16/50)   ',\n",
       " 'Unpacking objects:  34% (17/50)   ',\n",
       " 'Unpacking objects:  36% (18/50)   ',\n",
       " 'Unpacking objects:  38% (19/50)   ',\n",
       " 'Unpacking objects:  40% (20/50)   ',\n",
       " 'Unpacking objects:  42% (21/50)   ',\n",
       " 'Unpacking objects:  44% (22/50)   ',\n",
       " 'Unpacking objects:  46% (23/50)   ',\n",
       " 'Unpacking objects:  48% (24/50)   ',\n",
       " 'Unpacking objects:  50% (25/50)   ',\n",
       " 'Unpacking objects:  52% (26/50)   ',\n",
       " 'Unpacking objects:  54% (27/50)   ',\n",
       " 'Unpacking objects:  56% (28/50)   ',\n",
       " 'Unpacking objects:  58% (29/50)   ',\n",
       " 'Unpacking objects:  60% (30/50)   ',\n",
       " 'Unpacking objects:  62% (31/50)   ',\n",
       " 'Unpacking objects:  64% (32/50)   ',\n",
       " 'Unpacking objects:  66% (33/50)   ',\n",
       " 'Unpacking objects:  68% (34/50)   ',\n",
       " 'Unpacking objects:  70% (35/50)   ',\n",
       " 'Unpacking objects:  72% (36/50)   ',\n",
       " 'Unpacking objects:  74% (37/50)   ',\n",
       " 'Unpacking objects:  76% (38/50)   ',\n",
       " 'Unpacking objects:  78% (39/50)   ',\n",
       " 'Unpacking objects:  80% (40/50)   ',\n",
       " 'Unpacking objects:  82% (41/50)   ',\n",
       " 'Unpacking objects:  84% (42/50)   ',\n",
       " 'Unpacking objects:  86% (43/50)   ',\n",
       " 'Unpacking objects:  88% (44/50)   ',\n",
       " 'Unpacking objects:  90% (45/50)   ',\n",
       " 'Unpacking objects:  92% (46/50)   ',\n",
       " 'Unpacking objects:  94% (47/50)   ',\n",
       " 'remote: Total 50 (delta 0), reused 0 (delta 0), pack-reused 0\\x1b[K',\n",
       " 'Unpacking objects:  96% (48/50)   ',\n",
       " 'Unpacking objects:  98% (49/50)   ',\n",
       " 'Unpacking objects: 100% (50/50)   ',\n",
       " 'Unpacking objects: 100% (50/50), done.']"
      ]
     },
     "execution_count": 3,
     "metadata": {
      "tags": []
     },
     "output_type": "execute_result"
    }
   ],
   "source": [
    "!!git clone https://github.com/Simplilearn-Edu/Machine-Learning--Projects.git"
   ]
  },
  {
   "cell_type": "code",
   "execution_count": 4,
   "metadata": {
    "colab": {
     "base_uri": "https://localhost:8080/",
     "height": 34
    },
    "colab_type": "code",
    "id": "FUReUKrtB0z3",
    "outputId": "2dfe0805-94c6-4575-ea89-6dd8d11068ef"
   },
   "outputs": [
    {
     "name": "stdout",
     "output_type": "stream",
     "text": [
      "'Dataset for the project.zip'  'Income Qualification.txt'\n"
     ]
    }
   ],
   "source": [
    "!ls Machine-Learning--Projects/Projects/'Projects for Submission'/'Project 2 - Income Qualification'"
   ]
  },
  {
   "cell_type": "code",
   "execution_count": 5,
   "metadata": {
    "colab": {
     "base_uri": "https://localhost:8080/",
     "height": 85
    },
    "colab_type": "code",
    "id": "1lwIJ2xJB6CQ",
    "outputId": "16b6576a-ee7d-4d15-d44c-43010f42c961"
   },
   "outputs": [
    {
     "name": "stdout",
     "output_type": "stream",
     "text": [
      "Archive:  Machine-Learning--Projects/Projects/Projects for Submission/Project 2 - Income Qualification/Dataset for the project.zip\n",
      "   creating: Dataset for the project/\n",
      "  inflating: Dataset for the project/test.csv  \n",
      "  inflating: Dataset for the project/train.csv  \n"
     ]
    }
   ],
   "source": [
    "!unzip Machine-Learning--Projects/Projects/'Projects for Submission'/'Project 2 - Income Qualification'/'Dataset for the project.zip'"
   ]
  },
  {
   "cell_type": "code",
   "execution_count": 8,
   "metadata": {
    "colab": {
     "base_uri": "https://localhost:8080/",
     "height": 34
    },
    "colab_type": "code",
    "id": "4QFqBOlGB5_c",
    "outputId": "841144cf-b2ca-4257-da9f-58280e61a619"
   },
   "outputs": [
    {
     "name": "stdout",
     "output_type": "stream",
     "text": [
      "test.csv  train.csv\n"
     ]
    }
   ],
   "source": [
    "!mv 'Dataset for the project' data\n",
    "!ls data"
   ]
  },
  {
   "cell_type": "code",
   "execution_count": 10,
   "metadata": {
    "colab": {
     "base_uri": "https://localhost:8080/",
     "height": 340
    },
    "colab_type": "code",
    "id": "gdOryVsmCO5E",
    "outputId": "aa1347fb-bf8a-4ddb-db76-41631d2860ad"
   },
   "outputs": [
    {
     "name": "stdout",
     "output_type": "stream",
     "text": [
      "Collecting catboost\n",
      "\u001b[?25l  Downloading https://files.pythonhosted.org/packages/5a/8a/a867c35770291646b085e9248814eb32dbe2aa824715b08e40cd92d0a83e/catboost-0.15.1-cp36-none-manylinux1_x86_64.whl (61.0MB)\n",
      "\u001b[K     |████████████████████████████████| 61.1MB 433kB/s \n",
      "\u001b[?25hCollecting category_encoders\n",
      "\u001b[?25l  Downloading https://files.pythonhosted.org/packages/6e/a1/f7a22f144f33be78afeb06bfa78478e8284a64263a3c09b1ef54e673841e/category_encoders-2.0.0-py2.py3-none-any.whl (87kB)\n",
      "\u001b[K     |████████████████████████████████| 92kB 27.1MB/s \n",
      "\u001b[?25hRequirement already satisfied: graphviz in /usr/local/lib/python3.6/dist-packages (from catboost) (0.10.1)\n",
      "Requirement already satisfied: pandas>=0.19.1 in /usr/local/lib/python3.6/dist-packages (from catboost) (0.24.2)\n",
      "Requirement already satisfied: six in /usr/local/lib/python3.6/dist-packages (from catboost) (1.12.0)\n",
      "Requirement already satisfied: numpy>=1.16.0 in /usr/local/lib/python3.6/dist-packages (from catboost) (1.16.4)\n",
      "Requirement already satisfied: scikit-learn>=0.20.0 in /usr/local/lib/python3.6/dist-packages (from category_encoders) (0.21.2)\n",
      "Requirement already satisfied: statsmodels>=0.6.1 in /usr/local/lib/python3.6/dist-packages (from category_encoders) (0.9.0)\n",
      "Requirement already satisfied: scipy>=0.19.0 in /usr/local/lib/python3.6/dist-packages (from category_encoders) (1.3.0)\n",
      "Requirement already satisfied: patsy>=0.4.1 in /usr/local/lib/python3.6/dist-packages (from category_encoders) (0.5.1)\n",
      "Requirement already satisfied: pytz>=2011k in /usr/local/lib/python3.6/dist-packages (from pandas>=0.19.1->catboost) (2018.9)\n",
      "Requirement already satisfied: python-dateutil>=2.5.0 in /usr/local/lib/python3.6/dist-packages (from pandas>=0.19.1->catboost) (2.5.3)\n",
      "Requirement already satisfied: joblib>=0.11 in /usr/local/lib/python3.6/dist-packages (from scikit-learn>=0.20.0->category_encoders) (0.13.2)\n",
      "Installing collected packages: catboost, category-encoders\n",
      "Successfully installed catboost-0.15.1 category-encoders-2.0.0\n"
     ]
    }
   ],
   "source": [
    "!pip install catboost category_encoders"
   ]
  },
  {
   "cell_type": "code",
   "execution_count": 11,
   "metadata": {
    "colab": {
     "base_uri": "https://localhost:8080/",
     "height": 34
    },
    "colab_type": "code",
    "id": "FBEX6JQkBhQN",
    "outputId": "0f827f1d-1fc4-4309-bc8f-583f9b214ac6"
   },
   "outputs": [
    {
     "name": "stdout",
     "output_type": "stream",
     "text": [
      "['train.csv', 'test.csv']\n"
     ]
    }
   ],
   "source": [
    "import numpy as np # linear algebra\n",
    "import pandas as pd # data processing, CSV file I/O (e.g. pd.read_csv)\n",
    "import datetime\n",
    "import gc\n",
    "import numpy as np\n",
    "import os\n",
    "import pandas as pd\n",
    "from tqdm import tqdm\n",
    "import warnings\n",
    "warnings.filterwarnings(action='ignore',category = DeprecationWarning)\n",
    "warnings.simplefilter(action='ignore',category = DeprecationWarning)\n",
    "\n",
    "\n",
    "from sklearn.preprocessing import LabelEncoder\n",
    "from sklearn.metrics import f1_score\n",
    "from sklearn.model_selection import KFold, RepeatedKFold, GroupKFold\n",
    "from sklearn.utils.class_weight import compute_sample_weight\n",
    "from imblearn.under_sampling import RandomUnderSampler\n",
    "from imblearn.over_sampling import ADASYN\n",
    "import category_encoders as ce\n",
    "import lightgbm as lgb\n",
    "from xgboost import XGBClassifier\n",
    "from catboost import CatBoostClassifier\n",
    "\n",
    "from time import time\n",
    "\n",
    "import scipy.stats as st\n",
    "from sklearn.pipeline import Pipeline\n",
    "from tempfile import mkdtemp\n",
    "from shutil import rmtree\n",
    "\n",
    "from sklearn.ensemble import RandomForestClassifier, GradientBoostingClassifier\n",
    "import xgboost as xgb\n",
    "\n",
    "from sklearn.metrics import confusion_matrix, accuracy_score, f1_score\n",
    "\n",
    "from sklearn.model_selection import KFold, StratifiedKFold\n",
    "from sklearn.model_selection import RandomizedSearchCV,GridSearchCV\n",
    "from sklearn.model_selection import train_test_split\n",
    "\n",
    "import matplotlib\n",
    "import matplotlib.pyplot as plt\n",
    "import seaborn as sns\n",
    "%matplotlib inline \n",
    "\n",
    "\n",
    "import os\n",
    "print(os.listdir(\"data\"))\n",
    "\n",
    "import warnings\n",
    "\n",
    "def fxn():\n",
    "    warnings.warn(\"deprecated\", DeprecationWarning)\n",
    "\n",
    "with warnings.catch_warnings(record=True) as w:\n",
    "    # Cause all warnings to always be triggered.\n",
    "    warnings.simplefilter(\"always\")\n",
    "    # Trigger a warning.\n",
    "    fxn()\n",
    "    # Verify some things\n",
    "    assert len(w) == 1\n",
    "    assert issubclass(w[-1].category, DeprecationWarning)\n",
    "    assert \"deprecated\" in str(w[-1].message)"
   ]
  },
  {
   "cell_type": "code",
   "execution_count": 0,
   "metadata": {
    "colab": {},
    "colab_type": "code",
    "id": "-bhGlVEgB30X"
   },
   "outputs": [],
   "source": [
    "def dprint(*args, **kwargs):\n",
    "    print(\"[{}] \".format(datetime.datetime.now().strftime(\"%Y-%m-%d %H:%M\")) + \\\n",
    "        \" \".join(map(str,args)), **kwargs)\n",
    "\n",
    "id_name = 'Id'\n",
    "target_name = 'Target'"
   ]
  },
  {
   "cell_type": "code",
   "execution_count": 0,
   "metadata": {
    "colab": {},
    "colab_type": "code",
    "id": "JTuTa50aCjOr"
   },
   "outputs": [],
   "source": [
    "# Load data\n",
    "train = pd.read_csv('data/train.csv')\n",
    "test = pd.read_csv('data/test.csv')"
   ]
  },
  {
   "cell_type": "code",
   "execution_count": 14,
   "metadata": {
    "colab": {
     "base_uri": "https://localhost:8080/",
     "height": 153
    },
    "colab_type": "code",
    "id": "aU6b6ojyCpsm",
    "outputId": "0e336d8e-5516-4b4e-e800-192630f6d3bd"
   },
   "outputs": [
    {
     "name": "stderr",
     "output_type": "stream",
     "text": [
      "/usr/local/lib/python3.6/dist-packages/ipykernel_launcher.py:3: FutureWarning: Sorting because non-concatenation axis is not aligned. A future version\n",
      "of pandas will change to not sort by default.\n",
      "\n",
      "To accept the future behavior, pass 'sort=False'.\n",
      "\n",
      "To retain the current behavior and silence the warning, pass 'sort=True'.\n",
      "\n",
      "  This is separate from the ipykernel package so we can avoid doing imports until\n"
     ]
    }
   ],
   "source": [
    "train['is_test'] = 0\n",
    "test['is_test'] = 1\n",
    "df_all = pd.concat([train, test], axis=0)"
   ]
  },
  {
   "cell_type": "code",
   "execution_count": 15,
   "metadata": {
    "colab": {
     "base_uri": "https://localhost:8080/",
     "height": 68
    },
    "colab_type": "code",
    "id": "DbUHFtOwCv9M",
    "outputId": "9c1e55cd-9e8b-41d7-fa6b-b7b5462b494b"
   },
   "outputs": [
    {
     "name": "stderr",
     "output_type": "stream",
     "text": [
      "100%|██████████| 1/1 [00:00<00:00, 14.06it/s]"
     ]
    },
    {
     "name": "stdout",
     "output_type": "stream",
     "text": [
      "[2019-06-05 11:08] Clean features...\n",
      "[2019-06-05 11:08] Done.\n"
     ]
    },
    {
     "name": "stderr",
     "output_type": "stream",
     "text": [
      "\n"
     ]
    }
   ],
   "source": [
    "dprint('Clean features...')\n",
    "cols = ['dependency']\n",
    "for c in tqdm(cols):\n",
    "    x = df_all[c].values\n",
    "    strs = []\n",
    "    for i, v in enumerate(x):\n",
    "        try:\n",
    "            val = float(v)\n",
    "        except:\n",
    "            strs.append(v)\n",
    "            val = np.nan\n",
    "        x[i] = val\n",
    "    strs = np.unique(strs)\n",
    "\n",
    "    for s in strs:\n",
    "        df_all[c + '_' + s] = df_all[c].apply(lambda x: 1 if x == s else 0)\n",
    "\n",
    "    df_all[c] = x\n",
    "    df_all[c] = df_all[c].astype(float)\n",
    "dprint(\"Done.\")"
   ]
  },
  {
   "cell_type": "code",
   "execution_count": 16,
   "metadata": {
    "colab": {
     "base_uri": "https://localhost:8080/",
     "height": 51
    },
    "colab_type": "code",
    "id": "qDINKiV0DJZZ",
    "outputId": "65ae8ac2-3528-40f0-d79f-5758ad460801"
   },
   "outputs": [
    {
     "name": "stdout",
     "output_type": "stream",
     "text": [
      "[2019-06-05 11:08] Extracting features...\n",
      "[2019-06-05 11:08] Done.\n"
     ]
    }
   ],
   "source": [
    "dprint(\"Extracting features...\")\n",
    "def extract_features(df):\n",
    "    df['bedrooms_to_rooms'] = df['bedrooms']/df['rooms']\n",
    "    df['rent_to_rooms'] = df['v2a1']/df['rooms']\n",
    "    df['rent_to_bedrooms'] = df['v2a1']/df['bedrooms']\n",
    "    df['tamhog_to_rooms'] = df['tamhog']/df['rooms'] # tamhog - size of the household\n",
    "    df['tamhog_to_bedrooms'] = df['tamhog']/df['bedrooms']\n",
    "    df['r4t3_to_tamhog'] = df['r4t3']/df['tamhog'] # r4t3 - Total persons in the household\n",
    "    df['r4t3_to_rooms'] = df['r4t3']/df['rooms'] # r4t3 - Total persons in the household\n",
    "    df['r4t3_to_bedrooms'] = df['r4t3']/df['bedrooms']\n",
    "    df['rent_to_r4t3'] = df['v2a1']/df['r4t3']\n",
    "    df['v2a1_to_r4t3'] = df['v2a1']/(df['r4t3'] - df['r4t1'])\n",
    "    df['hhsize_to_rooms'] = df['hhsize']/df['rooms']\n",
    "    df['hhsize_to_bedrooms'] = df['hhsize']/df['bedrooms']\n",
    "    df['rent_to_hhsize'] = df['v2a1']/df['hhsize']\n",
    "    df['qmobilephone_to_r4t3'] = df['qmobilephone']/df['r4t3']\n",
    "    df['qmobilephone_to_v18q1'] = df['qmobilephone']/df['v18q1']\n",
    "    \n",
    "\n",
    "extract_features(train)\n",
    "extract_features(test)\n",
    "dprint(\"Done.\")         "
   ]
  },
  {
   "cell_type": "code",
   "execution_count": 0,
   "metadata": {
    "colab": {},
    "colab_type": "code",
    "id": "wXhBMDBCDODd"
   },
   "outputs": [],
   "source": [
    "from sklearn.preprocessing import LabelEncoder\n",
    "\n",
    "def encode_data(df):\n",
    "   \n",
    "    yes_no_map = {'no': 0, 'yes': 1}\n",
    "    \n",
    "    df['dependency'] = df['dependency'].replace(yes_no_map).astype(np.float32)\n",
    "    \n",
    "    df['edjefe'] = df['edjefe'].replace(yes_no_map).astype(np.float32)\n",
    "    df['edjefa'] = df['edjefa'].replace(yes_no_map).astype(np.float32)\n",
    "    \n",
    "    df['idhogar'] = LabelEncoder().fit_transform(df['idhogar'])"
   ]
  },
  {
   "cell_type": "code",
   "execution_count": 18,
   "metadata": {
    "colab": {
     "base_uri": "https://localhost:8080/",
     "height": 51
    },
    "colab_type": "code",
    "id": "XrvMZAG7DQkm",
    "outputId": "33097a4a-73cc-48f9-fd54-c3c2bba0fc56"
   },
   "outputs": [
    {
     "name": "stdout",
     "output_type": "stream",
     "text": [
      "[2019-06-05 11:08] Encoding Data....\n",
      "[2019-06-05 11:08] Done...\n"
     ]
    }
   ],
   "source": [
    "dprint(\"Encoding Data....\")\n",
    "encode_data(train)\n",
    "encode_data(test)\n",
    "dprint(\"Done...\")"
   ]
  },
  {
   "cell_type": "code",
   "execution_count": 0,
   "metadata": {
    "colab": {},
    "colab_type": "code",
    "id": "Ypm4nabADTMt"
   },
   "outputs": [],
   "source": [
    "def do_features(df):\n",
    "    feats_div = [('children_fraction', 'r4t1', 'r4t3'), \n",
    "                 ('working_man_fraction', 'r4h2', 'r4t3'),\n",
    "                 ('all_man_fraction', 'r4h3', 'r4t3'),\n",
    "                 ('human_density', 'tamviv', 'rooms'),\n",
    "                 ('human_bed_density', 'tamviv', 'bedrooms'),\n",
    "                 ('rent_per_person', 'v2a1', 'r4t3'),\n",
    "                 ('rent_per_room', 'v2a1', 'rooms'),\n",
    "                 ('mobile_density', 'qmobilephone', 'r4t3'),\n",
    "                 ('tablet_density', 'v18q1', 'r4t3'),\n",
    "                 ('mobile_adult_density', 'qmobilephone', 'r4t2'),\n",
    "                 ('tablet_adult_density', 'v18q1', 'r4t2'),\n",
    "                 #('', '', ''),\n",
    "                ]\n",
    "    \n",
    "    feats_sub = [('people_not_living', 'tamhog', 'tamviv'),\n",
    "                 ('people_weird_stat', 'tamhog', 'r4t3')]\n",
    "\n",
    "    for f_new, f1, f2 in feats_div:\n",
    "        df['fe_' + f_new] = (df[f1] / df[f2]).astype(np.float32)       \n",
    "    for f_new, f1, f2 in feats_sub:\n",
    "        df['fe_' + f_new] = (df[f1] - df[f2]).astype(np.float32)\n",
    "    \n",
    "    # aggregation rules over household\n",
    "    aggs_num = {'age': ['min', 'max', 'mean'],\n",
    "                'escolari': ['min', 'max', 'mean']\n",
    "               }\n",
    "    aggs_cat = {'dis': ['mean']}\n",
    "    for s_ in ['estadocivil', 'parentesco', 'instlevel']:\n",
    "        for f_ in [f_ for f_ in df.columns if f_.startswith(s_)]:\n",
    "            aggs_cat[f_] = ['mean', 'count']\n",
    "    # aggregation over household\n",
    "    for name_, df_ in [('18', df.query('age >= 18'))]:\n",
    "        df_agg = df_.groupby('idhogar').agg({**aggs_num, **aggs_cat}).astype(np.float32)\n",
    "        df_agg.columns = pd.Index(['agg' + name_ + '_' + e[0] + \"_\" + e[1].upper() for e in df_agg.columns.tolist()])\n",
    "        df = df.join(df_agg, how='left', on='idhogar')\n",
    "        del df_agg\n",
    "    # do something advanced above...\n",
    "    \n",
    "    # Drop SQB variables, as they are just squres of other vars \n",
    "    df.drop([f_ for f_ in df.columns if f_.startswith('SQB') or f_ == 'agesq'], axis=1, inplace=True)\n",
    "    # Drop id's\n",
    "    df.drop(['Id', 'idhogar'], axis=1, inplace=True)\n",
    "    # Drop repeated columns\n",
    "    df.drop(['hhsize', 'female', 'area2'], axis=1, inplace=True)\n",
    "    return df"
   ]
  },
  {
   "cell_type": "code",
   "execution_count": 20,
   "metadata": {
    "colab": {
     "base_uri": "https://localhost:8080/",
     "height": 51
    },
    "colab_type": "code",
    "id": "-d0u9H6RDX3d",
    "outputId": "04911250-972e-43a0-af6f-656dd8dd49b3"
   },
   "outputs": [
    {
     "name": "stdout",
     "output_type": "stream",
     "text": [
      "[2019-06-05 11:08] Do_feature Engineering....\n",
      "[2019-06-05 11:08] Done....\n"
     ]
    }
   ],
   "source": [
    "dprint(\"Do_feature Engineering....\")\n",
    "train = do_features(train)\n",
    "test = do_features(test)\n",
    "dprint(\"Done....\")"
   ]
  },
  {
   "cell_type": "code",
   "execution_count": 21,
   "metadata": {
    "colab": {
     "base_uri": "https://localhost:8080/",
     "height": 51
    },
    "colab_type": "code",
    "id": "af6boMJNDaa5",
    "outputId": "d4c2f53d-1cdb-45d0-b4df-766fe5ae117f"
   },
   "outputs": [
    {
     "name": "stdout",
     "output_type": "stream",
     "text": [
      "[2019-06-05 11:08] Fill Na value....\n",
      "[2019-06-05 11:08] Done....\n"
     ]
    }
   ],
   "source": [
    "dprint(\"Fill Na value....\")\n",
    "train = train.fillna(0)\n",
    "test = test.fillna(0)\n",
    "dprint(\"Done....\")"
   ]
  },
  {
   "cell_type": "code",
   "execution_count": 22,
   "metadata": {
    "colab": {
     "base_uri": "https://localhost:8080/",
     "height": 34
    },
    "colab_type": "code",
    "id": "3b0xk92-IWaB",
    "outputId": "4ef8e196-5a59-4e80-a3d0-b2194dca1e9e"
   },
   "outputs": [
    {
     "data": {
      "text/plain": [
       "((9557, 221), (23856, 220))"
      ]
     },
     "execution_count": 22,
     "metadata": {
      "tags": []
     },
     "output_type": "execute_result"
    }
   ],
   "source": [
    "train.shape,test.shape\n"
   ]
  },
  {
   "cell_type": "code",
   "execution_count": 0,
   "metadata": {
    "colab": {},
    "colab_type": "code",
    "id": "MH7Iybm5IYKT"
   },
   "outputs": [],
   "source": [
    "cols_to_drop = [\n",
    "    id_name, \n",
    "    target_name,\n",
    "]\n",
    "X = train.drop(cols_to_drop, axis=1, errors='ignore')\n",
    "y = train[target_name].values\n"
   ]
  },
  {
   "cell_type": "code",
   "execution_count": 24,
   "metadata": {
    "colab": {
     "base_uri": "https://localhost:8080/",
     "height": 34
    },
    "colab_type": "code",
    "id": "-C_LuXDVIbFE",
    "outputId": "1daefc24-f9d2-421b-8943-7697f07ec1b1"
   },
   "outputs": [
    {
     "data": {
      "text/plain": [
       "((9557, 220), (9557,))"
      ]
     },
     "execution_count": 24,
     "metadata": {
      "tags": []
     },
     "output_type": "execute_result"
    }
   ],
   "source": [
    "X.shape,y.shape"
   ]
  },
  {
   "cell_type": "code",
   "execution_count": 0,
   "metadata": {
    "colab": {},
    "colab_type": "code",
    "id": "gXe1DQe8Id8W"
   },
   "outputs": [],
   "source": [
    "params = {\n",
    "        'min_child_weight': [1, 5, 10],\n",
    "        'gamma': [0.5, 1, 1.5, 2, 5],\n",
    "        'subsample': [0.6, 0.8, 1.0],\n",
    "        'colsample_bytree': [0.6, 0.8, 1.0],\n",
    "        'max_depth': [3, 4, 5]\n",
    "        }\n",
    "xgb = XGBClassifier(learning_rate=0.02, n_estimators=100, objective='multi:softmax',booster='gbtree',\n",
    "                    silent=True, nthread=1)\n",
    "\n",
    "folds = 3\n",
    "param_comb = 5\n",
    "skf = StratifiedKFold(n_splits=folds, shuffle = True, random_state = 42)"
   ]
  },
  {
   "cell_type": "code",
   "execution_count": 26,
   "metadata": {
    "colab": {
     "base_uri": "https://localhost:8080/",
     "height": 391
    },
    "colab_type": "code",
    "id": "Nyjqd-ZnVAA9",
    "outputId": "00b5ad53-081f-45c9-9a99-764c191b863b"
   },
   "outputs": [
    {
     "data": {
      "text/plain": [
       "RandomizedSearchCV(cv=<generator object _BaseKFold.split at 0x7fcb62263f68>,\n",
       "                   error_score='raise-deprecating',\n",
       "                   estimator=XGBClassifier(base_score=0.5, booster='gbtree',\n",
       "                                           colsample_bylevel=1,\n",
       "                                           colsample_bynode=1,\n",
       "                                           colsample_bytree=1, gamma=0,\n",
       "                                           learning_rate=0.02, max_delta_step=0,\n",
       "                                           max_depth=3, min_child_weight=1,\n",
       "                                           missing=None, n_estimators=100,\n",
       "                                           n_jobs=1, nthread=1,\n",
       "                                           objectiv...\n",
       "                                           reg_lambda=1, scale_pos_weight=1,\n",
       "                                           seed=None, silent=True, subsample=1,\n",
       "                                           verbosity=1),\n",
       "                   iid='warn', n_iter=5, n_jobs=4,\n",
       "                   param_distributions={'colsample_bytree': [0.6, 0.8, 1.0],\n",
       "                                        'gamma': [0.5, 1, 1.5, 2, 5],\n",
       "                                        'max_depth': [3, 4, 5],\n",
       "                                        'min_child_weight': [1, 5, 10],\n",
       "                                        'subsample': [0.6, 0.8, 1.0]},\n",
       "                   pre_dispatch='2*n_jobs', random_state=1001, refit=True,\n",
       "                   return_train_score=False, scoring='accuracy', verbose=0)"
      ]
     },
     "execution_count": 26,
     "metadata": {
      "tags": []
     },
     "output_type": "execute_result"
    }
   ],
   "source": [
    "random_search = RandomizedSearchCV(xgb, param_distributions=params, n_iter=param_comb, scoring='accuracy', n_jobs=4, cv=skf.split(X,y), verbose=0, random_state=1001 )\n",
    "random_search.fit(X, y)"
   ]
  },
  {
   "cell_type": "code",
   "execution_count": 27,
   "metadata": {
    "colab": {
     "base_uri": "https://localhost:8080/",
     "height": 598
    },
    "colab_type": "code",
    "id": "Tw7DQ-K0U_6j",
    "outputId": "6dd3e778-77af-4555-b1ae-23a7fca6c14c"
   },
   "outputs": [
    {
     "name": "stdout",
     "output_type": "stream",
     "text": [
      "\n",
      " All results:\n",
      "{'mean_fit_time': array([38.54292218, 64.78864948, 58.65247647, 40.0707616 , 45.34571632]), 'std_fit_time': array([0.23574511, 0.02759083, 0.13724321, 0.06338125, 4.70875725]), 'mean_score_time': array([0.18842101, 0.27431075, 0.2677687 , 0.26250656, 0.14133581]), 'std_score_time': array([0.00767652, 0.00418096, 0.00247599, 0.00629999, 0.05404488]), 'param_subsample': masked_array(data=[1.0, 0.6, 0.8, 1.0, 0.8],\n",
      "             mask=[False, False, False, False, False],\n",
      "       fill_value='?',\n",
      "            dtype=object), 'param_min_child_weight': masked_array(data=[5, 1, 5, 5, 1],\n",
      "             mask=[False, False, False, False, False],\n",
      "       fill_value='?',\n",
      "            dtype=object), 'param_max_depth': masked_array(data=[3, 5, 5, 5, 4],\n",
      "             mask=[False, False, False, False, False],\n",
      "       fill_value='?',\n",
      "            dtype=object), 'param_gamma': masked_array(data=[5, 1.5, 1, 5, 1],\n",
      "             mask=[False, False, False, False, False],\n",
      "       fill_value='?',\n",
      "            dtype=object), 'param_colsample_bytree': masked_array(data=[1.0, 0.8, 0.8, 0.6, 1.0],\n",
      "             mask=[False, False, False, False, False],\n",
      "       fill_value='?',\n",
      "            dtype=object), 'params': [{'subsample': 1.0, 'min_child_weight': 5, 'max_depth': 3, 'gamma': 5, 'colsample_bytree': 1.0}, {'subsample': 0.6, 'min_child_weight': 1, 'max_depth': 5, 'gamma': 1.5, 'colsample_bytree': 0.8}, {'subsample': 0.8, 'min_child_weight': 5, 'max_depth': 5, 'gamma': 1, 'colsample_bytree': 0.8}, {'subsample': 1.0, 'min_child_weight': 5, 'max_depth': 5, 'gamma': 5, 'colsample_bytree': 0.6}, {'subsample': 0.8, 'min_child_weight': 1, 'max_depth': 4, 'gamma': 1, 'colsample_bytree': 1.0}], 'split0_test_score': array([0.67524318, 0.74929401, 0.74144964, 0.72921243, 0.70442422]), 'split1_test_score': array([0.69020716, 0.74795982, 0.74199623, 0.73697426, 0.72473321]), 'split2_test_score': array([0.69723618, 0.75659548, 0.75125628, 0.74340452, 0.72738693]), 'mean_test_score': array([0.68755886, 0.75128178, 0.74489903, 0.7365282 , 0.71884483]), 'std_test_score': array([0.00917161, 0.00379517, 0.00449903, 0.00580233, 0.01025747]), 'rank_test_score': array([5, 1, 2, 3, 4], dtype=int32)}\n",
      "\n",
      " Best estimator:\n",
      "XGBClassifier(base_score=0.5, booster='gbtree', colsample_bylevel=1,\n",
      "              colsample_bynode=1, colsample_bytree=0.8, gamma=1.5,\n",
      "              learning_rate=0.02, max_delta_step=0, max_depth=5,\n",
      "              min_child_weight=1, missing=None, n_estimators=100, n_jobs=1,\n",
      "              nthread=1, objective='multi:softprob', random_state=0,\n",
      "              reg_alpha=0, reg_lambda=1, scale_pos_weight=1, seed=None,\n",
      "              silent=True, subsample=0.6, verbosity=1)\n",
      "\n",
      " Best normalized gini score for 3-fold search with 5 parameter combinations:\n",
      "0.5025635659725856\n",
      "\n",
      " Best hyperparameters:\n",
      "{'subsample': 0.6, 'min_child_weight': 1, 'max_depth': 5, 'gamma': 1.5, 'colsample_bytree': 0.8}\n"
     ]
    }
   ],
   "source": [
    "print('\\n All results:')\n",
    "print(random_search.cv_results_)\n",
    "print('\\n Best estimator:')\n",
    "print(random_search.best_estimator_)\n",
    "print('\\n Best normalized gini score for %d-fold search with %d parameter combinations:' % (folds, param_comb))\n",
    "print(random_search.best_score_ * 2 - 1)\n",
    "print('\\n Best hyperparameters:')\n",
    "print(random_search.best_params_)\n",
    "results = pd.DataFrame(random_search.cv_results_)\n",
    "results.to_csv('xgb-random-grid-search-results-01.csv', index=False)"
   ]
  },
  {
   "cell_type": "code",
   "execution_count": 31,
   "metadata": {
    "colab": {
     "base_uri": "https://localhost:8080/",
     "height": 374
    },
    "colab_type": "code",
    "id": "9FgDhg4tU_3r",
    "outputId": "fc19e34f-5b07-4ced-8a51-bbf17f03a595"
   },
   "outputs": [
    {
     "data": {
      "text/plain": [
       "GridSearchCV(cv=5, error_score='raise-deprecating',\n",
       "             estimator=RandomForestClassifier(bootstrap=True,\n",
       "                                              class_weight='balanced_subsample',\n",
       "                                              criterion='gini', max_depth=None,\n",
       "                                              max_features='sqrt',\n",
       "                                              max_leaf_nodes=None,\n",
       "                                              min_impurity_decrease=0.0,\n",
       "                                              min_impurity_split=None,\n",
       "                                              min_samples_leaf=3,\n",
       "                                              min_samples_split=2,\n",
       "                                              min_weight_fraction_leaf=0.0,\n",
       "                                              n_estimators=120, n_jobs=-1,\n",
       "                                              oob_score=False,\n",
       "                                              random_state=None, verbose=0,\n",
       "                                              warm_start=False),\n",
       "             iid='warn', n_jobs=None,\n",
       "             param_grid={'n_estimators': [40, 41, 42, 43, 44, 45, 46, 47, 48,\n",
       "                                          49, 50, 51, 52, 53, 54, 55, 56, 57,\n",
       "                                          58, 59, 60]},\n",
       "             pre_dispatch='2*n_jobs', refit=True, return_train_score=False,\n",
       "             scoring=None, verbose=0)"
      ]
     },
     "execution_count": 31,
     "metadata": {
      "tags": []
     },
     "output_type": "execute_result"
    }
   ],
   "source": [
    "clf = RandomForestClassifier(n_estimators=120, max_features=\"sqrt\", min_samples_leaf=3, n_jobs=-1, class_weight='balanced_subsample')\n",
    "params={'n_estimators': list(range(40,61, 1))}\n",
    "gs = GridSearchCV(clf, params, cv=5)\n",
    "gs.fit(X,y)"
   ]
  },
  {
   "cell_type": "code",
   "execution_count": 0,
   "metadata": {
    "colab": {},
    "colab_type": "code",
    "id": "yiOPpbMnU_0y"
   },
   "outputs": [],
   "source": [
    "preds=gs.predict(X)"
   ]
  },
  {
   "cell_type": "code",
   "execution_count": 34,
   "metadata": {
    "colab": {
     "base_uri": "https://localhost:8080/",
     "height": 204
    },
    "colab_type": "code",
    "id": "a5E3otiqU_yF",
    "outputId": "999bb0a1-814e-4519-b105-6d7bba04edf5"
   },
   "outputs": [
    {
     "name": "stdout",
     "output_type": "stream",
     "text": [
      "              precision    recall  f1-score   support\n",
      "\n",
      "           1       0.98      0.97      0.98       755\n",
      "           2       0.98      0.97      0.97      1597\n",
      "           3       0.95      0.99      0.97      1209\n",
      "           4       1.00      0.99      1.00      5996\n",
      "\n",
      "    accuracy                           0.99      9557\n",
      "   macro avg       0.97      0.98      0.98      9557\n",
      "weighted avg       0.99      0.99      0.99      9557\n",
      "\n"
     ]
    }
   ],
   "source": [
    "from sklearn.metrics import classification_report\n",
    "print(classification_report(y, preds))"
   ]
  },
  {
   "cell_type": "code",
   "execution_count": 36,
   "metadata": {
    "colab": {
     "base_uri": "https://localhost:8080/",
     "height": 85
    },
    "colab_type": "code",
    "id": "Gp12h6SVU_vb",
    "outputId": "e300475c-cc7b-4790-b057-d46d5de078f2"
   },
   "outputs": [
    {
     "name": "stdout",
     "output_type": "stream",
     "text": [
      "[[ 736   18    0    1]\n",
      " [  16 1544   33    4]\n",
      " [   0    6 1197    6]\n",
      " [   2    9   35 5950]]\n"
     ]
    }
   ],
   "source": [
    "from sklearn.metrics import confusion_matrix\n",
    "print(confusion_matrix(y, preds))"
   ]
  },
  {
   "cell_type": "code",
   "execution_count": 37,
   "metadata": {
    "colab": {
     "base_uri": "https://localhost:8080/",
     "height": 170
    },
    "colab_type": "code",
    "id": "VUxSftkWU_sq",
    "outputId": "de565d12-823f-4898-8376-20ba91fe127c"
   },
   "outputs": [
    {
     "name": "stdout",
     "output_type": "stream",
     "text": [
      "{'n_estimators': 54}\n",
      "0.6302186878727635\n",
      "RandomForestClassifier(bootstrap=True, class_weight='balanced_subsample',\n",
      "                       criterion='gini', max_depth=None, max_features='sqrt',\n",
      "                       max_leaf_nodes=None, min_impurity_decrease=0.0,\n",
      "                       min_impurity_split=None, min_samples_leaf=3,\n",
      "                       min_samples_split=2, min_weight_fraction_leaf=0.0,\n",
      "                       n_estimators=54, n_jobs=-1, oob_score=False,\n",
      "                       random_state=None, verbose=0, warm_start=False)\n"
     ]
    }
   ],
   "source": [
    "print(gs.best_params_)\n",
    "print(gs.best_score_)\n",
    "print(gs.best_estimator_)"
   ]
  },
  {
   "cell_type": "code",
   "execution_count": 38,
   "metadata": {
    "colab": {
     "base_uri": "https://localhost:8080/",
     "height": 374
    },
    "colab_type": "code",
    "id": "VACondojU_p5",
    "outputId": "13e2dd9e-9d6e-431c-d57a-35616134982f"
   },
   "outputs": [
    {
     "name": "stdout",
     "output_type": "stream",
     "text": [
      "0.7875775073095224 {'n_estimators': 40}\n",
      "0.7901639757081144 {'n_estimators': 41}\n",
      "0.7882415134196364 {'n_estimators': 42}\n",
      "0.7910242524742912 {'n_estimators': 43}\n",
      "0.7935994874554066 {'n_estimators': 44}\n",
      "0.7865804471461157 {'n_estimators': 45}\n",
      "0.7855821215158134 {'n_estimators': 46}\n",
      "0.7884406062066681 {'n_estimators': 47}\n",
      "0.7916853677192155 {'n_estimators': 48}\n",
      "0.7898328505308921 {'n_estimators': 49}\n",
      "0.7883078832689032 {'n_estimators': 50}\n",
      "0.7904287759755035 {'n_estimators': 51}\n",
      "0.7885733068061447 {'n_estimators': 52}\n",
      "0.7897003615841358 {'n_estimators': 53}\n",
      "0.7938631417774499 {'n_estimators': 54}\n",
      "0.7877767679091204 {'n_estimators': 55}\n",
      "0.7902963869324554 {'n_estimators': 56}\n",
      "0.7839821562673545 {'n_estimators': 57}\n",
      "0.7937972364067184 {'n_estimators': 58}\n",
      "0.7899653172572795 {'n_estimators': 59}\n",
      "0.7935335601873839 {'n_estimators': 60}\n"
     ]
    }
   ],
   "source": [
    "cvres = gs.cv_results_\n",
    "for mean_score, params in zip(cvres[\"mean_test_score\"], cvres[\"params\"]):\n",
    "    print(np.sqrt(mean_score), params)"
   ]
  },
  {
   "cell_type": "code",
   "execution_count": 0,
   "metadata": {
    "colab": {},
    "colab_type": "code",
    "id": "8sXhqb7GU_na"
   },
   "outputs": [],
   "source": []
  },
  {
   "cell_type": "code",
   "execution_count": 0,
   "metadata": {
    "colab": {},
    "colab_type": "code",
    "id": "hoCGHnavU_kk"
   },
   "outputs": [],
   "source": []
  }
 ],
 "metadata": {
  "colab": {
   "collapsed_sections": [],
   "include_colab_link": true,
   "name": "Welcome To Colaboratory",
   "provenance": [],
   "version": "0.3.2"
  },
  "kernelspec": {
   "display_name": "Python 3",
   "language": "python",
   "name": "python3"
  },
  "language_info": {
   "codemirror_mode": {
    "name": "ipython",
    "version": 3
   },
   "file_extension": ".py",
   "mimetype": "text/x-python",
   "name": "python",
   "nbconvert_exporter": "python",
   "pygments_lexer": "ipython3",
   "version": "3.7.4"
  }
 },
 "nbformat": 4,
 "nbformat_minor": 1
}
